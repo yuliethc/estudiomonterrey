{
 "cells": [
  {
   "cell_type": "code",
   "metadata": {
    "tags": [],
    "cell_id": "1418b6b3-480d-458b-9c45-b06434bbc948",
    "deepnote_to_be_reexecuted": false,
    "source_hash": "9b82ee11",
    "execution_start": 1645990792683,
    "execution_millis": 2,
    "deepnote_cell_type": "code"
   },
   "source": "import pandas as pd",
   "execution_count": 2,
   "outputs": []
  },
  {
   "cell_type": "code",
   "metadata": {
    "cell_id": "0e91ce15-3448-4259-8881-2751f0ab127d",
    "tags": [],
    "deepnote_to_be_reexecuted": false,
    "source_hash": "940d9554",
    "execution_start": 1645990796706,
    "execution_millis": 2,
    "deepnote_cell_type": "code"
   },
   "source": "import os",
   "execution_count": 3,
   "outputs": []
  },
  {
   "cell_type": "code",
   "metadata": {
    "cell_id": "6d377cae-dc8b-4e11-837e-4be0ff137821",
    "tags": [],
    "deepnote_to_be_reexecuted": false,
    "source_hash": "3c0db3df",
    "execution_start": 1645990798869,
    "execution_millis": 2,
    "deepnote_cell_type": "code"
   },
   "source": "os.chdir('..')",
   "execution_count": 4,
   "outputs": []
  },
  {
   "cell_type": "code",
   "metadata": {
    "cell_id": "03643e1c-b3a7-488f-8c73-794e38bd758f",
    "tags": [],
    "deepnote_to_be_reexecuted": false,
    "source_hash": "ad8f3ca4",
    "execution_start": 1645990803808,
    "execution_millis": 601,
    "deepnote_cell_type": "code"
   },
   "source": "!ls",
   "execution_count": 5,
   "outputs": [
    {
     "name": "stdout",
     "text": "12_DICIEMBRE_2020.xlsx\tnotebooks  README.md  requirements.txt\r\n",
     "output_type": "stream"
    }
   ]
  },
  {
   "cell_type": "code",
   "source": "def dataframe_excel_sheet(file, sheet, rows_skip):\n    df=pd.read_excel(file, sheet_name=sheet, skiprows=rows_skip)\n    df['SHEET']=sheet\n    return df",
   "metadata": {
    "cell_id": "e797a58f-b64f-4249-9b9c-4fd355e6a746",
    "tags": [],
    "deepnote_to_be_reexecuted": false,
    "source_hash": "f7edbc1f",
    "execution_start": 1645991126220,
    "execution_millis": 1,
    "deepnote_cell_type": "code"
   },
   "outputs": [],
   "execution_count": 20
  },
  {
   "cell_type": "code",
   "source": "df_servicios_profesionales=dataframe_excel_sheet('12_DICIEMBRE_2020.xlsx', 'SERV PPROF', 5)\ndf_servicios_profesionales",
   "metadata": {
    "cell_id": "3953685b-0742-4b36-ab66-5a6deb609325",
    "tags": [],
    "deepnote_to_be_reexecuted": false,
    "source_hash": "ea70641a",
    "execution_start": 1645991081781,
    "execution_millis": 261,
    "deepnote_cell_type": "code"
   },
   "outputs": [
    {
     "output_type": "execute_result",
     "execution_count": 19,
     "data": {
      "application/vnd.deepnote.dataframe.v3+json": {
       "column_count": 11,
       "row_count": 17,
       "columns": [
        {
         "name": "NUM BEN",
         "dtype": "object",
         "stats": {
          "unique_count": 16,
          "nan_count": 0,
          "categories": [
           {
            "name": "115600",
            "count": 2
           },
           {
            "name": "Total 115600",
            "count": 1
           },
           {
            "name": "14 others",
            "count": 14
           }
          ]
         }
        },
        {
         "name": "BENEFICIARIO",
         "dtype": "object",
         "stats": {
          "unique_count": 8,
          "nan_count": 8,
          "categories": [
           {
            "name": "UNIVERSIDAD REGIOMONTANA, A.C.",
            "count": 2
           },
           {
            "name": "7 others",
            "count": 7
           },
           {
            "name": "Missing",
            "count": 8
           }
          ]
         }
        },
        {
         "name": "RFC",
         "dtype": "object",
         "stats": {
          "unique_count": 8,
          "nan_count": 8,
          "categories": [
           {
            "name": "URE740701IQ1",
            "count": 2
           },
           {
            "name": "7 others",
            "count": 7
           },
           {
            "name": "Missing",
            "count": 8
           }
          ]
         }
        },
        {
         "name": "FACTURA",
         "dtype": "object",
         "stats": {
          "unique_count": 9,
          "nan_count": 8,
          "categories": [
           {
            "name": "E8220-158003-4923",
            "count": 1
           },
           {
            "name": "8 others",
            "count": 8
           },
           {
            "name": "Missing",
            "count": 8
           }
          ]
         }
        },
        {
         "name": "CONTRATO",
         "dtype": "object",
         "stats": {
          "unique_count": 8,
          "nan_count": 8,
          "categories": [
           {
            "name": "SCO-022-2020",
            "count": 2
           },
           {
            "name": "7 others",
            "count": 7
           },
           {
            "name": "Missing",
            "count": 8
           }
          ]
         }
        },
        {
         "name": "CONCEPTO",
         "dtype": "object",
         "stats": {
          "unique_count": 9,
          "nan_count": 8,
          "categories": [
           {
            "name": "50% DE EVALUACIONES DEL DESEMPEÑO DE FISM, FODEMUN, TARJETA REGIA Y UTILES UTILES PARA EL EJERCICIO FISCAL 2019, CONTRALORIA, AGOSTO 2020",
            "count": 1
           },
           {
            "name": "8 others",
            "count": 8
           },
           {
            "name": "Missing",
            "count": 8
           }
          ]
         }
        },
        {
         "name": "TIPO",
         "dtype": "object",
         "stats": {
          "unique_count": 1,
          "nan_count": 8,
          "categories": [
           {
            "name": "TR",
            "count": 9
           },
           {
            "name": "Missing",
            "count": 8
           }
          ]
         }
        },
        {
         "name": "# OP",
         "dtype": "float64",
         "stats": {
          "unique_count": 8,
          "nan_count": 8,
          "min": "1019064.0",
          "max": "299001465.0",
          "histogram": [
           {
            "bin_start": 1019064,
            "bin_end": 30817304.1,
            "count": 6
           },
           {
            "bin_start": 30817304.1,
            "bin_end": 60615544.2,
            "count": 0
           },
           {
            "bin_start": 60615544.2,
            "bin_end": 90413784.30000001,
            "count": 0
           },
           {
            "bin_start": 90413784.30000001,
            "bin_end": 120212024.4,
            "count": 0
           },
           {
            "bin_start": 120212024.4,
            "bin_end": 150010264.5,
            "count": 0
           },
           {
            "bin_start": 150010264.5,
            "bin_end": 179808504.60000002,
            "count": 0
           },
           {
            "bin_start": 179808504.60000002,
            "bin_end": 209606744.70000002,
            "count": 0
           },
           {
            "bin_start": 209606744.70000002,
            "bin_end": 239404984.8,
            "count": 0
           },
           {
            "bin_start": 239404984.8,
            "bin_end": 269203224.9,
            "count": 0
           },
           {
            "bin_start": 269203224.9,
            "bin_end": 299001465,
            "count": 3
           }
          ]
         }
        },
        {
         "name": "FECHA",
         "dtype": "datetime64[ns]",
         "stats": {
          "unique_count": 4,
          "nan_count": 8,
          "min": "2020-12-04 00:00:00",
          "max": "2020-12-23 00:00:00",
          "histogram": [
           {
            "bin_start": 1607040000000000000,
            "bin_end": 1607204160000000000,
            "count": 3
           },
           {
            "bin_start": 1607204160000000000,
            "bin_end": 1607368320000000000,
            "count": 0
           },
           {
            "bin_start": 1607368320000000000,
            "bin_end": 1607532480000000000,
            "count": 0
           },
           {
            "bin_start": 1607532480000000000,
            "bin_end": 1607696640000000000,
            "count": 4
           },
           {
            "bin_start": 1607696640000000000,
            "bin_end": 1607860800000000000,
            "count": 0
           },
           {
            "bin_start": 1607860800000000000,
            "bin_end": 1608024960000000000,
            "count": 0
           },
           {
            "bin_start": 1608024960000000000,
            "bin_end": 1608189120000000000,
            "count": 0
           },
           {
            "bin_start": 1608189120000000000,
            "bin_end": 1608353280000000000,
            "count": 1
           },
           {
            "bin_start": 1608353280000000000,
            "bin_end": 1608517440000000000,
            "count": 0
           },
           {
            "bin_start": 1608517440000000000,
            "bin_end": 1608681600000000000,
            "count": 1
           }
          ]
         }
        },
        {
         "name": "IMPORTE",
         "dtype": "float64",
         "stats": {
          "unique_count": 9,
          "nan_count": 0,
          "min": "1851.82",
          "max": "695040.0",
          "histogram": [
           {
            "bin_start": 1851.82,
            "bin_end": 71170.638,
            "count": 6
           },
           {
            "bin_start": 71170.638,
            "bin_end": 140489.456,
            "count": 0
           },
           {
            "bin_start": 140489.456,
            "bin_end": 209808.274,
            "count": 0
           },
           {
            "bin_start": 209808.274,
            "bin_end": 279127.092,
            "count": 4
           },
           {
            "bin_start": 279127.092,
            "bin_end": 348445.91,
            "count": 2
           },
           {
            "bin_start": 348445.91,
            "bin_end": 417764.728,
            "count": 2
           },
           {
            "bin_start": 417764.728,
            "bin_end": 487083.54600000003,
            "count": 2
           },
           {
            "bin_start": 487083.54600000003,
            "bin_end": 556402.364,
            "count": 0
           },
           {
            "bin_start": 556402.364,
            "bin_end": 625721.1819999999,
            "count": 0
           },
           {
            "bin_start": 625721.1819999999,
            "bin_end": 695040,
            "count": 1
           }
          ]
         }
        },
        {
         "name": "SHEET",
         "dtype": "object",
         "stats": {
          "unique_count": 1,
          "nan_count": 0,
          "categories": [
           {
            "name": "SERV PPROF",
            "count": 17
           }
          ]
         }
        },
        {
         "name": "_deepnote_index_column",
         "dtype": "int64"
        }
       ],
       "rows": [
        {
         "NUM BEN": "115600",
         "BENEFICIARIO": "UNIVERSIDAD REGIOMONTANA, A.C.",
         "RFC": "URE740701IQ1",
         "FACTURA": "E8220-158003-4923",
         "CONTRATO": "SCO-022-2020",
         "CONCEPTO": "50% DE EVALUACIONES DEL DESEMPEÑO DE FISM, FODEMUN, TARJETA REGIA Y UTILES UTILES PARA EL EJERCICIO…",
         "TIPO": "TR",
         "# OP": 1019064,
         "FECHA": "2020-12-04 00:00:00",
         "IMPORTE": 347520,
         "SHEET": "SERV PPROF",
         "_deepnote_index_column": 0
        },
        {
         "NUM BEN": "115600",
         "BENEFICIARIO": "UNIVERSIDAD REGIOMONTANA, A.C.",
         "RFC": "URE740701IQ1",
         "FACTURA": "E8340-158003-4924",
         "CONTRATO": "SCO-022-2020",
         "CONCEPTO": "50% RESTANTE DE EVALUACIONES DEL DESEMPEÑO DE FISM, FODEMUN, TARJETA REGIA Y UTILES UTILES PARA EL …",
         "TIPO": "TR",
         "# OP": 1019064,
         "FECHA": "2020-12-04 00:00:00",
         "IMPORTE": 347520,
         "SHEET": "SERV PPROF",
         "_deepnote_index_column": 1
        },
        {
         "NUM BEN": "Total 115600",
         "BENEFICIARIO": "nan",
         "RFC": "nan",
         "FACTURA": "nan",
         "CONTRATO": "nan",
         "CONCEPTO": "nan",
         "TIPO": "nan",
         "# OP": "nan",
         "FECHA": "NaT",
         "IMPORTE": 695040,
         "SHEET": "SERV PPROF",
         "_deepnote_index_column": 2
        },
        {
         "NUM BEN": "115764",
         "BENEFICIARIO": "ZAPATA CHAVIRA HOMERO ARTURO",
         "RFC": "ZACH610425AN7",
         "FACTURA": "357-158003-5285",
         "CONTRATO": "SAD-595-2020",
         "CONCEPTO": "HONORARIOS MEDICOS ESPECIALIDAD EN CIRUGIA LAPAROSCOPICA Y VASCULAR PERIFERICA (SEPTIEMBRE Y OCTUBR…",
         "TIPO": "TR",
         "# OP": 299001427,
         "FECHA": "2020-12-11 00:00:00",
         "IMPORTE": 28350,
         "SHEET": "SERV PPROF",
         "_deepnote_index_column": 3
        },
        {
         "NUM BEN": "Total 115764",
         "BENEFICIARIO": "nan",
         "RFC": "nan",
         "FACTURA": "nan",
         "CONTRATO": "nan",
         "CONCEPTO": "nan",
         "TIPO": "nan",
         "# OP": "nan",
         "FECHA": "NaT",
         "IMPORTE": 28350,
         "SHEET": "SERV PPROF",
         "_deepnote_index_column": 4
        },
        {
         "NUM BEN": "116082",
         "BENEFICIARIO": "ORTEGA VAZQUEZ ANDRES JAIME",
         "RFC": "OEVA650826UC5",
         "FACTURA": "B1101-158003-4708",
         "CONTRATO": "SAD-597-2020",
         "CONCEPTO": "HONORARIOS MEDICOS ESPECIALIDAD EN HEMATOLOGIA (SEPTIEMBRE 2020), RAMO 28",
         "TIPO": "TR",
         "# OP": 299001431,
         "FECHA": "2020-12-11 00:00:00",
         "IMPORTE": 50715,
         "SHEET": "SERV PPROF",
         "_deepnote_index_column": 5
        },
        {
         "NUM BEN": "Total 116082",
         "BENEFICIARIO": "nan",
         "RFC": "nan",
         "FACTURA": "nan",
         "CONTRATO": "nan",
         "CONCEPTO": "nan",
         "TIPO": "nan",
         "# OP": "nan",
         "FECHA": "NaT",
         "IMPORTE": 50715,
         "SHEET": "SERV PPROF",
         "_deepnote_index_column": 6
        },
        {
         "NUM BEN": "116115",
         "BENEFICIARIO": "INTEGRACION TECNOLOGICA FISCAL, S. DE RL DE C.V.",
         "RFC": "ITF120426V59",
         "FACTURA": "4616-158003-5059",
         "CONTRATO": "TES-205-2019",
         "CONCEPTO": "PRESTACION DE SERVICIOS DE TIMBRADO DE RECIBOS DE NOMINA Y FACTURACION FISCAL DIGITAL (OCTUBRE 2020)",
         "TIPO": "TR",
         "# OP": 1019123,
         "FECHA": "2020-12-11 00:00:00",
         "IMPORTE": 418372.68,
         "SHEET": "SERV PPROF",
         "_deepnote_index_column": 7
        },
        {
         "NUM BEN": "Total 116115",
         "BENEFICIARIO": "nan",
         "RFC": "nan",
         "FACTURA": "nan",
         "CONTRATO": "nan",
         "CONCEPTO": "nan",
         "TIPO": "nan",
         "# OP": "nan",
         "FECHA": "NaT",
         "IMPORTE": 418372.68,
         "SHEET": "SERV PPROF",
         "_deepnote_index_column": 8
        },
        {
         "NUM BEN": "318432",
         "BENEFICIARIO": "GOBIERNO DEL ESTADO DE DURANGO",
         "RFC": "GED620101652",
         "FACTURA": "39773-158003-5864",
         "CONTRATO": "SPP-351-2020",
         "CONCEPTO": "SERVICIOS DE CAPACITACION FORMACION CONTINUA, \"FORMACION DE MANDOS\", PARA ELEMENTOS DE LA SRIA. DE …",
         "TIPO": "TR",
         "# OP": 1019184,
         "FECHA": "2020-12-23 00:00:00",
         "IMPORTE": 390000,
         "SHEET": "SERV PPROF",
         "_deepnote_index_column": 9
        }
       ]
      },
      "text/plain": "         NUM BEN                                      BENEFICIARIO  \\\n0         115600                    UNIVERSIDAD REGIOMONTANA, A.C.   \n1         115600                    UNIVERSIDAD REGIOMONTANA, A.C.   \n2   Total 115600                                               NaN   \n3         115764                      ZAPATA CHAVIRA HOMERO ARTURO   \n4   Total 115764                                               NaN   \n5         116082                       ORTEGA VAZQUEZ ANDRES JAIME   \n6   Total 116082                                               NaN   \n7         116115  INTEGRACION TECNOLOGICA FISCAL, S. DE RL DE C.V.   \n8   Total 116115                                               NaN   \n9         318432                    GOBIERNO DEL ESTADO DE DURANGO   \n10  Total 318432                                               NaN   \n11        318440           MANAGEMENT TECHNOLOGY INNOVATIONS, S.C.   \n12  Total 318440                                               NaN   \n13        318462                       G&B SOLUTIONS, S.A. DE C.V.   \n14  Total 318462                                               NaN   \n15        318575                              VELEZ VALDES ALBERTO   \n16  Total 318575                                               NaN   \n\n              RFC             FACTURA          CONTRATO  \\\n0    URE740701IQ1   E8220-158003-4923      SCO-022-2020   \n1    URE740701IQ1   E8340-158003-4924      SCO-022-2020   \n2             NaN                 NaN               NaN   \n3   ZACH610425AN7     357-158003-5285      SAD-595-2020   \n4             NaN                 NaN               NaN   \n5   OEVA650826UC5   B1101-158003-4708      SAD-597-2020   \n6             NaN                 NaN               NaN   \n7    ITF120426V59    4616-158003-5059      TES-205-2019   \n8             NaN                 NaN               NaN   \n9    GED620101652   39773-158003-5864      SPP-351-2020   \n10            NaN                 NaN               NaN   \n11   MTI9903168V8   MTY26-158003-5269      SAD-588-2020   \n12            NaN                 NaN               NaN   \n13   GSO0804225P4  A 4450-158003-5340  SADA/CC/045/2020   \n14            NaN                 NaN               NaN   \n15  VEVA9307273G3     A20-158003-4920      SCO-020-2020   \n16            NaN                 NaN               NaN   \n\n                                             CONCEPTO TIPO         # OP  \\\n0   50% DE EVALUACIONES DEL DESEMPEÑO DE FISM, FOD...   TR    1019064.0   \n1   50% RESTANTE DE EVALUACIONES DEL DESEMPEÑO DE ...   TR    1019064.0   \n2                                                 NaN  NaN          NaN   \n3   HONORARIOS MEDICOS ESPECIALIDAD EN CIRUGIA LAP...   TR  299001427.0   \n4                                                 NaN  NaN          NaN   \n5   HONORARIOS MEDICOS ESPECIALIDAD EN HEMATOLOGIA...   TR  299001431.0   \n6                                                 NaN  NaN          NaN   \n7   PRESTACION DE SERVICIOS DE TIMBRADO DE RECIBOS...   TR    1019123.0   \n8                                                 NaN  NaN          NaN   \n9   SERVICIOS DE CAPACITACION FORMACION CONTINUA, ...   TR    1019184.0   \n10                                                NaN  NaN          NaN   \n11  SOPORTE (REMOTO) AL SISTEMA REGER-GRP DEL MES ...   TR    1019071.0   \n12                                                NaN  NaN          NaN   \n13  PRESTACION DE SERVICIOS PARA EL DESARROLLO DE ...   TR  299001465.0   \n14                                                NaN  NaN          NaN   \n15  EVALUACIONES DEL DESEMPEÑO DE FORTASEG, FORTAM...   TR    1019119.0   \n16                                                NaN  NaN          NaN   \n\n        FECHA    IMPORTE       SHEET  \n0  2020-12-04  347520.00  SERV PPROF  \n1  2020-12-04  347520.00  SERV PPROF  \n2         NaT  695040.00  SERV PPROF  \n3  2020-12-11   28350.00  SERV PPROF  \n4         NaT   28350.00  SERV PPROF  \n5  2020-12-11   50715.00  SERV PPROF  \n6         NaT   50715.00  SERV PPROF  \n7  2020-12-11  418372.68  SERV PPROF  \n8         NaT  418372.68  SERV PPROF  \n9  2020-12-23  390000.00  SERV PPROF  \n10        NaT  390000.00  SERV PPROF  \n11 2020-12-04  250000.00  SERV PPROF  \n12        NaT  250000.00  SERV PPROF  \n13 2020-12-18    1851.82  SERV PPROF  \n14        NaT    1851.82  SERV PPROF  \n15 2020-12-11  232000.00  SERV PPROF  \n16        NaT  232000.00  SERV PPROF  ",
      "text/html": "<div>\n<style scoped>\n    .dataframe tbody tr th:only-of-type {\n        vertical-align: middle;\n    }\n\n    .dataframe tbody tr th {\n        vertical-align: top;\n    }\n\n    .dataframe thead th {\n        text-align: right;\n    }\n</style>\n<table border=\"1\" class=\"dataframe\">\n  <thead>\n    <tr style=\"text-align: right;\">\n      <th></th>\n      <th>NUM BEN</th>\n      <th>BENEFICIARIO</th>\n      <th>RFC</th>\n      <th>FACTURA</th>\n      <th>CONTRATO</th>\n      <th>CONCEPTO</th>\n      <th>TIPO</th>\n      <th># OP</th>\n      <th>FECHA</th>\n      <th>IMPORTE</th>\n      <th>SHEET</th>\n    </tr>\n  </thead>\n  <tbody>\n    <tr>\n      <th>0</th>\n      <td>115600</td>\n      <td>UNIVERSIDAD REGIOMONTANA, A.C.</td>\n      <td>URE740701IQ1</td>\n      <td>E8220-158003-4923</td>\n      <td>SCO-022-2020</td>\n      <td>50% DE EVALUACIONES DEL DESEMPEÑO DE FISM, FOD...</td>\n      <td>TR</td>\n      <td>1019064.0</td>\n      <td>2020-12-04</td>\n      <td>347520.00</td>\n      <td>SERV PPROF</td>\n    </tr>\n    <tr>\n      <th>1</th>\n      <td>115600</td>\n      <td>UNIVERSIDAD REGIOMONTANA, A.C.</td>\n      <td>URE740701IQ1</td>\n      <td>E8340-158003-4924</td>\n      <td>SCO-022-2020</td>\n      <td>50% RESTANTE DE EVALUACIONES DEL DESEMPEÑO DE ...</td>\n      <td>TR</td>\n      <td>1019064.0</td>\n      <td>2020-12-04</td>\n      <td>347520.00</td>\n      <td>SERV PPROF</td>\n    </tr>\n    <tr>\n      <th>2</th>\n      <td>Total 115600</td>\n      <td>NaN</td>\n      <td>NaN</td>\n      <td>NaN</td>\n      <td>NaN</td>\n      <td>NaN</td>\n      <td>NaN</td>\n      <td>NaN</td>\n      <td>NaT</td>\n      <td>695040.00</td>\n      <td>SERV PPROF</td>\n    </tr>\n    <tr>\n      <th>3</th>\n      <td>115764</td>\n      <td>ZAPATA CHAVIRA HOMERO ARTURO</td>\n      <td>ZACH610425AN7</td>\n      <td>357-158003-5285</td>\n      <td>SAD-595-2020</td>\n      <td>HONORARIOS MEDICOS ESPECIALIDAD EN CIRUGIA LAP...</td>\n      <td>TR</td>\n      <td>299001427.0</td>\n      <td>2020-12-11</td>\n      <td>28350.00</td>\n      <td>SERV PPROF</td>\n    </tr>\n    <tr>\n      <th>4</th>\n      <td>Total 115764</td>\n      <td>NaN</td>\n      <td>NaN</td>\n      <td>NaN</td>\n      <td>NaN</td>\n      <td>NaN</td>\n      <td>NaN</td>\n      <td>NaN</td>\n      <td>NaT</td>\n      <td>28350.00</td>\n      <td>SERV PPROF</td>\n    </tr>\n    <tr>\n      <th>5</th>\n      <td>116082</td>\n      <td>ORTEGA VAZQUEZ ANDRES JAIME</td>\n      <td>OEVA650826UC5</td>\n      <td>B1101-158003-4708</td>\n      <td>SAD-597-2020</td>\n      <td>HONORARIOS MEDICOS ESPECIALIDAD EN HEMATOLOGIA...</td>\n      <td>TR</td>\n      <td>299001431.0</td>\n      <td>2020-12-11</td>\n      <td>50715.00</td>\n      <td>SERV PPROF</td>\n    </tr>\n    <tr>\n      <th>6</th>\n      <td>Total 116082</td>\n      <td>NaN</td>\n      <td>NaN</td>\n      <td>NaN</td>\n      <td>NaN</td>\n      <td>NaN</td>\n      <td>NaN</td>\n      <td>NaN</td>\n      <td>NaT</td>\n      <td>50715.00</td>\n      <td>SERV PPROF</td>\n    </tr>\n    <tr>\n      <th>7</th>\n      <td>116115</td>\n      <td>INTEGRACION TECNOLOGICA FISCAL, S. DE RL DE C.V.</td>\n      <td>ITF120426V59</td>\n      <td>4616-158003-5059</td>\n      <td>TES-205-2019</td>\n      <td>PRESTACION DE SERVICIOS DE TIMBRADO DE RECIBOS...</td>\n      <td>TR</td>\n      <td>1019123.0</td>\n      <td>2020-12-11</td>\n      <td>418372.68</td>\n      <td>SERV PPROF</td>\n    </tr>\n    <tr>\n      <th>8</th>\n      <td>Total 116115</td>\n      <td>NaN</td>\n      <td>NaN</td>\n      <td>NaN</td>\n      <td>NaN</td>\n      <td>NaN</td>\n      <td>NaN</td>\n      <td>NaN</td>\n      <td>NaT</td>\n      <td>418372.68</td>\n      <td>SERV PPROF</td>\n    </tr>\n    <tr>\n      <th>9</th>\n      <td>318432</td>\n      <td>GOBIERNO DEL ESTADO DE DURANGO</td>\n      <td>GED620101652</td>\n      <td>39773-158003-5864</td>\n      <td>SPP-351-2020</td>\n      <td>SERVICIOS DE CAPACITACION FORMACION CONTINUA, ...</td>\n      <td>TR</td>\n      <td>1019184.0</td>\n      <td>2020-12-23</td>\n      <td>390000.00</td>\n      <td>SERV PPROF</td>\n    </tr>\n    <tr>\n      <th>10</th>\n      <td>Total 318432</td>\n      <td>NaN</td>\n      <td>NaN</td>\n      <td>NaN</td>\n      <td>NaN</td>\n      <td>NaN</td>\n      <td>NaN</td>\n      <td>NaN</td>\n      <td>NaT</td>\n      <td>390000.00</td>\n      <td>SERV PPROF</td>\n    </tr>\n    <tr>\n      <th>11</th>\n      <td>318440</td>\n      <td>MANAGEMENT TECHNOLOGY INNOVATIONS, S.C.</td>\n      <td>MTI9903168V8</td>\n      <td>MTY26-158003-5269</td>\n      <td>SAD-588-2020</td>\n      <td>SOPORTE (REMOTO) AL SISTEMA REGER-GRP DEL MES ...</td>\n      <td>TR</td>\n      <td>1019071.0</td>\n      <td>2020-12-04</td>\n      <td>250000.00</td>\n      <td>SERV PPROF</td>\n    </tr>\n    <tr>\n      <th>12</th>\n      <td>Total 318440</td>\n      <td>NaN</td>\n      <td>NaN</td>\n      <td>NaN</td>\n      <td>NaN</td>\n      <td>NaN</td>\n      <td>NaN</td>\n      <td>NaN</td>\n      <td>NaT</td>\n      <td>250000.00</td>\n      <td>SERV PPROF</td>\n    </tr>\n    <tr>\n      <th>13</th>\n      <td>318462</td>\n      <td>G&amp;B SOLUTIONS, S.A. DE C.V.</td>\n      <td>GSO0804225P4</td>\n      <td>A 4450-158003-5340</td>\n      <td>SADA/CC/045/2020</td>\n      <td>PRESTACION DE SERVICIOS PARA EL DESARROLLO DE ...</td>\n      <td>TR</td>\n      <td>299001465.0</td>\n      <td>2020-12-18</td>\n      <td>1851.82</td>\n      <td>SERV PPROF</td>\n    </tr>\n    <tr>\n      <th>14</th>\n      <td>Total 318462</td>\n      <td>NaN</td>\n      <td>NaN</td>\n      <td>NaN</td>\n      <td>NaN</td>\n      <td>NaN</td>\n      <td>NaN</td>\n      <td>NaN</td>\n      <td>NaT</td>\n      <td>1851.82</td>\n      <td>SERV PPROF</td>\n    </tr>\n    <tr>\n      <th>15</th>\n      <td>318575</td>\n      <td>VELEZ VALDES ALBERTO</td>\n      <td>VEVA9307273G3</td>\n      <td>A20-158003-4920</td>\n      <td>SCO-020-2020</td>\n      <td>EVALUACIONES DEL DESEMPEÑO DE FORTASEG, FORTAM...</td>\n      <td>TR</td>\n      <td>1019119.0</td>\n      <td>2020-12-11</td>\n      <td>232000.00</td>\n      <td>SERV PPROF</td>\n    </tr>\n    <tr>\n      <th>16</th>\n      <td>Total 318575</td>\n      <td>NaN</td>\n      <td>NaN</td>\n      <td>NaN</td>\n      <td>NaN</td>\n      <td>NaN</td>\n      <td>NaN</td>\n      <td>NaN</td>\n      <td>NaT</td>\n      <td>232000.00</td>\n      <td>SERV PPROF</td>\n    </tr>\n  </tbody>\n</table>\n</div>"
     },
     "metadata": {}
    }
   ],
   "execution_count": 19
  },
  {
   "cell_type": "code",
   "source": "df_servicios_personales=dataframe_excel_sheet('12_DICIEMBRE_2020.xlsx', 'SERV. PERS.', 5)\ndf_servicios_personales",
   "metadata": {
    "cell_id": "00006-70f28af8-d5be-4271-b856-27005c1172de",
    "tags": [],
    "deepnote_to_be_reexecuted": false,
    "source_hash": "3138e1ae",
    "allow_embed": false,
    "execution_start": 1645991452266,
    "execution_millis": 360,
    "deepnote_cell_type": "code"
   },
   "outputs": [
    {
     "output_type": "execute_result",
     "execution_count": 24,
     "data": {
      "application/vnd.deepnote.dataframe.v3+json": {
       "column_count": 11,
       "row_count": 48,
       "columns": [
        {
         "name": "NUM BEN",
         "dtype": "object",
         "stats": {
          "unique_count": 4,
          "nan_count": 0,
          "categories": [
           {
            "name": "203013",
            "count": 24
           },
           {
            "name": "203016",
            "count": 22
           },
           {
            "name": "2 others",
            "count": 2
           }
          ]
         }
        },
        {
         "name": "BENEFICIARIO",
         "dtype": "object",
         "stats": {
          "unique_count": 30,
          "nan_count": 2,
          "categories": [
           {
            "name": "ARRIAGA PEREZ ROCIO JAZMIN",
            "count": 2
           },
           {
            "name": "29 others",
            "count": 44
           },
           {
            "name": "Missing",
            "count": 2
           }
          ]
         }
        },
        {
         "name": "RFC",
         "dtype": "object",
         "stats": {
          "unique_count": 30,
          "nan_count": 2,
          "categories": [
           {
            "name": "AIPR9204286E1",
            "count": 2
           },
           {
            "name": "29 others",
            "count": 44
           },
           {
            "name": "Missing",
            "count": 2
           }
          ]
         }
        },
        {
         "name": "FACTURA",
         "dtype": "object",
         "stats": {
          "unique_count": 46,
          "nan_count": 2,
          "categories": [
           {
            "name": "113710-158004-1714",
            "count": 1
           },
           {
            "name": "45 others",
            "count": 45
           },
           {
            "name": "Missing",
            "count": 2
           }
          ]
         }
        },
        {
         "name": "CONTRATO",
         "dtype": "object",
         "stats": {
          "unique_count": 1,
          "nan_count": 2,
          "categories": [
           {
            "name": "NO APLICA",
            "count": 46
           },
           {
            "name": "Missing",
            "count": 2
           }
          ]
         }
        },
        {
         "name": "CONCEPTO",
         "dtype": "object",
         "stats": {
          "unique_count": 46,
          "nan_count": 2,
          "categories": [
           {
            "name": "FINIQUITO 113710",
            "count": 1
           },
           {
            "name": "45 others",
            "count": 45
           },
           {
            "name": "Missing",
            "count": 2
           }
          ]
         }
        },
        {
         "name": "TIPO",
         "dtype": "object",
         "stats": {
          "unique_count": 1,
          "nan_count": 2,
          "categories": [
           {
            "name": "CH",
            "count": 46
           },
           {
            "name": "Missing",
            "count": 2
           }
          ]
         }
        },
        {
         "name": "# OP",
         "dtype": "float64",
         "stats": {
          "unique_count": 46,
          "nan_count": 2,
          "min": "1104555.0",
          "max": "299000193.0",
          "histogram": [
           {
            "bin_start": 1104555,
            "bin_end": 30894118.8,
            "count": 18
           },
           {
            "bin_start": 30894118.8,
            "bin_end": 60683682.6,
            "count": 0
           },
           {
            "bin_start": 60683682.6,
            "bin_end": 90473246.4,
            "count": 0
           },
           {
            "bin_start": 90473246.4,
            "bin_end": 120262810.2,
            "count": 0
           },
           {
            "bin_start": 120262810.2,
            "bin_end": 150052374,
            "count": 0
           },
           {
            "bin_start": 150052374,
            "bin_end": 179841937.8,
            "count": 0
           },
           {
            "bin_start": 179841937.8,
            "bin_end": 209631501.6,
            "count": 0
           },
           {
            "bin_start": 209631501.6,
            "bin_end": 239421065.4,
            "count": 0
           },
           {
            "bin_start": 239421065.4,
            "bin_end": 269210629.20000005,
            "count": 0
           },
           {
            "bin_start": 269210629.20000005,
            "bin_end": 299000193,
            "count": 28
           }
          ]
         }
        },
        {
         "name": "FECHA",
         "dtype": "datetime64[ns]",
         "stats": {
          "unique_count": 9,
          "nan_count": 2,
          "min": "2020-12-07 00:00:00",
          "max": "2020-12-21 00:00:00",
          "histogram": [
           {
            "bin_start": 1607299200000000000,
            "bin_end": 1607420160000000000,
            "count": 5
           },
           {
            "bin_start": 1607420160000000000,
            "bin_end": 1607541120000000000,
            "count": 0
           },
           {
            "bin_start": 1607541120000000000,
            "bin_end": 1607662080000000000,
            "count": 18
           },
           {
            "bin_start": 1607662080000000000,
            "bin_end": 1607783040000000000,
            "count": 0
           },
           {
            "bin_start": 1607783040000000000,
            "bin_end": 1607904000000000000,
            "count": 0
           },
           {
            "bin_start": 1607904000000000000,
            "bin_end": 1608024960000000000,
            "count": 4
           },
           {
            "bin_start": 1608024960000000000,
            "bin_end": 1608145920000000000,
            "count": 4
           },
           {
            "bin_start": 1608145920000000000,
            "bin_end": 1608266880000000000,
            "count": 4
           },
           {
            "bin_start": 1608266880000000000,
            "bin_end": 1608387840000000000,
            "count": 0
           },
           {
            "bin_start": 1608387840000000000,
            "bin_end": 1608508800000000000,
            "count": 11
           }
          ]
         }
        },
        {
         "name": "IMPORTE",
         "dtype": "float64",
         "stats": {
          "unique_count": 42,
          "nan_count": 0,
          "min": "1099.69",
          "max": "1948166.5599999994",
          "histogram": [
           {
            "bin_start": 1099.69,
            "bin_end": 195806.37699999995,
            "count": 44
           },
           {
            "bin_start": 195806.37699999995,
            "bin_end": 390513.0639999999,
            "count": 1
           },
           {
            "bin_start": 390513.0639999999,
            "bin_end": 585219.7509999998,
            "count": 1
           },
           {
            "bin_start": 585219.7509999998,
            "bin_end": 779926.4379999997,
            "count": 0
           },
           {
            "bin_start": 779926.4379999997,
            "bin_end": 974633.1249999997,
            "count": 1
           },
           {
            "bin_start": 974633.1249999997,
            "bin_end": 1169339.8119999997,
            "count": 0
           },
           {
            "bin_start": 1169339.8119999997,
            "bin_end": 1364046.4989999996,
            "count": 0
           },
           {
            "bin_start": 1364046.4989999996,
            "bin_end": 1558753.1859999995,
            "count": 0
           },
           {
            "bin_start": 1558753.1859999995,
            "bin_end": 1753459.8729999994,
            "count": 0
           },
           {
            "bin_start": 1753459.8729999994,
            "bin_end": 1948166.5599999994,
            "count": 1
           }
          ]
         }
        },
        {
         "name": "SHEET",
         "dtype": "object",
         "stats": {
          "unique_count": 1,
          "nan_count": 0,
          "categories": [
           {
            "name": "SERV. PERS.",
            "count": 48
           }
          ]
         }
        },
        {
         "name": "_deepnote_index_column",
         "dtype": "int64"
        }
       ],
       "rows": [
        {
         "NUM BEN": "203013",
         "BENEFICIARIO": "ARRIAGA PEREZ ROCIO JAZMIN",
         "RFC": "AIPR9204286E1",
         "FACTURA": "113710-158004-1714",
         "CONTRATO": "NO APLICA",
         "CONCEPTO": "FINIQUITO 113710",
         "TIPO": "CH",
         "# OP": 299000184,
         "FECHA": "2020-12-17T00:00:00.000000",
         "IMPORTE": 24797.96,
         "SHEET": "SERV. PERS.",
         "_deepnote_index_column": 0
        },
        {
         "NUM BEN": "203013",
         "BENEFICIARIO": "AYALA SALAZAR GABRIEL",
         "RFC": "AASG841003MUA",
         "FACTURA": "119488-158004-1692",
         "CONTRATO": "NO APLICA",
         "CONCEPTO": "FINIQUITO 119488",
         "TIPO": "CH",
         "# OP": 299000170,
         "FECHA": "2020-12-11T00:00:00.000000",
         "IMPORTE": 44602.65,
         "SHEET": "SERV. PERS.",
         "_deepnote_index_column": 1
        },
        {
         "NUM BEN": "203013",
         "BENEFICIARIO": "BRANDI ELGUEZABAL MARCELO",
         "RFC": "BAEM840706IW8",
         "FACTURA": "116321-158004-1728",
         "CONTRATO": "NO APLICA",
         "CONCEPTO": "FINIQUITO 116321",
         "TIPO": "CH",
         "# OP": 299000192,
         "FECHA": "2020-12-21T00:00:00.000000",
         "IMPORTE": 64941.95,
         "SHEET": "SERV. PERS.",
         "_deepnote_index_column": 2
        },
        {
         "NUM BEN": "203013",
         "BENEFICIARIO": "BRAVO GARZA CARLOS ALBERTO",
         "RFC": "BAGC710225DV6",
         "FACTURA": "110914-158004-1698",
         "CONTRATO": "NO APLICA",
         "CONCEPTO": "FINIQUITO 110914",
         "TIPO": "CH",
         "# OP": 299000166,
         "FECHA": "2020-12-11T00:00:00.000000",
         "IMPORTE": 77228.33,
         "SHEET": "SERV. PERS.",
         "_deepnote_index_column": 3
        },
        {
         "NUM BEN": "203013",
         "BENEFICIARIO": "BRAVO MENDOZA JOEL",
         "RFC": "BAMJ851218R50",
         "FACTURA": "110915-158004-1699",
         "CONTRATO": "NO APLICA",
         "CONCEPTO": "FINIQUITO  110915",
         "TIPO": "CH",
         "# OP": 299000173,
         "FECHA": "2020-12-11T00:00:00.000000",
         "IMPORTE": 42831.35,
         "SHEET": "SERV. PERS.",
         "_deepnote_index_column": 4
        },
        {
         "NUM BEN": "203013",
         "BENEFICIARIO": "CELEDONIO BECERRA JUAN MIGUEL",
         "RFC": "CEBJ840527C63",
         "FACTURA": "100369-158004-1716",
         "CONTRATO": "NO APLICA",
         "CONCEPTO": "JUICIO AMPARO 1340/2019",
         "TIPO": "CH",
         "# OP": 299000174,
         "FECHA": "2020-12-14T00:00:00.000000",
         "IMPORTE": 369233.81,
         "SHEET": "SERV. PERS.",
         "_deepnote_index_column": 5
        },
        {
         "NUM BEN": "203013",
         "BENEFICIARIO": "CORTES SANCHEZ VICTOR MANUEL",
         "RFC": "COSV990812NE2",
         "FACTURA": "117090-158004-1726",
         "CONTRATO": "NO APLICA",
         "CONCEPTO": "HONORARIOS ASIMILABLES A SUELDO 117090",
         "TIPO": "CH",
         "# OP": 299000193,
         "FECHA": "2020-12-21T00:00:00.000000",
         "IMPORTE": 1099.69,
         "SHEET": "SERV. PERS.",
         "_deepnote_index_column": 6
        },
        {
         "NUM BEN": "203013",
         "BENEFICIARIO": "GALVAN GUERRERO ANDRES",
         "RFC": "GAGA5909062L0",
         "FACTURA": "110400-158004-1693",
         "CONTRATO": "NO APLICA",
         "CONCEPTO": "FINIQUITO 110400",
         "TIPO": "CH",
         "# OP": 299000171,
         "FECHA": "2020-12-11T00:00:00.000000",
         "IMPORTE": 62981.59,
         "SHEET": "SERV. PERS.",
         "_deepnote_index_column": 7
        },
        {
         "NUM BEN": "203013",
         "BENEFICIARIO": "GAMEZ RODRIGUEZ PABLO",
         "RFC": "GARP6209284A6",
         "FACTURA": "110161-158004-1694",
         "CONTRATO": "NO APLICA",
         "CONCEPTO": "FINIQUITO 110161",
         "TIPO": "CH",
         "# OP": 299000172,
         "FECHA": "2020-12-11T00:00:00.000000",
         "IMPORTE": 71091.18,
         "SHEET": "SERV. PERS.",
         "_deepnote_index_column": 8
        },
        {
         "NUM BEN": "203013",
         "BENEFICIARIO": "GARCIA GONZALEZ ARTURO",
         "RFC": "GAGA940130GW9",
         "FACTURA": "119840-158004-1701",
         "CONTRATO": "NO APLICA",
         "CONCEPTO": "HONORARIOS ASIMILABLES A SUELDO  119840",
         "TIPO": "CH",
         "# OP": 299000167,
         "FECHA": "2020-12-11T00:00:00.000000",
         "IMPORTE": 3542.85,
         "SHEET": "SERV. PERS.",
         "_deepnote_index_column": 9
        }
       ]
      },
      "text/plain": "         NUM BEN                          BENEFICIARIO            RFC  \\\n0         203013            ARRIAGA PEREZ ROCIO JAZMIN  AIPR9204286E1   \n1         203013                 AYALA SALAZAR GABRIEL  AASG841003MUA   \n2         203013             BRANDI ELGUEZABAL MARCELO  BAEM840706IW8   \n3         203013            BRAVO GARZA CARLOS ALBERTO  BAGC710225DV6   \n4         203013                    BRAVO MENDOZA JOEL  BAMJ851218R50   \n5         203013         CELEDONIO BECERRA JUAN MIGUEL  CEBJ840527C63   \n6         203013          CORTES SANCHEZ VICTOR MANUEL  COSV990812NE2   \n7         203013                GALVAN GUERRERO ANDRES  GAGA5909062L0   \n8         203013                 GAMEZ RODRIGUEZ PABLO  GARP6209284A6   \n9         203013                GARCIA GONZALEZ ARTURO  GAGA940130GW9   \n10        203013  GONZALEZ AGUILERA CRISTINA MIROSLAVA  GOAC8208181I7   \n11        203013      GUERRERO MARTINEZ EDGAR FEDERICO  GUME830823C45   \n12        203013         HERNANDEZ SOTO BRENDA NATALIA  HESB940501BDA   \n13        203013             ORDAZ ARANJO JOSE ANTONIO  OAAA830731V64   \n14        203013            PINEDA OSORIO JOSE NAZARIO  PION750331N67   \n15        203013      RAMOS DE LA GARZA RAFAEL EDUARDO  RAGR780620EN9   \n16        203013      RAMOS MARROQUIN FRANCISCO JAVIER  RAMF7810304H7   \n17        203013     RODRIGUEZ JUAREZ DANIELA BERENICE  ROJD950717TGA   \n18        203013      RODRIGUEZ MORALES CYNTHIA ESTHER  ROMC730614EA0   \n19        203013           SANCHEZ DAVILA GERARDO RAUL  SADG6507244P8   \n20        203013          TORRES ACOSTA ROBERTO CARLOS  TOAR8409234Y0   \n21        203013        VARGAS GARCIA ALHINNA BERENICE  VAGA770817ADA   \n22        203013      VILLARREAL CARDENAS JUAN IGNACIO  VICJ890113J42   \n23        203013      VILLARREAL CARDENAS NANCY ESTHER  VICN801211SM7   \n24  Total 203013                                   NaN            NaN   \n25        203016            ARRIAGA PEREZ ROCIO JAZMIN  AIPR9204286E1   \n26        203016             BRANDI ELGUEZABAL MARCELO  BAEM840706IW8   \n27        203016            BRAVO GARZA CARLOS ALBERTO  BAGC710225DV6   \n28        203016                    BRAVO MENDOZA JOEL  BAMJ851218R50   \n29        203016                 GODOY SANCHEZ RICARDO  GOSR840918QB3   \n30        203016                 GODOY SANCHEZ RICARDO  GOSR840918QB3   \n31        203016  GONZALEZ AGUILERA CRISTINA MIROSLAVA  GOAC8208181I7   \n32        203016      GUERRERO MARTINEZ EDGAR FEDERICO  GUME830823C45   \n33        203016            MIJANGOS DE JESUS FERNANDO  MIJF920125NZ9   \n34        203016             MORENO GARCIA JOSE ARTURO  MOGA821029E94   \n35        203016             ORDAZ ARANJO JOSE ANTONIO  OAAA830731V64   \n36        203016            PINEDA OSORIO JOSE NAZARIO  PION750331N67   \n37        203016      RAMOS DE LA GARZA RAFAEL EDUARDO  RAGR780620EN9   \n38        203016      RAMOS MARROQUIN FRANCISCO JAVIER  RAMF7810304H7   \n39        203016     RODRIGUEZ JUAREZ DANIELA BERENICE  ROJD950717TGA   \n40        203016      RODRIGUEZ MORALES CYNTHIA ESTHER  ROMC730614EA0   \n41        203016           SANCHEZ HERNANDEZ SEBASTIAN  SAHS800724431   \n42        203016                  SEGOVIA PAEZ MARCELO  SEPM8603058S7   \n43        203016                  SEGOVIA PAEZ MARCELO  SEPM8603058S7   \n44        203016          TORRES ACOSTA ROBERTO CARLOS  TOAR8409234Y0   \n45        203016          TOVAR CEDILLO JAVIER ALFONSO  TOCJ750710A31   \n46        203016      VILLARREAL CARDENAS NANCY ESTHER  VICN801211SM7   \n47  Total 203016                                   NaN            NaN   \n\n               FACTURA   CONTRATO  \\\n0   113710-158004-1714  NO APLICA   \n1   119488-158004-1692  NO APLICA   \n2   116321-158004-1728  NO APLICA   \n3   110914-158004-1698  NO APLICA   \n4   110915-158004-1699  NO APLICA   \n5   100369-158004-1716  NO APLICA   \n6   117090-158004-1726  NO APLICA   \n7   110400-158004-1693  NO APLICA   \n8   110161-158004-1694  NO APLICA   \n9   119840-158004-1701  NO APLICA   \n10  111265-158004-1695  NO APLICA   \n11  116178-158004-1746  NO APLICA   \n12  102138-158004-1762  NO APLICA   \n13  110539-158004-1747  NO APLICA   \n14  116183-158004-1730  NO APLICA   \n15  116034-158004-1660  NO APLICA   \n16  110592-158004-1748  NO APLICA   \n17  110519-158004-1718  NO APLICA   \n18  110917-158004-1697  NO APLICA   \n19  110382-158004-1696  NO APLICA   \n20  113052-158004-1717  NO APLICA   \n21  119293-158004-1749  NO APLICA   \n22  117088-158004-1700  NO APLICA   \n23  113711-158004-1702  NO APLICA   \n24                 NaN        NaN   \n25  113710-158004-1715  NO APLICA   \n26  116321-158004-1729  NO APLICA   \n27  110914-158004-1710  NO APLICA   \n28  110915-158004-1706  NO APLICA   \n29   100192-158004-399  NO APLICA   \n30  110468-158004-1211  NO APLICA   \n31  111265-158004-1708  NO APLICA   \n32  116178-158004-1756  NO APLICA   \n33  103044-158004-1703  NO APLICA   \n34   44182-158004-1691  NO APLICA   \n35  110539-158004-1757  NO APLICA   \n36  116183-158004-1732  NO APLICA   \n37  116034-158004-1661  NO APLICA   \n38  110592-158004-1758  NO APLICA   \n39  110519-158004-1724  NO APLICA   \n40  110917-158004-1707  NO APLICA   \n41   83503-158004-1704  NO APLICA   \n42  116033-158004-1689  NO APLICA   \n43  116033-158004-1690  NO APLICA   \n44  113052-158004-1725  NO APLICA   \n45   23016-158004-1705  NO APLICA   \n46  113711-158004-1711  NO APLICA   \n47                 NaN        NaN   \n\n                                             CONCEPTO TIPO         # OP  \\\n0                                    FINIQUITO 113710   CH  299000184.0   \n1                                    FINIQUITO 119488   CH  299000170.0   \n2                                    FINIQUITO 116321   CH  299000192.0   \n3                                    FINIQUITO 110914   CH  299000166.0   \n4                                   FINIQUITO  110915   CH  299000173.0   \n5                             JUICIO AMPARO 1340/2019   CH  299000174.0   \n6              HONORARIOS ASIMILABLES A SUELDO 117090   CH  299000193.0   \n7                                    FINIQUITO 110400   CH  299000171.0   \n8                                    FINIQUITO 110161   CH  299000172.0   \n9             HONORARIOS ASIMILABLES A SUELDO  119840   CH  299000167.0   \n10                                   FINIQUITO 111265   CH  299000168.0   \n11                                   FINIQUITO 116178   CH  299000187.0   \n12                 JUICIO DE AMPARO 276/2019   102138   CH  299000191.0   \n13                                   FINIQUITO 110539   CH  299000188.0   \n14                                   FINIQUITO 116183   CH  299000185.0   \n15                                   FINIQUITO 116034   CH    1104561.0   \n16                                   FINIQUITO 110592   CH  299000189.0   \n17                                   FINIQUITO 110519   CH  299000182.0   \n18                                   FINIQUITO 110917   CH  299000165.0   \n19                                   FINIQUITO 110382   CH  299000169.0   \n20                                   FINIQUITO 113052   CH  299000181.0   \n21                                   FINIQUITO 119293   CH  299000190.0   \n22            HONORARIOS ASIMILABLES A SUELDO  117088   CH  299000164.0   \n23                                   FINIQUITO 113711   CH  299000163.0   \n24                                                NaN  NaN          NaN   \n25                             FONDO PENSIONES 113710   CH    1104579.0   \n26                          FONDO DE PENSIONES 116321   CH    1104591.0   \n27                             FONDO PENSIONES 110914   CH    1104569.0   \n28                             FONDO PENSIONES 110915   CH    1104572.0   \n29                             FONDO PENSIONES 100192   CH    1104555.0   \n30                             FONDO PENSIONES 110468   CH    1104556.0   \n31                             FONDO PENSIONES 111265   CH    1104566.0   \n32                          FONDO DE PENSIONES 116178   CH    1104587.0   \n33  PAGO 30% PROCEDIMIENTO RESPONSABILIDAD ADMVA. ...   CH  299000177.0   \n34  FONDO DE PENSIONES 44182     SEGUN JUICIO AMPA...   CH    1104558.0   \n35                          FONDO DE PENSIONES 110539   CH    1104586.0   \n36                          FONDO DE PENSIONES 116183   CH    1104580.0   \n37                            FONDO PENSIONES  116034   CH    1104559.0   \n38                          FONDO DE PENSIONES 110592   CH    1104588.0   \n39                          FONDO DE PENSIONES 110519   CH  299000180.0   \n40                             FONDO PENSIONES 110917   CH    1104568.0   \n41  PAGO 30% EXP. DE INVESTIGACION 530/PI/II/2018 ...   CH  299000178.0   \n42                                   FINIQUITO 116033   CH    1104570.0   \n43                             FONDO PENSIONES 116033   CH    1104571.0   \n44                          FONDO DE PENSIONES 113052   CH  299000183.0   \n45  PAGO 30%  JUICIO DE AMPARO No. 673/2020 (DICIE...   CH  299000179.0   \n46                             FONDO PENSIONES 113711   CH    1104567.0   \n47                                                NaN  NaN          NaN   \n\n        FECHA     IMPORTE        SHEET  \n0  2020-12-17    24797.96  SERV. PERS.  \n1  2020-12-11    44602.65  SERV. PERS.  \n2  2020-12-21    64941.95  SERV. PERS.  \n3  2020-12-11    77228.33  SERV. PERS.  \n4  2020-12-11    42831.35  SERV. PERS.  \n5  2020-12-14   369233.81  SERV. PERS.  \n6  2020-12-21     1099.69  SERV. PERS.  \n7  2020-12-11    62981.59  SERV. PERS.  \n8  2020-12-11    71091.18  SERV. PERS.  \n9  2020-12-11     3542.85  SERV. PERS.  \n10 2020-12-11    42831.35  SERV. PERS.  \n11 2020-12-21    64941.95  SERV. PERS.  \n12 2020-12-21   467115.69  SERV. PERS.  \n13 2020-12-21    22273.39  SERV. PERS.  \n14 2020-12-18    93452.90  SERV. PERS.  \n15 2020-12-08   139586.48  SERV. PERS.  \n16 2020-12-21    10997.79  SERV. PERS.  \n17 2020-12-16    22064.99  SERV. PERS.  \n18 2020-12-11    71091.18  SERV. PERS.  \n19 2020-12-11   127107.09  SERV. PERS.  \n20 2020-12-16    20028.72  SERV. PERS.  \n21 2020-12-21    41704.40  SERV. PERS.  \n22 2020-12-11     3733.13  SERV. PERS.  \n23 2020-12-11    58886.14  SERV. PERS.  \n24        NaT  1948166.56  SERV. PERS.  \n25 2020-12-17    19740.00  SERV. PERS.  \n26 2020-12-21    25650.00  SERV. PERS.  \n27 2020-12-11    62700.00  SERV. PERS.  \n28 2020-12-11    32775.00  SERV. PERS.  \n29 2020-12-07    31200.00  SERV. PERS.  \n30 2020-12-07    19800.00  SERV. PERS.  \n31 2020-12-11    30120.00  SERV. PERS.  \n32 2020-12-21    38475.00  SERV. PERS.  \n33 2020-12-15     4084.68  SERV. PERS.  \n34 2020-12-08    46315.82  SERV. PERS.  \n35 2020-12-21    14535.00  SERV. PERS.  \n36 2020-12-18    42322.50  SERV. PERS.  \n37 2020-12-08    56430.00  SERV. PERS.  \n38 2020-12-21    18720.00  SERV. PERS.  \n39 2020-12-16    16050.00  SERV. PERS.  \n40 2020-12-11    57000.00  SERV. PERS.  \n41 2020-12-15     4084.68  SERV. PERS.  \n42 2020-12-11   183992.72  SERV. PERS.  \n43 2020-12-11    56430.00  SERV. PERS.  \n44 2020-12-16     7425.00  SERV. PERS.  \n45 2020-12-15     4084.68  SERV. PERS.  \n46 2020-12-11    22575.00  SERV. PERS.  \n47        NaT   794510.08  SERV. PERS.  ",
      "text/html": "<div>\n<style scoped>\n    .dataframe tbody tr th:only-of-type {\n        vertical-align: middle;\n    }\n\n    .dataframe tbody tr th {\n        vertical-align: top;\n    }\n\n    .dataframe thead th {\n        text-align: right;\n    }\n</style>\n<table border=\"1\" class=\"dataframe\">\n  <thead>\n    <tr style=\"text-align: right;\">\n      <th></th>\n      <th>NUM BEN</th>\n      <th>BENEFICIARIO</th>\n      <th>RFC</th>\n      <th>FACTURA</th>\n      <th>CONTRATO</th>\n      <th>CONCEPTO</th>\n      <th>TIPO</th>\n      <th># OP</th>\n      <th>FECHA</th>\n      <th>IMPORTE</th>\n      <th>SHEET</th>\n    </tr>\n  </thead>\n  <tbody>\n    <tr>\n      <th>0</th>\n      <td>203013</td>\n      <td>ARRIAGA PEREZ ROCIO JAZMIN</td>\n      <td>AIPR9204286E1</td>\n      <td>113710-158004-1714</td>\n      <td>NO APLICA</td>\n      <td>FINIQUITO 113710</td>\n      <td>CH</td>\n      <td>299000184.0</td>\n      <td>2020-12-17</td>\n      <td>24797.96</td>\n      <td>SERV. PERS.</td>\n    </tr>\n    <tr>\n      <th>1</th>\n      <td>203013</td>\n      <td>AYALA SALAZAR GABRIEL</td>\n      <td>AASG841003MUA</td>\n      <td>119488-158004-1692</td>\n      <td>NO APLICA</td>\n      <td>FINIQUITO 119488</td>\n      <td>CH</td>\n      <td>299000170.0</td>\n      <td>2020-12-11</td>\n      <td>44602.65</td>\n      <td>SERV. PERS.</td>\n    </tr>\n    <tr>\n      <th>2</th>\n      <td>203013</td>\n      <td>BRANDI ELGUEZABAL MARCELO</td>\n      <td>BAEM840706IW8</td>\n      <td>116321-158004-1728</td>\n      <td>NO APLICA</td>\n      <td>FINIQUITO 116321</td>\n      <td>CH</td>\n      <td>299000192.0</td>\n      <td>2020-12-21</td>\n      <td>64941.95</td>\n      <td>SERV. PERS.</td>\n    </tr>\n    <tr>\n      <th>3</th>\n      <td>203013</td>\n      <td>BRAVO GARZA CARLOS ALBERTO</td>\n      <td>BAGC710225DV6</td>\n      <td>110914-158004-1698</td>\n      <td>NO APLICA</td>\n      <td>FINIQUITO 110914</td>\n      <td>CH</td>\n      <td>299000166.0</td>\n      <td>2020-12-11</td>\n      <td>77228.33</td>\n      <td>SERV. PERS.</td>\n    </tr>\n    <tr>\n      <th>4</th>\n      <td>203013</td>\n      <td>BRAVO MENDOZA JOEL</td>\n      <td>BAMJ851218R50</td>\n      <td>110915-158004-1699</td>\n      <td>NO APLICA</td>\n      <td>FINIQUITO  110915</td>\n      <td>CH</td>\n      <td>299000173.0</td>\n      <td>2020-12-11</td>\n      <td>42831.35</td>\n      <td>SERV. PERS.</td>\n    </tr>\n    <tr>\n      <th>5</th>\n      <td>203013</td>\n      <td>CELEDONIO BECERRA JUAN MIGUEL</td>\n      <td>CEBJ840527C63</td>\n      <td>100369-158004-1716</td>\n      <td>NO APLICA</td>\n      <td>JUICIO AMPARO 1340/2019</td>\n      <td>CH</td>\n      <td>299000174.0</td>\n      <td>2020-12-14</td>\n      <td>369233.81</td>\n      <td>SERV. PERS.</td>\n    </tr>\n    <tr>\n      <th>6</th>\n      <td>203013</td>\n      <td>CORTES SANCHEZ VICTOR MANUEL</td>\n      <td>COSV990812NE2</td>\n      <td>117090-158004-1726</td>\n      <td>NO APLICA</td>\n      <td>HONORARIOS ASIMILABLES A SUELDO 117090</td>\n      <td>CH</td>\n      <td>299000193.0</td>\n      <td>2020-12-21</td>\n      <td>1099.69</td>\n      <td>SERV. PERS.</td>\n    </tr>\n    <tr>\n      <th>7</th>\n      <td>203013</td>\n      <td>GALVAN GUERRERO ANDRES</td>\n      <td>GAGA5909062L0</td>\n      <td>110400-158004-1693</td>\n      <td>NO APLICA</td>\n      <td>FINIQUITO 110400</td>\n      <td>CH</td>\n      <td>299000171.0</td>\n      <td>2020-12-11</td>\n      <td>62981.59</td>\n      <td>SERV. PERS.</td>\n    </tr>\n    <tr>\n      <th>8</th>\n      <td>203013</td>\n      <td>GAMEZ RODRIGUEZ PABLO</td>\n      <td>GARP6209284A6</td>\n      <td>110161-158004-1694</td>\n      <td>NO APLICA</td>\n      <td>FINIQUITO 110161</td>\n      <td>CH</td>\n      <td>299000172.0</td>\n      <td>2020-12-11</td>\n      <td>71091.18</td>\n      <td>SERV. PERS.</td>\n    </tr>\n    <tr>\n      <th>9</th>\n      <td>203013</td>\n      <td>GARCIA GONZALEZ ARTURO</td>\n      <td>GAGA940130GW9</td>\n      <td>119840-158004-1701</td>\n      <td>NO APLICA</td>\n      <td>HONORARIOS ASIMILABLES A SUELDO  119840</td>\n      <td>CH</td>\n      <td>299000167.0</td>\n      <td>2020-12-11</td>\n      <td>3542.85</td>\n      <td>SERV. PERS.</td>\n    </tr>\n    <tr>\n      <th>10</th>\n      <td>203013</td>\n      <td>GONZALEZ AGUILERA CRISTINA MIROSLAVA</td>\n      <td>GOAC8208181I7</td>\n      <td>111265-158004-1695</td>\n      <td>NO APLICA</td>\n      <td>FINIQUITO 111265</td>\n      <td>CH</td>\n      <td>299000168.0</td>\n      <td>2020-12-11</td>\n      <td>42831.35</td>\n      <td>SERV. PERS.</td>\n    </tr>\n    <tr>\n      <th>11</th>\n      <td>203013</td>\n      <td>GUERRERO MARTINEZ EDGAR FEDERICO</td>\n      <td>GUME830823C45</td>\n      <td>116178-158004-1746</td>\n      <td>NO APLICA</td>\n      <td>FINIQUITO 116178</td>\n      <td>CH</td>\n      <td>299000187.0</td>\n      <td>2020-12-21</td>\n      <td>64941.95</td>\n      <td>SERV. PERS.</td>\n    </tr>\n    <tr>\n      <th>12</th>\n      <td>203013</td>\n      <td>HERNANDEZ SOTO BRENDA NATALIA</td>\n      <td>HESB940501BDA</td>\n      <td>102138-158004-1762</td>\n      <td>NO APLICA</td>\n      <td>JUICIO DE AMPARO 276/2019   102138</td>\n      <td>CH</td>\n      <td>299000191.0</td>\n      <td>2020-12-21</td>\n      <td>467115.69</td>\n      <td>SERV. PERS.</td>\n    </tr>\n    <tr>\n      <th>13</th>\n      <td>203013</td>\n      <td>ORDAZ ARANJO JOSE ANTONIO</td>\n      <td>OAAA830731V64</td>\n      <td>110539-158004-1747</td>\n      <td>NO APLICA</td>\n      <td>FINIQUITO 110539</td>\n      <td>CH</td>\n      <td>299000188.0</td>\n      <td>2020-12-21</td>\n      <td>22273.39</td>\n      <td>SERV. PERS.</td>\n    </tr>\n    <tr>\n      <th>14</th>\n      <td>203013</td>\n      <td>PINEDA OSORIO JOSE NAZARIO</td>\n      <td>PION750331N67</td>\n      <td>116183-158004-1730</td>\n      <td>NO APLICA</td>\n      <td>FINIQUITO 116183</td>\n      <td>CH</td>\n      <td>299000185.0</td>\n      <td>2020-12-18</td>\n      <td>93452.90</td>\n      <td>SERV. PERS.</td>\n    </tr>\n    <tr>\n      <th>15</th>\n      <td>203013</td>\n      <td>RAMOS DE LA GARZA RAFAEL EDUARDO</td>\n      <td>RAGR780620EN9</td>\n      <td>116034-158004-1660</td>\n      <td>NO APLICA</td>\n      <td>FINIQUITO 116034</td>\n      <td>CH</td>\n      <td>1104561.0</td>\n      <td>2020-12-08</td>\n      <td>139586.48</td>\n      <td>SERV. PERS.</td>\n    </tr>\n    <tr>\n      <th>16</th>\n      <td>203013</td>\n      <td>RAMOS MARROQUIN FRANCISCO JAVIER</td>\n      <td>RAMF7810304H7</td>\n      <td>110592-158004-1748</td>\n      <td>NO APLICA</td>\n      <td>FINIQUITO 110592</td>\n      <td>CH</td>\n      <td>299000189.0</td>\n      <td>2020-12-21</td>\n      <td>10997.79</td>\n      <td>SERV. PERS.</td>\n    </tr>\n    <tr>\n      <th>17</th>\n      <td>203013</td>\n      <td>RODRIGUEZ JUAREZ DANIELA BERENICE</td>\n      <td>ROJD950717TGA</td>\n      <td>110519-158004-1718</td>\n      <td>NO APLICA</td>\n      <td>FINIQUITO 110519</td>\n      <td>CH</td>\n      <td>299000182.0</td>\n      <td>2020-12-16</td>\n      <td>22064.99</td>\n      <td>SERV. PERS.</td>\n    </tr>\n    <tr>\n      <th>18</th>\n      <td>203013</td>\n      <td>RODRIGUEZ MORALES CYNTHIA ESTHER</td>\n      <td>ROMC730614EA0</td>\n      <td>110917-158004-1697</td>\n      <td>NO APLICA</td>\n      <td>FINIQUITO 110917</td>\n      <td>CH</td>\n      <td>299000165.0</td>\n      <td>2020-12-11</td>\n      <td>71091.18</td>\n      <td>SERV. PERS.</td>\n    </tr>\n    <tr>\n      <th>19</th>\n      <td>203013</td>\n      <td>SANCHEZ DAVILA GERARDO RAUL</td>\n      <td>SADG6507244P8</td>\n      <td>110382-158004-1696</td>\n      <td>NO APLICA</td>\n      <td>FINIQUITO 110382</td>\n      <td>CH</td>\n      <td>299000169.0</td>\n      <td>2020-12-11</td>\n      <td>127107.09</td>\n      <td>SERV. PERS.</td>\n    </tr>\n    <tr>\n      <th>20</th>\n      <td>203013</td>\n      <td>TORRES ACOSTA ROBERTO CARLOS</td>\n      <td>TOAR8409234Y0</td>\n      <td>113052-158004-1717</td>\n      <td>NO APLICA</td>\n      <td>FINIQUITO 113052</td>\n      <td>CH</td>\n      <td>299000181.0</td>\n      <td>2020-12-16</td>\n      <td>20028.72</td>\n      <td>SERV. PERS.</td>\n    </tr>\n    <tr>\n      <th>21</th>\n      <td>203013</td>\n      <td>VARGAS GARCIA ALHINNA BERENICE</td>\n      <td>VAGA770817ADA</td>\n      <td>119293-158004-1749</td>\n      <td>NO APLICA</td>\n      <td>FINIQUITO 119293</td>\n      <td>CH</td>\n      <td>299000190.0</td>\n      <td>2020-12-21</td>\n      <td>41704.40</td>\n      <td>SERV. PERS.</td>\n    </tr>\n    <tr>\n      <th>22</th>\n      <td>203013</td>\n      <td>VILLARREAL CARDENAS JUAN IGNACIO</td>\n      <td>VICJ890113J42</td>\n      <td>117088-158004-1700</td>\n      <td>NO APLICA</td>\n      <td>HONORARIOS ASIMILABLES A SUELDO  117088</td>\n      <td>CH</td>\n      <td>299000164.0</td>\n      <td>2020-12-11</td>\n      <td>3733.13</td>\n      <td>SERV. PERS.</td>\n    </tr>\n    <tr>\n      <th>23</th>\n      <td>203013</td>\n      <td>VILLARREAL CARDENAS NANCY ESTHER</td>\n      <td>VICN801211SM7</td>\n      <td>113711-158004-1702</td>\n      <td>NO APLICA</td>\n      <td>FINIQUITO 113711</td>\n      <td>CH</td>\n      <td>299000163.0</td>\n      <td>2020-12-11</td>\n      <td>58886.14</td>\n      <td>SERV. PERS.</td>\n    </tr>\n    <tr>\n      <th>24</th>\n      <td>Total 203013</td>\n      <td>NaN</td>\n      <td>NaN</td>\n      <td>NaN</td>\n      <td>NaN</td>\n      <td>NaN</td>\n      <td>NaN</td>\n      <td>NaN</td>\n      <td>NaT</td>\n      <td>1948166.56</td>\n      <td>SERV. PERS.</td>\n    </tr>\n    <tr>\n      <th>25</th>\n      <td>203016</td>\n      <td>ARRIAGA PEREZ ROCIO JAZMIN</td>\n      <td>AIPR9204286E1</td>\n      <td>113710-158004-1715</td>\n      <td>NO APLICA</td>\n      <td>FONDO PENSIONES 113710</td>\n      <td>CH</td>\n      <td>1104579.0</td>\n      <td>2020-12-17</td>\n      <td>19740.00</td>\n      <td>SERV. PERS.</td>\n    </tr>\n    <tr>\n      <th>26</th>\n      <td>203016</td>\n      <td>BRANDI ELGUEZABAL MARCELO</td>\n      <td>BAEM840706IW8</td>\n      <td>116321-158004-1729</td>\n      <td>NO APLICA</td>\n      <td>FONDO DE PENSIONES 116321</td>\n      <td>CH</td>\n      <td>1104591.0</td>\n      <td>2020-12-21</td>\n      <td>25650.00</td>\n      <td>SERV. PERS.</td>\n    </tr>\n    <tr>\n      <th>27</th>\n      <td>203016</td>\n      <td>BRAVO GARZA CARLOS ALBERTO</td>\n      <td>BAGC710225DV6</td>\n      <td>110914-158004-1710</td>\n      <td>NO APLICA</td>\n      <td>FONDO PENSIONES 110914</td>\n      <td>CH</td>\n      <td>1104569.0</td>\n      <td>2020-12-11</td>\n      <td>62700.00</td>\n      <td>SERV. PERS.</td>\n    </tr>\n    <tr>\n      <th>28</th>\n      <td>203016</td>\n      <td>BRAVO MENDOZA JOEL</td>\n      <td>BAMJ851218R50</td>\n      <td>110915-158004-1706</td>\n      <td>NO APLICA</td>\n      <td>FONDO PENSIONES 110915</td>\n      <td>CH</td>\n      <td>1104572.0</td>\n      <td>2020-12-11</td>\n      <td>32775.00</td>\n      <td>SERV. PERS.</td>\n    </tr>\n    <tr>\n      <th>29</th>\n      <td>203016</td>\n      <td>GODOY SANCHEZ RICARDO</td>\n      <td>GOSR840918QB3</td>\n      <td>100192-158004-399</td>\n      <td>NO APLICA</td>\n      <td>FONDO PENSIONES 100192</td>\n      <td>CH</td>\n      <td>1104555.0</td>\n      <td>2020-12-07</td>\n      <td>31200.00</td>\n      <td>SERV. PERS.</td>\n    </tr>\n    <tr>\n      <th>30</th>\n      <td>203016</td>\n      <td>GODOY SANCHEZ RICARDO</td>\n      <td>GOSR840918QB3</td>\n      <td>110468-158004-1211</td>\n      <td>NO APLICA</td>\n      <td>FONDO PENSIONES 110468</td>\n      <td>CH</td>\n      <td>1104556.0</td>\n      <td>2020-12-07</td>\n      <td>19800.00</td>\n      <td>SERV. PERS.</td>\n    </tr>\n    <tr>\n      <th>31</th>\n      <td>203016</td>\n      <td>GONZALEZ AGUILERA CRISTINA MIROSLAVA</td>\n      <td>GOAC8208181I7</td>\n      <td>111265-158004-1708</td>\n      <td>NO APLICA</td>\n      <td>FONDO PENSIONES 111265</td>\n      <td>CH</td>\n      <td>1104566.0</td>\n      <td>2020-12-11</td>\n      <td>30120.00</td>\n      <td>SERV. PERS.</td>\n    </tr>\n    <tr>\n      <th>32</th>\n      <td>203016</td>\n      <td>GUERRERO MARTINEZ EDGAR FEDERICO</td>\n      <td>GUME830823C45</td>\n      <td>116178-158004-1756</td>\n      <td>NO APLICA</td>\n      <td>FONDO DE PENSIONES 116178</td>\n      <td>CH</td>\n      <td>1104587.0</td>\n      <td>2020-12-21</td>\n      <td>38475.00</td>\n      <td>SERV. PERS.</td>\n    </tr>\n    <tr>\n      <th>33</th>\n      <td>203016</td>\n      <td>MIJANGOS DE JESUS FERNANDO</td>\n      <td>MIJF920125NZ9</td>\n      <td>103044-158004-1703</td>\n      <td>NO APLICA</td>\n      <td>PAGO 30% PROCEDIMIENTO RESPONSABILIDAD ADMVA. ...</td>\n      <td>CH</td>\n      <td>299000177.0</td>\n      <td>2020-12-15</td>\n      <td>4084.68</td>\n      <td>SERV. PERS.</td>\n    </tr>\n    <tr>\n      <th>34</th>\n      <td>203016</td>\n      <td>MORENO GARCIA JOSE ARTURO</td>\n      <td>MOGA821029E94</td>\n      <td>44182-158004-1691</td>\n      <td>NO APLICA</td>\n      <td>FONDO DE PENSIONES 44182     SEGUN JUICIO AMPA...</td>\n      <td>CH</td>\n      <td>1104558.0</td>\n      <td>2020-12-08</td>\n      <td>46315.82</td>\n      <td>SERV. PERS.</td>\n    </tr>\n    <tr>\n      <th>35</th>\n      <td>203016</td>\n      <td>ORDAZ ARANJO JOSE ANTONIO</td>\n      <td>OAAA830731V64</td>\n      <td>110539-158004-1757</td>\n      <td>NO APLICA</td>\n      <td>FONDO DE PENSIONES 110539</td>\n      <td>CH</td>\n      <td>1104586.0</td>\n      <td>2020-12-21</td>\n      <td>14535.00</td>\n      <td>SERV. PERS.</td>\n    </tr>\n    <tr>\n      <th>36</th>\n      <td>203016</td>\n      <td>PINEDA OSORIO JOSE NAZARIO</td>\n      <td>PION750331N67</td>\n      <td>116183-158004-1732</td>\n      <td>NO APLICA</td>\n      <td>FONDO DE PENSIONES 116183</td>\n      <td>CH</td>\n      <td>1104580.0</td>\n      <td>2020-12-18</td>\n      <td>42322.50</td>\n      <td>SERV. PERS.</td>\n    </tr>\n    <tr>\n      <th>37</th>\n      <td>203016</td>\n      <td>RAMOS DE LA GARZA RAFAEL EDUARDO</td>\n      <td>RAGR780620EN9</td>\n      <td>116034-158004-1661</td>\n      <td>NO APLICA</td>\n      <td>FONDO PENSIONES  116034</td>\n      <td>CH</td>\n      <td>1104559.0</td>\n      <td>2020-12-08</td>\n      <td>56430.00</td>\n      <td>SERV. PERS.</td>\n    </tr>\n    <tr>\n      <th>38</th>\n      <td>203016</td>\n      <td>RAMOS MARROQUIN FRANCISCO JAVIER</td>\n      <td>RAMF7810304H7</td>\n      <td>110592-158004-1758</td>\n      <td>NO APLICA</td>\n      <td>FONDO DE PENSIONES 110592</td>\n      <td>CH</td>\n      <td>1104588.0</td>\n      <td>2020-12-21</td>\n      <td>18720.00</td>\n      <td>SERV. PERS.</td>\n    </tr>\n    <tr>\n      <th>39</th>\n      <td>203016</td>\n      <td>RODRIGUEZ JUAREZ DANIELA BERENICE</td>\n      <td>ROJD950717TGA</td>\n      <td>110519-158004-1724</td>\n      <td>NO APLICA</td>\n      <td>FONDO DE PENSIONES 110519</td>\n      <td>CH</td>\n      <td>299000180.0</td>\n      <td>2020-12-16</td>\n      <td>16050.00</td>\n      <td>SERV. PERS.</td>\n    </tr>\n    <tr>\n      <th>40</th>\n      <td>203016</td>\n      <td>RODRIGUEZ MORALES CYNTHIA ESTHER</td>\n      <td>ROMC730614EA0</td>\n      <td>110917-158004-1707</td>\n      <td>NO APLICA</td>\n      <td>FONDO PENSIONES 110917</td>\n      <td>CH</td>\n      <td>1104568.0</td>\n      <td>2020-12-11</td>\n      <td>57000.00</td>\n      <td>SERV. PERS.</td>\n    </tr>\n    <tr>\n      <th>41</th>\n      <td>203016</td>\n      <td>SANCHEZ HERNANDEZ SEBASTIAN</td>\n      <td>SAHS800724431</td>\n      <td>83503-158004-1704</td>\n      <td>NO APLICA</td>\n      <td>PAGO 30% EXP. DE INVESTIGACION 530/PI/II/2018 ...</td>\n      <td>CH</td>\n      <td>299000178.0</td>\n      <td>2020-12-15</td>\n      <td>4084.68</td>\n      <td>SERV. PERS.</td>\n    </tr>\n    <tr>\n      <th>42</th>\n      <td>203016</td>\n      <td>SEGOVIA PAEZ MARCELO</td>\n      <td>SEPM8603058S7</td>\n      <td>116033-158004-1689</td>\n      <td>NO APLICA</td>\n      <td>FINIQUITO 116033</td>\n      <td>CH</td>\n      <td>1104570.0</td>\n      <td>2020-12-11</td>\n      <td>183992.72</td>\n      <td>SERV. PERS.</td>\n    </tr>\n    <tr>\n      <th>43</th>\n      <td>203016</td>\n      <td>SEGOVIA PAEZ MARCELO</td>\n      <td>SEPM8603058S7</td>\n      <td>116033-158004-1690</td>\n      <td>NO APLICA</td>\n      <td>FONDO PENSIONES 116033</td>\n      <td>CH</td>\n      <td>1104571.0</td>\n      <td>2020-12-11</td>\n      <td>56430.00</td>\n      <td>SERV. PERS.</td>\n    </tr>\n    <tr>\n      <th>44</th>\n      <td>203016</td>\n      <td>TORRES ACOSTA ROBERTO CARLOS</td>\n      <td>TOAR8409234Y0</td>\n      <td>113052-158004-1725</td>\n      <td>NO APLICA</td>\n      <td>FONDO DE PENSIONES 113052</td>\n      <td>CH</td>\n      <td>299000183.0</td>\n      <td>2020-12-16</td>\n      <td>7425.00</td>\n      <td>SERV. PERS.</td>\n    </tr>\n    <tr>\n      <th>45</th>\n      <td>203016</td>\n      <td>TOVAR CEDILLO JAVIER ALFONSO</td>\n      <td>TOCJ750710A31</td>\n      <td>23016-158004-1705</td>\n      <td>NO APLICA</td>\n      <td>PAGO 30%  JUICIO DE AMPARO No. 673/2020 (DICIE...</td>\n      <td>CH</td>\n      <td>299000179.0</td>\n      <td>2020-12-15</td>\n      <td>4084.68</td>\n      <td>SERV. PERS.</td>\n    </tr>\n    <tr>\n      <th>46</th>\n      <td>203016</td>\n      <td>VILLARREAL CARDENAS NANCY ESTHER</td>\n      <td>VICN801211SM7</td>\n      <td>113711-158004-1711</td>\n      <td>NO APLICA</td>\n      <td>FONDO PENSIONES 113711</td>\n      <td>CH</td>\n      <td>1104567.0</td>\n      <td>2020-12-11</td>\n      <td>22575.00</td>\n      <td>SERV. PERS.</td>\n    </tr>\n    <tr>\n      <th>47</th>\n      <td>Total 203016</td>\n      <td>NaN</td>\n      <td>NaN</td>\n      <td>NaN</td>\n      <td>NaN</td>\n      <td>NaN</td>\n      <td>NaN</td>\n      <td>NaN</td>\n      <td>NaT</td>\n      <td>794510.08</td>\n      <td>SERV. PERS.</td>\n    </tr>\n  </tbody>\n</table>\n</div>"
     },
     "metadata": {}
    }
   ],
   "execution_count": 24
  },
  {
   "cell_type": "code",
   "source": "df_gastos_varios=dataframe_excel_sheet('12_DICIEMBRE_2020.xlsx', 'GASTOS VARIOS', 5)\ndf_gastos_varios",
   "metadata": {
    "cell_id": "00006-1ce0677c-b516-4c37-82d0-3d94dde7ae14",
    "tags": [],
    "deepnote_to_be_reexecuted": false,
    "source_hash": "5333f09a",
    "allow_embed": false,
    "execution_start": 1645991233053,
    "execution_millis": 268,
    "deepnote_cell_type": "code"
   },
   "outputs": [
    {
     "output_type": "execute_result",
     "execution_count": 21,
     "data": {
      "application/vnd.deepnote.dataframe.v3+json": {
       "column_count": 11,
       "row_count": 814,
       "columns": [
        {
         "name": "NUM BEN",
         "dtype": "object",
         "stats": {
          "unique_count": 248,
          "nan_count": 0,
          "categories": [
           {
            "name": "116710",
            "count": 58
           },
           {
            "name": "214873",
            "count": 54
           },
           {
            "name": "246 others",
            "count": 702
           }
          ]
         }
        },
        {
         "name": "BENEFICIARIO",
         "dtype": "object",
         "stats": {
          "unique_count": 182,
          "nan_count": 124,
          "categories": [
           {
            "name": "PEREZ RIOS RAMIRO",
            "count": 58
           },
           {
            "name": "181 others",
            "count": 632
           },
           {
            "name": "Missing",
            "count": 124
           }
          ]
         }
        },
        {
         "name": "RFC",
         "dtype": "object",
         "stats": {
          "unique_count": 182,
          "nan_count": 124,
          "categories": [
           {
            "name": "PERR730228UYA",
            "count": 58
           },
           {
            "name": "181 others",
            "count": 632
           },
           {
            "name": "Missing",
            "count": 124
           }
          ]
         }
        },
        {
         "name": "FACTURA",
         "dtype": "object",
         "stats": {
          "unique_count": 690,
          "nan_count": 124,
          "categories": [
           {
            "name": "LLS AF8458-158008-3972",
            "count": 1
           },
           {
            "name": "689 others",
            "count": 689
           },
           {
            "name": "Missing",
            "count": 124
           }
          ]
         }
        },
        {
         "name": "CONTRATO",
         "dtype": "object",
         "stats": {
          "unique_count": 291,
          "nan_count": 124,
          "categories": [
           {
            "name": "NO APLICA",
            "count": 172
           },
           {
            "name": "290 others",
            "count": 518
           },
           {
            "name": "Missing",
            "count": 124
           }
          ]
         }
        },
        {
         "name": "CONCEPTO",
         "dtype": "object",
         "stats": {
          "unique_count": 557,
          "nan_count": 124,
          "categories": [
           {
            "name": "SERVICIOS FUNERARIOS ASISTENCIA SOCIAL DIF",
            "count": 27
           },
           {
            "name": "556 others",
            "count": 663
           },
           {
            "name": "Missing",
            "count": 124
           }
          ]
         }
        },
        {
         "name": "TIPO",
         "dtype": "object",
         "stats": {
          "unique_count": 2,
          "nan_count": 124,
          "categories": [
           {
            "name": "TR",
            "count": 593
           },
           {
            "name": "CH",
            "count": 97
           },
           {
            "name": "Missing",
            "count": 124
           }
          ]
         }
        },
        {
         "name": "# OP",
         "dtype": "float64",
         "stats": {
          "unique_count": 317,
          "nan_count": 124,
          "min": "1019042.0",
          "max": "604000051.0",
          "histogram": [
           {
            "bin_start": 1019042,
            "bin_end": 61317142.9,
            "count": 436
           },
           {
            "bin_start": 61317142.9,
            "bin_end": 121615243.8,
            "count": 0
           },
           {
            "bin_start": 121615243.8,
            "bin_end": 181913344.7,
            "count": 0
           },
           {
            "bin_start": 181913344.7,
            "bin_end": 242211445.6,
            "count": 6
           },
           {
            "bin_start": 242211445.6,
            "bin_end": 302509546.5,
            "count": 246
           },
           {
            "bin_start": 302509546.5,
            "bin_end": 362807647.4,
            "count": 0
           },
           {
            "bin_start": 362807647.4,
            "bin_end": 423105748.3,
            "count": 0
           },
           {
            "bin_start": 423105748.3,
            "bin_end": 483403849.2,
            "count": 0
           },
           {
            "bin_start": 483403849.2,
            "bin_end": 543701950.1,
            "count": 0
           },
           {
            "bin_start": 543701950.1,
            "bin_end": 604000051,
            "count": 2
           }
          ]
         }
        },
        {
         "name": "FECHA",
         "dtype": "datetime64[ns]",
         "stats": {
          "unique_count": 19,
          "nan_count": 124,
          "min": "2020-12-01 00:00:00",
          "max": "2020-12-30 00:00:00",
          "histogram": [
           {
            "bin_start": 1606780800000000000,
            "bin_end": 1607031360000000000,
            "count": 12
           },
           {
            "bin_start": 1607031360000000000,
            "bin_end": 1607281920000000000,
            "count": 141
           },
           {
            "bin_start": 1607281920000000000,
            "bin_end": 1607532480000000000,
            "count": 34
           },
           {
            "bin_start": 1607532480000000000,
            "bin_end": 1607783040000000000,
            "count": 174
           },
           {
            "bin_start": 1607783040000000000,
            "bin_end": 1608033600000000000,
            "count": 2
           },
           {
            "bin_start": 1608033600000000000,
            "bin_end": 1608284160000000000,
            "count": 122
           },
           {
            "bin_start": 1608284160000000000,
            "bin_end": 1608534720000000000,
            "count": 7
           },
           {
            "bin_start": 1608534720000000000,
            "bin_end": 1608785280000000000,
            "count": 141
           },
           {
            "bin_start": 1608785280000000000,
            "bin_end": 1609035840000000000,
            "count": 0
           },
           {
            "bin_start": 1609035840000000000,
            "bin_end": 1609286400000000000,
            "count": 57
           }
          ]
         }
        },
        {
         "name": "IMPORTE",
         "dtype": "float64",
         "stats": {
          "unique_count": 608,
          "nan_count": 0,
          "min": "167.02",
          "max": "252689456.34",
          "histogram": [
           {
            "bin_start": 167.02,
            "bin_end": 25269095.952,
            "count": 805
           },
           {
            "bin_start": 25269095.952,
            "bin_end": 50538024.884,
            "count": 6
           },
           {
            "bin_start": 50538024.884,
            "bin_end": 75806953.816,
            "count": 1
           },
           {
            "bin_start": 75806953.816,
            "bin_end": 101075882.748,
            "count": 1
           },
           {
            "bin_start": 101075882.748,
            "bin_end": 126344811.67999999,
            "count": 0
           },
           {
            "bin_start": 126344811.67999999,
            "bin_end": 151613740.61200002,
            "count": 0
           },
           {
            "bin_start": 151613740.61200002,
            "bin_end": 176882669.544,
            "count": 0
           },
           {
            "bin_start": 176882669.544,
            "bin_end": 202151598.476,
            "count": 0
           },
           {
            "bin_start": 202151598.476,
            "bin_end": 227420527.40800002,
            "count": 0
           },
           {
            "bin_start": 227420527.40800002,
            "bin_end": 252689456.34,
            "count": 1
           }
          ]
         }
        },
        {
         "name": "SHEET",
         "dtype": "object",
         "stats": {
          "unique_count": 1,
          "nan_count": 0,
          "categories": [
           {
            "name": "GASTOS VARIOS",
            "count": 814
           }
          ]
         }
        },
        {
         "name": "_deepnote_index_column",
         "dtype": "int64"
        }
       ],
       "rows": [
        {
         "NUM BEN": "110152",
         "BENEFICIARIO": "LLANTAS Y SERVICIOS SERNA ANAHUAC,S.A. DE C.V.",
         "RFC": "LSS841015DV3",
         "FACTURA": "LLS AF8458-158008-3972",
         "CONTRATO": "OT. 20204373",
         "CONCEPTO": "REEMPLAZO E INSTALACION DE AMORTIGUADORES (DELANTEROS Y TRASEROS), ROTULAS SUPERIORES Y ALINEACION.…",
         "TIPO": "TR",
         "# OP": 1019110,
         "FECHA": "2020-12-11T00:00:00.000000",
         "IMPORTE": 14911.8,
         "SHEET": "GASTOS VARIOS",
         "_deepnote_index_column": 0
        },
        {
         "NUM BEN": "110152",
         "BENEFICIARIO": "LLANTAS Y SERVICIOS SERNA ANAHUAC,S.A. DE C.V.",
         "RFC": "LSS841015DV3",
         "FACTURA": "LLS PF6916-158008-4041",
         "CONTRATO": "OT. 20204425",
         "CONCEPTO": "REEMPLAZO E INSTALACION DE OCHO BIRLOS Y NUEVE TUERCAS. PATRIMONIO 80383 2010 RAM 4000",
         "TIPO": "TR",
         "# OP": 1019110,
         "FECHA": "2020-12-11T00:00:00.000000",
         "IMPORTE": 2528.8,
         "SHEET": "GASTOS VARIOS",
         "_deepnote_index_column": 1
        },
        {
         "NUM BEN": "110152",
         "BENEFICIARIO": "LLANTAS Y SERVICIOS SERNA ANAHUAC,S.A. DE C.V.",
         "RFC": "LSS841015DV3",
         "FACTURA": "LLS PF6917-158008-3975",
         "CONTRATO": "OT. 20204376",
         "CONCEPTO": "REEMPLAZO DE DOS RINES  (17). PATRIMONIO 80383 2010 RAM 4000",
         "TIPO": "TR",
         "# OP": 1019110,
         "FECHA": "2020-12-11T00:00:00.000000",
         "IMPORTE": 8500.02,
         "SHEET": "GASTOS VARIOS",
         "_deepnote_index_column": 2
        },
        {
         "NUM BEN": "110152",
         "BENEFICIARIO": "LLANTAS Y SERVICIOS SERNA ANAHUAC,S.A. DE C.V.",
         "RFC": "LSS841015DV3",
         "FACTURA": "LLS PF7004-158008-3971",
         "CONTRATO": "OT. 20204374",
         "CONCEPTO": "REEMPLAZO DE  DOS RINES  (14). PATRIMONIO 80072 2010 PICK UP ESTACAS",
         "TIPO": "TR",
         "# OP": 1019110,
         "FECHA": "2020-12-11T00:00:00.000000",
         "IMPORTE": 2400.01,
         "SHEET": "GASTOS VARIOS",
         "_deepnote_index_column": 3
        },
        {
         "NUM BEN": "110152",
         "BENEFICIARIO": "LLANTAS Y SERVICIOS SERNA ANAHUAC,S.A. DE C.V.",
         "RFC": "LSS841015DV3",
         "FACTURA": "LLS PF7137-158008-4554",
         "CONTRATO": "OT. 20205130",
         "CONCEPTO": "REEMPLAZO E INSTALACION DE RIN 14. PATRIMONIO 82646 2017 AVEO",
         "TIPO": "TR",
         "# OP": 299001496,
         "FECHA": "2020-12-23T00:00:00.000000",
         "IMPORTE": 1537,
         "SHEET": "GASTOS VARIOS",
         "_deepnote_index_column": 4
        },
        {
         "NUM BEN": "110152",
         "BENEFICIARIO": "LLANTAS Y SERVICIOS SERNA ANAHUAC,S.A. DE C.V.",
         "RFC": "LSS841015DV3",
         "FACTURA": "LLSPF6972-158003-5137",
         "CONTRATO": "SAD-604-2020",
         "CONCEPTO": "COMPRA E INSTALACION DE LLANTAS PARA LA DIR. DE MTTO., AGOSTO 2020, RAMO 28",
         "TIPO": "TR",
         "# OP": 299001496,
         "FECHA": "2020-12-23T00:00:00.000000",
         "IMPORTE": 79473.92,
         "SHEET": "GASTOS VARIOS",
         "_deepnote_index_column": 5
        },
        {
         "NUM BEN": "110152",
         "BENEFICIARIO": "LLANTAS Y SERVICIOS SERNA ANAHUAC,S.A. DE C.V.",
         "RFC": "LSS841015DV3",
         "FACTURA": "LLSPF7002-158003-5144",
         "CONTRATO": "SAD-604-2020",
         "CONCEPTO": "COMPRA E INSTALACION DE LLANTAS PARA LA DIR. DE MTTO., SEPTIEMBRE 2020, RAMO 28",
         "TIPO": "TR",
         "# OP": 299001496,
         "FECHA": "2020-12-23T00:00:00.000000",
         "IMPORTE": 259837.68,
         "SHEET": "GASTOS VARIOS",
         "_deepnote_index_column": 6
        },
        {
         "NUM BEN": "110152",
         "BENEFICIARIO": "LLANTAS Y SERVICIOS SERNA ANAHUAC,S.A. DE C.V.",
         "RFC": "LSS841015DV3",
         "FACTURA": "LLSPF7005-158003-5138",
         "CONTRATO": "SAD-604-2020",
         "CONCEPTO": "COMPRA E INSTALACION DE LLANTAS PARA LA DIR. DE MTTO., OCTUBRE 2020, RAMO 28",
         "TIPO": "TR",
         "# OP": 299001496,
         "FECHA": "2020-12-23T00:00:00.000000",
         "IMPORTE": 60937.12,
         "SHEET": "GASTOS VARIOS",
         "_deepnote_index_column": 7
        },
        {
         "NUM BEN": "110152",
         "BENEFICIARIO": "LLANTAS Y SERVICIOS SERNA ANAHUAC,S.A. DE C.V.",
         "RFC": "LSS841015DV3",
         "FACTURA": "LLSPF7006-158003-5156",
         "CONTRATO": "SAD-604-2020",
         "CONCEPTO": "COMPRA E INSTALACION DE LLANTAS PARA LA DIR. DE MTTO., SEPTIEMBRE Y OCTUBRE 2020, RAMO 28",
         "TIPO": "TR",
         "# OP": 299001496,
         "FECHA": "2020-12-23T00:00:00.000000",
         "IMPORTE": 367356.92,
         "SHEET": "GASTOS VARIOS",
         "_deepnote_index_column": 8
        },
        {
         "NUM BEN": "110152",
         "BENEFICIARIO": "LLANTAS Y SERVICIOS SERNA ANAHUAC,S.A. DE C.V.",
         "RFC": "LSS841015DV3",
         "FACTURA": "LLSPF7019-158003-5431",
         "CONTRATO": "SAD-604-2020",
         "CONCEPTO": "COMPRA E INSTALACION DE LLANTAS PARA LA DIR. DE MTTO., SEPTIEMBRE 2020, RAMO 28",
         "TIPO": "TR",
         "# OP": 299001496,
         "FECHA": "2020-12-23T00:00:00.000000",
         "IMPORTE": 243906.24,
         "SHEET": "GASTOS VARIOS",
         "_deepnote_index_column": 9
        }
       ]
      },
      "text/plain": "          NUM BEN                                    BENEFICIARIO  \\\n0          110152  LLANTAS Y SERVICIOS SERNA ANAHUAC,S.A. DE C.V.   \n1          110152  LLANTAS Y SERVICIOS SERNA ANAHUAC,S.A. DE C.V.   \n2          110152  LLANTAS Y SERVICIOS SERNA ANAHUAC,S.A. DE C.V.   \n3          110152  LLANTAS Y SERVICIOS SERNA ANAHUAC,S.A. DE C.V.   \n4          110152  LLANTAS Y SERVICIOS SERNA ANAHUAC,S.A. DE C.V.   \n..            ...                                             ...   \n809        370012                          GS GAS Q, S.A. DE C.V.   \n810        370012                          GS GAS Q, S.A. DE C.V.   \n811        370012                          GS GAS Q, S.A. DE C.V.   \n812        370012                          GS GAS Q, S.A. DE C.V.   \n813  Total 370012                                             NaN   \n\n              RFC                    FACTURA      CONTRATO  \\\n0    LSS841015DV3     LLS AF8458-158008-3972  OT. 20204373   \n1    LSS841015DV3     LLS PF6916-158008-4041  OT. 20204425   \n2    LSS841015DV3     LLS PF6917-158008-3975  OT. 20204376   \n3    LSS841015DV3     LLS PF7004-158008-3971  OT. 20204374   \n4    LSS841015DV3     LLS PF7137-158008-4554  OT. 20205130   \n..            ...                        ...           ...   \n809  GGQ131004TJ6  BPLGK78471458-158003-5605  SAD-619-2020   \n810  GGQ131004TJ6  BPLGK78471506-158003-5728  SAD-619-2020   \n811  GGQ131004TJ6  BPLGK78471508-158003-5744  SAD-619-2020   \n812  GGQ131004TJ6  BPLGK78471509-158003-5727  SAD-619-2020   \n813           NaN                        NaN           NaN   \n\n                                              CONCEPTO TIPO         # OP  \\\n0    REEMPLAZO E INSTALACION DE AMORTIGUADORES (DEL...   TR    1019110.0   \n1    REEMPLAZO E INSTALACION DE OCHO BIRLOS Y NUEVE...   TR    1019110.0   \n2    REEMPLAZO DE DOS RINES  (17). PATRIMONIO 80383...   TR    1019110.0   \n3    REEMPLAZO DE  DOS RINES  (14). PATRIMONIO 8007...   TR    1019110.0   \n4    REEMPLAZO E INSTALACION DE RIN 14. PATRIMONIO ...   TR  299001496.0   \n..                                                 ...  ...          ...   \n809  CONSUMO DE GASOLINA DELA SEMANA 05 AL 11 DE OC...   TR    1019144.0   \n810  CONSUMO DE DIESEL SEMANA DE 07 AL 13 DE SEPTIE...   TR    1019144.0   \n811  CONSUMO DE GASOLINA DE LA SEMANA 7 AL 13 DE SE...   TR    1019144.0   \n812  CONSUMO DE DIESEL SEMANA DE 26 AL 31 DE OCTUBR...   TR    1019144.0   \n813                                                NaN  NaN          NaN   \n\n         FECHA     IMPORTE          SHEET  \n0   2020-12-11    14911.80  GASTOS VARIOS  \n1   2020-12-11     2528.80  GASTOS VARIOS  \n2   2020-12-11     8500.02  GASTOS VARIOS  \n3   2020-12-11     2400.01  GASTOS VARIOS  \n4   2020-12-23     1537.00  GASTOS VARIOS  \n..         ...         ...            ...  \n809 2020-12-18   668569.94  GASTOS VARIOS  \n810 2020-12-18   276906.57  GASTOS VARIOS  \n811 2020-12-18   413735.30  GASTOS VARIOS  \n812 2020-12-18   137832.66  GASTOS VARIOS  \n813        NaT  5442570.04  GASTOS VARIOS  \n\n[814 rows x 11 columns]",
      "text/html": "<div>\n<style scoped>\n    .dataframe tbody tr th:only-of-type {\n        vertical-align: middle;\n    }\n\n    .dataframe tbody tr th {\n        vertical-align: top;\n    }\n\n    .dataframe thead th {\n        text-align: right;\n    }\n</style>\n<table border=\"1\" class=\"dataframe\">\n  <thead>\n    <tr style=\"text-align: right;\">\n      <th></th>\n      <th>NUM BEN</th>\n      <th>BENEFICIARIO</th>\n      <th>RFC</th>\n      <th>FACTURA</th>\n      <th>CONTRATO</th>\n      <th>CONCEPTO</th>\n      <th>TIPO</th>\n      <th># OP</th>\n      <th>FECHA</th>\n      <th>IMPORTE</th>\n      <th>SHEET</th>\n    </tr>\n  </thead>\n  <tbody>\n    <tr>\n      <th>0</th>\n      <td>110152</td>\n      <td>LLANTAS Y SERVICIOS SERNA ANAHUAC,S.A. DE C.V.</td>\n      <td>LSS841015DV3</td>\n      <td>LLS AF8458-158008-3972</td>\n      <td>OT. 20204373</td>\n      <td>REEMPLAZO E INSTALACION DE AMORTIGUADORES (DEL...</td>\n      <td>TR</td>\n      <td>1019110.0</td>\n      <td>2020-12-11</td>\n      <td>14911.80</td>\n      <td>GASTOS VARIOS</td>\n    </tr>\n    <tr>\n      <th>1</th>\n      <td>110152</td>\n      <td>LLANTAS Y SERVICIOS SERNA ANAHUAC,S.A. DE C.V.</td>\n      <td>LSS841015DV3</td>\n      <td>LLS PF6916-158008-4041</td>\n      <td>OT. 20204425</td>\n      <td>REEMPLAZO E INSTALACION DE OCHO BIRLOS Y NUEVE...</td>\n      <td>TR</td>\n      <td>1019110.0</td>\n      <td>2020-12-11</td>\n      <td>2528.80</td>\n      <td>GASTOS VARIOS</td>\n    </tr>\n    <tr>\n      <th>2</th>\n      <td>110152</td>\n      <td>LLANTAS Y SERVICIOS SERNA ANAHUAC,S.A. DE C.V.</td>\n      <td>LSS841015DV3</td>\n      <td>LLS PF6917-158008-3975</td>\n      <td>OT. 20204376</td>\n      <td>REEMPLAZO DE DOS RINES  (17). PATRIMONIO 80383...</td>\n      <td>TR</td>\n      <td>1019110.0</td>\n      <td>2020-12-11</td>\n      <td>8500.02</td>\n      <td>GASTOS VARIOS</td>\n    </tr>\n    <tr>\n      <th>3</th>\n      <td>110152</td>\n      <td>LLANTAS Y SERVICIOS SERNA ANAHUAC,S.A. DE C.V.</td>\n      <td>LSS841015DV3</td>\n      <td>LLS PF7004-158008-3971</td>\n      <td>OT. 20204374</td>\n      <td>REEMPLAZO DE  DOS RINES  (14). PATRIMONIO 8007...</td>\n      <td>TR</td>\n      <td>1019110.0</td>\n      <td>2020-12-11</td>\n      <td>2400.01</td>\n      <td>GASTOS VARIOS</td>\n    </tr>\n    <tr>\n      <th>4</th>\n      <td>110152</td>\n      <td>LLANTAS Y SERVICIOS SERNA ANAHUAC,S.A. DE C.V.</td>\n      <td>LSS841015DV3</td>\n      <td>LLS PF7137-158008-4554</td>\n      <td>OT. 20205130</td>\n      <td>REEMPLAZO E INSTALACION DE RIN 14. PATRIMONIO ...</td>\n      <td>TR</td>\n      <td>299001496.0</td>\n      <td>2020-12-23</td>\n      <td>1537.00</td>\n      <td>GASTOS VARIOS</td>\n    </tr>\n    <tr>\n      <th>...</th>\n      <td>...</td>\n      <td>...</td>\n      <td>...</td>\n      <td>...</td>\n      <td>...</td>\n      <td>...</td>\n      <td>...</td>\n      <td>...</td>\n      <td>...</td>\n      <td>...</td>\n      <td>...</td>\n    </tr>\n    <tr>\n      <th>809</th>\n      <td>370012</td>\n      <td>GS GAS Q, S.A. DE C.V.</td>\n      <td>GGQ131004TJ6</td>\n      <td>BPLGK78471458-158003-5605</td>\n      <td>SAD-619-2020</td>\n      <td>CONSUMO DE GASOLINA DELA SEMANA 05 AL 11 DE OC...</td>\n      <td>TR</td>\n      <td>1019144.0</td>\n      <td>2020-12-18</td>\n      <td>668569.94</td>\n      <td>GASTOS VARIOS</td>\n    </tr>\n    <tr>\n      <th>810</th>\n      <td>370012</td>\n      <td>GS GAS Q, S.A. DE C.V.</td>\n      <td>GGQ131004TJ6</td>\n      <td>BPLGK78471506-158003-5728</td>\n      <td>SAD-619-2020</td>\n      <td>CONSUMO DE DIESEL SEMANA DE 07 AL 13 DE SEPTIE...</td>\n      <td>TR</td>\n      <td>1019144.0</td>\n      <td>2020-12-18</td>\n      <td>276906.57</td>\n      <td>GASTOS VARIOS</td>\n    </tr>\n    <tr>\n      <th>811</th>\n      <td>370012</td>\n      <td>GS GAS Q, S.A. DE C.V.</td>\n      <td>GGQ131004TJ6</td>\n      <td>BPLGK78471508-158003-5744</td>\n      <td>SAD-619-2020</td>\n      <td>CONSUMO DE GASOLINA DE LA SEMANA 7 AL 13 DE SE...</td>\n      <td>TR</td>\n      <td>1019144.0</td>\n      <td>2020-12-18</td>\n      <td>413735.30</td>\n      <td>GASTOS VARIOS</td>\n    </tr>\n    <tr>\n      <th>812</th>\n      <td>370012</td>\n      <td>GS GAS Q, S.A. DE C.V.</td>\n      <td>GGQ131004TJ6</td>\n      <td>BPLGK78471509-158003-5727</td>\n      <td>SAD-619-2020</td>\n      <td>CONSUMO DE DIESEL SEMANA DE 26 AL 31 DE OCTUBR...</td>\n      <td>TR</td>\n      <td>1019144.0</td>\n      <td>2020-12-18</td>\n      <td>137832.66</td>\n      <td>GASTOS VARIOS</td>\n    </tr>\n    <tr>\n      <th>813</th>\n      <td>Total 370012</td>\n      <td>NaN</td>\n      <td>NaN</td>\n      <td>NaN</td>\n      <td>NaN</td>\n      <td>NaN</td>\n      <td>NaN</td>\n      <td>NaN</td>\n      <td>NaT</td>\n      <td>5442570.04</td>\n      <td>GASTOS VARIOS</td>\n    </tr>\n  </tbody>\n</table>\n<p>814 rows × 11 columns</p>\n</div>"
     },
     "metadata": {}
    }
   ],
   "execution_count": 21
  },
  {
   "cell_type": "code",
   "source": "df_contratistas=dataframe_excel_sheet('12_DICIEMBRE_2020.xlsx', 'CONTRATISTAS Y FDO FED', 5)\ndf_contratistas",
   "metadata": {
    "cell_id": "00007-91a97b10-eeb7-4791-96e6-044b2fa58469",
    "tags": [],
    "deepnote_to_be_reexecuted": false,
    "source_hash": "414a6cb5",
    "allow_embed": false,
    "execution_start": 1645991319359,
    "execution_millis": 277,
    "deepnote_cell_type": "code"
   },
   "outputs": [
    {
     "output_type": "execute_result",
     "execution_count": 22,
     "data": {
      "application/vnd.deepnote.dataframe.v3+json": {
       "column_count": 11,
       "row_count": 805,
       "columns": [
        {
         "name": "NUM BEN",
         "dtype": "object",
         "stats": {
          "unique_count": 162,
          "nan_count": 0,
          "categories": [
           {
            "name": "311250",
            "count": 266
           },
           {
            "name": "113899",
            "count": 97
           },
           {
            "name": "160 others",
            "count": 442
           }
          ]
         }
        },
        {
         "name": "BENEFICIARIO",
         "dtype": "object",
         "stats": {
          "unique_count": 81,
          "nan_count": 81,
          "categories": [
           {
            "name": "CAMARA MEXICANA DE LA INDUSTRIA DE LA CONSTRUCCION",
            "count": 266
           },
           {
            "name": "80 others",
            "count": 458
           },
           {
            "name": "Missing",
            "count": 81
           }
          ]
         }
        },
        {
         "name": "RFC",
         "dtype": "object",
         "stats": {
          "unique_count": 81,
          "nan_count": 81,
          "categories": [
           {
            "name": "CMI970416U95",
            "count": 266
           },
           {
            "name": "80 others",
            "count": 458
           },
           {
            "name": "Missing",
            "count": 81
           }
          ]
         }
        },
        {
         "name": "FACTURA",
         "dtype": "object",
         "stats": {
          "unique_count": 724,
          "nan_count": 81,
          "categories": [
           {
            "name": "C 14036-158003-5341",
            "count": 1
           },
           {
            "name": "723 others",
            "count": 723
           },
           {
            "name": "Missing",
            "count": 81
           }
          ]
         }
        },
        {
         "name": "CONTRATO",
         "dtype": "object",
         "stats": {
          "unique_count": 342,
          "nan_count": 81,
          "categories": [
           {
            "name": "SOP-013-2020",
            "count": 30
           },
           {
            "name": "341 others",
            "count": 694
           },
           {
            "name": "Missing",
            "count": 81
           }
          ]
         }
        },
        {
         "name": "CONCEPTO",
         "dtype": "object",
         "stats": {
          "unique_count": 719,
          "nan_count": 81,
          "categories": [
           {
            "name": "PROGRAMA PROREGIO",
            "count": 4
           },
           {
            "name": "718 others",
            "count": 720
           },
           {
            "name": "Missing",
            "count": 81
           }
          ]
         }
        },
        {
         "name": "TIPO",
         "dtype": "object",
         "stats": {
          "unique_count": 2,
          "nan_count": 81,
          "categories": [
           {
            "name": "TR",
            "count": 722
           },
           {
            "name": "CH",
            "count": 2
           },
           {
            "name": "Missing",
            "count": 81
           }
          ]
         }
        },
        {
         "name": "# OP",
         "dtype": "float64",
         "stats": {
          "unique_count": 265,
          "nan_count": 81,
          "min": "1019086.0",
          "max": "313000001.0",
          "histogram": [
           {
            "bin_start": 1019086,
            "bin_end": 32217177.5,
            "count": 6
           },
           {
            "bin_start": 32217177.5,
            "bin_end": 63415269,
            "count": 0
           },
           {
            "bin_start": 63415269,
            "bin_end": 94613360.5,
            "count": 0
           },
           {
            "bin_start": 94613360.5,
            "bin_end": 125811452,
            "count": 0
           },
           {
            "bin_start": 125811452,
            "bin_end": 157009543.5,
            "count": 0
           },
           {
            "bin_start": 157009543.5,
            "bin_end": 188207635,
            "count": 0
           },
           {
            "bin_start": 188207635,
            "bin_end": 219405726.5,
            "count": 0
           },
           {
            "bin_start": 219405726.5,
            "bin_end": 250603818,
            "count": 44
           },
           {
            "bin_start": 250603818,
            "bin_end": 281801909.5,
            "count": 69
           },
           {
            "bin_start": 281801909.5,
            "bin_end": 313000001,
            "count": 605
           }
          ]
         }
        },
        {
         "name": "FECHA",
         "dtype": "datetime64[ns]",
         "stats": {
          "unique_count": 14,
          "nan_count": 81,
          "min": "2020-12-03 00:00:00",
          "max": "2020-12-31 00:00:00",
          "histogram": [
           {
            "bin_start": 1606953600000000000,
            "bin_end": 1607195520000000000,
            "count": 351
           },
           {
            "bin_start": 1607195520000000000,
            "bin_end": 1607437440000000000,
            "count": 6
           },
           {
            "bin_start": 1607437440000000000,
            "bin_end": 1607679360000000000,
            "count": 54
           },
           {
            "bin_start": 1607679360000000000,
            "bin_end": 1607921280000000000,
            "count": 0
           },
           {
            "bin_start": 1607921280000000000,
            "bin_end": 1608163200000000000,
            "count": 2
           },
           {
            "bin_start": 1608163200000000000,
            "bin_end": 1608405120000000000,
            "count": 117
           },
           {
            "bin_start": 1608405120000000000,
            "bin_end": 1608647040000000000,
            "count": 2
           },
           {
            "bin_start": 1608647040000000000,
            "bin_end": 1608888960000000000,
            "count": 64
           },
           {
            "bin_start": 1608888960000000000,
            "bin_end": 1609130880000000000,
            "count": 36
           },
           {
            "bin_start": 1609130880000000000,
            "bin_end": 1609372800000000000,
            "count": 92
           }
          ]
         }
        },
        {
         "name": "IMPORTE",
         "dtype": "float64",
         "stats": {
          "unique_count": 635,
          "nan_count": 0,
          "min": "0.86",
          "max": "128117905.85000001",
          "histogram": [
           {
            "bin_start": 0.86,
            "bin_end": 12811791.359000001,
            "count": 798
           },
           {
            "bin_start": 12811791.359000001,
            "bin_end": 25623581.858000003,
            "count": 5
           },
           {
            "bin_start": 25623581.858000003,
            "bin_end": 38435372.35700001,
            "count": 0
           },
           {
            "bin_start": 38435372.35700001,
            "bin_end": 51247162.856000006,
            "count": 0
           },
           {
            "bin_start": 51247162.856000006,
            "bin_end": 64058953.355000004,
            "count": 0
           },
           {
            "bin_start": 64058953.355000004,
            "bin_end": 76870743.85400002,
            "count": 0
           },
           {
            "bin_start": 76870743.85400002,
            "bin_end": 89682534.35300002,
            "count": 0
           },
           {
            "bin_start": 89682534.35300002,
            "bin_end": 102494324.85200001,
            "count": 0
           },
           {
            "bin_start": 102494324.85200001,
            "bin_end": 115306115.35100001,
            "count": 0
           },
           {
            "bin_start": 115306115.35100001,
            "bin_end": 128117905.85000001,
            "count": 2
           }
          ]
         }
        },
        {
         "name": "SHEET",
         "dtype": "object",
         "stats": {
          "unique_count": 1,
          "nan_count": 0,
          "categories": [
           {
            "name": "CONTRATISTAS Y FDO FED",
            "count": 805
           }
          ]
         }
        },
        {
         "name": "_deepnote_index_column",
         "dtype": "int64"
        }
       ],
       "rows": [
        {
         "NUM BEN": "112458",
         "BENEFICIARIO": "DISTRIBUIDORA DE FRUTAS Y LEGUMBRES LA HORTALIZA,S.A.DE C.V.",
         "RFC": "DFL900423676",
         "FACTURA": "C 14036-158003-5341",
         "CONTRATO": "SADA/CC/185.3/2020",
         "CONCEPTO": "ADQUISICION DE INSUMOS PARA LA ALIMENTACION DE LOS CADETES DE LA ACADEMIA DE MONTERREY DEL MES DE S…",
         "TIPO": "TR",
         "# OP": 301000037,
         "FECHA": "2020-12-04 00:00:00",
         "IMPORTE": 18368.04,
         "SHEET": "CONTRATISTAS Y FDO FED",
         "_deepnote_index_column": 0
        },
        {
         "NUM BEN": "112458",
         "BENEFICIARIO": "DISTRIBUIDORA DE FRUTAS Y LEGUMBRES LA HORTALIZA,S.A.DE C.V.",
         "RFC": "DFL900423676",
         "FACTURA": "C 14038-158003-5345",
         "CONTRATO": "SADA/CC/185.2/2020",
         "CONCEPTO": "ADQUISICION DE INSUMOS PARA LA ALIMENTACION DE LOS DETENIDOS EN LA SECRETARIA DE SEGURIDAD PUBLICA …",
         "TIPO": "TR",
         "# OP": 301000037,
         "FECHA": "2020-12-04 00:00:00",
         "IMPORTE": 174432.09,
         "SHEET": "CONTRATISTAS Y FDO FED",
         "_deepnote_index_column": 1
        },
        {
         "NUM BEN": "112458",
         "BENEFICIARIO": "DISTRIBUIDORA DE FRUTAS Y LEGUMBRES LA HORTALIZA,S.A.DE C.V.",
         "RFC": "DFL900423676",
         "FACTURA": "C14046-158003-5661",
         "CONTRATO": "SADA/CC/205/2020",
         "CONCEPTO": "ADQUISICION DE INSUMOS PARA LA ALIMENTACION DE LOS DETENIDOS EN LA SECRETARIA DE SEGURIDAD PUBLICA …",
         "TIPO": "TR",
         "# OP": 300000119,
         "FECHA": "2020-12-11 00:00:00",
         "IMPORTE": 175270.39,
         "SHEET": "CONTRATISTAS Y FDO FED",
         "_deepnote_index_column": 2
        },
        {
         "NUM BEN": "Total 112458",
         "BENEFICIARIO": "nan",
         "RFC": "nan",
         "FACTURA": "nan",
         "CONTRATO": "nan",
         "CONCEPTO": "nan",
         "TIPO": "nan",
         "# OP": "nan",
         "FECHA": "NaT",
         "IMPORTE": 368070.52,
         "SHEET": "CONTRATISTAS Y FDO FED",
         "_deepnote_index_column": 3
        },
        {
         "NUM BEN": "113412",
         "BENEFICIARIO": "EMPACADORA Y DISTR.DE CARNES FINAS SAN JUAN,S.A.DE C.V.",
         "RFC": "EDC011123R22",
         "FACTURA": "EB170475-158003-5320",
         "CONTRATO": "ORDEN DE COMPRA 6541",
         "CONCEPTO": "ADQUISICION DE INSUMOS PARA LA ALIMENTACION DE LOS CADETES DE LA ACADEMIA DE MONTERREY DEL MES DE O…",
         "TIPO": "TR",
         "# OP": 300000116,
         "FECHA": "2020-12-04 00:00:00",
         "IMPORTE": 183258,
         "SHEET": "CONTRATISTAS Y FDO FED",
         "_deepnote_index_column": 4
        },
        {
         "NUM BEN": "113412",
         "BENEFICIARIO": "EMPACADORA Y DISTR.DE CARNES FINAS SAN JUAN,S.A.DE C.V.",
         "RFC": "EDC011123R22",
         "FACTURA": "EB170534-158003-5323",
         "CONTRATO": "ORDEN DE COMPRA 6545",
         "CONCEPTO": "ADQUISICION DE INSUMOS PARA LA ALIMENTACION DE LOS DETENIDOS EN LA SECRETARIA DE SEGURIDAD PUBLICA …",
         "TIPO": "TR",
         "# OP": 300000116,
         "FECHA": "2020-12-04 00:00:00",
         "IMPORTE": 109078,
         "SHEET": "CONTRATISTAS Y FDO FED",
         "_deepnote_index_column": 5
        },
        {
         "NUM BEN": "Total 113412",
         "BENEFICIARIO": "nan",
         "RFC": "nan",
         "FACTURA": "nan",
         "CONTRATO": "nan",
         "CONCEPTO": "nan",
         "TIPO": "nan",
         "# OP": "nan",
         "FECHA": "NaT",
         "IMPORTE": 292336,
         "SHEET": "CONTRATISTAS Y FDO FED",
         "_deepnote_index_column": 6
        },
        {
         "NUM BEN": "113516",
         "BENEFICIARIO": "CAR ONE AMERICANA,S.A.DE C.V.",
         "RFC": "COA030402N59",
         "FACTURA": "UTS115695-158008-4184",
         "CONTRATO": "OT. 20204572",
         "CONCEPTO": "REEMPLAZO DE BALATAS DELANTERAS Y RECTIFICADO DE DISCOS PATRIMONIO 83230 2020 SPARK NG PAQ F LT",
         "TIPO": "TR",
         "# OP": 221000026,
         "FECHA": "2020-12-18 00:00:00",
         "IMPORTE": 7447.2,
         "SHEET": "CONTRATISTAS Y FDO FED",
         "_deepnote_index_column": 7
        },
        {
         "NUM BEN": "113516",
         "BENEFICIARIO": "CAR ONE AMERICANA,S.A.DE C.V.",
         "RFC": "COA030402N59",
         "FACTURA": "UTS116936-158008-4591",
         "CONTRATO": "OT. 20205166",
         "CONCEPTO": "MANTENIMIENTO DE 12,000 KMS. PATRIMONIO 83231 2020 AVEO \"B\" LS",
         "TIPO": "TR",
         "# OP": 301000039,
         "FECHA": "2020-12-18 00:00:00",
         "IMPORTE": 1513.8,
         "SHEET": "CONTRATISTAS Y FDO FED",
         "_deepnote_index_column": 8
        },
        {
         "NUM BEN": "Total 113516",
         "BENEFICIARIO": "nan",
         "RFC": "nan",
         "FACTURA": "nan",
         "CONTRATO": "nan",
         "CONCEPTO": "nan",
         "TIPO": "nan",
         "# OP": "nan",
         "FECHA": "NaT",
         "IMPORTE": 8961,
         "SHEET": "CONTRATISTAS Y FDO FED",
         "_deepnote_index_column": 9
        }
       ]
      },
      "text/plain": "          NUM BEN                                       BENEFICIARIO  \\\n0          112458  DISTRIBUIDORA DE FRUTAS Y LEGUMBRES LA HORTALI...   \n1          112458  DISTRIBUIDORA DE FRUTAS Y LEGUMBRES LA HORTALI...   \n2          112458  DISTRIBUIDORA DE FRUTAS Y LEGUMBRES LA HORTALI...   \n3    Total 112458                                                NaN   \n4          113412  EMPACADORA Y DISTR.DE CARNES FINAS SAN JUAN,S....   \n..            ...                                                ...   \n800        320096  INSTITUTO ESTATAL DE CIENCIAS PENALES Y SEGURI...   \n801        320096  INSTITUTO ESTATAL DE CIENCIAS PENALES Y SEGURI...   \n802        320096  INSTITUTO ESTATAL DE CIENCIAS PENALES Y SEGURI...   \n803        320096  INSTITUTO ESTATAL DE CIENCIAS PENALES Y SEGURI...   \n804  Total 320096                                                NaN   \n\n              RFC               FACTURA              CONTRATO  \\\n0    DFL900423676   C 14036-158003-5341    SADA/CC/185.3/2020   \n1    DFL900423676   C 14038-158003-5345    SADA/CC/185.2/2020   \n2    DFL900423676    C14046-158003-5661      SADA/CC/205/2020   \n3             NaN                   NaN                   NaN   \n4    EDC011123R22  EB170475-158003-5320  ORDEN DE COMPRA 6541   \n..            ...                   ...                   ...   \n800  IEC1308018J4      2010-158003-5848          SPP-363-2020   \n801  IEC1308018J4      2012-158003-5849          SPP-363-2020   \n802  IEC1308018J4      2031-158003-5863          SPP-362-2020   \n803  IEC1308018J4      2049-158003-5871          SPP-363-2020   \n804           NaN                   NaN                   NaN   \n\n                                              CONCEPTO TIPO         # OP  \\\n0    ADQUISICION DE INSUMOS PARA LA ALIMENTACION DE...   TR  301000037.0   \n1    ADQUISICION DE INSUMOS PARA LA ALIMENTACION DE...   TR  301000037.0   \n2    ADQUISICION DE INSUMOS PARA LA ALIMENTACION DE...   TR  300000119.0   \n3                                                  NaN  NaN          NaN   \n4    ADQUISICION DE INSUMOS PARA LA ALIMENTACION DE...   TR  300000116.0   \n..                                                 ...  ...          ...   \n800  SERVICIOS DE IMPARTICION DE CURSO DE DIPLOMADO...   TR  297000064.0   \n801  SERVICIOS DE IMPARTICION DE CURSO DE CADENA DE...   TR  297000064.0   \n802  SERVICIOS DE IMPARTICION DE CURSO DE JUSTICIA ...   TR  303000007.0   \n803  SERVICIOS DE IMPARTICION DE CURSO DE JUSTICIA ...   TR  297000066.0   \n804                                                NaN  NaN          NaN   \n\n         FECHA     IMPORTE                   SHEET  \n0   2020-12-04    18368.04  CONTRATISTAS Y FDO FED  \n1   2020-12-04   174432.09  CONTRATISTAS Y FDO FED  \n2   2020-12-11   175270.39  CONTRATISTAS Y FDO FED  \n3          NaT   368070.52  CONTRATISTAS Y FDO FED  \n4   2020-12-04   183258.00  CONTRATISTAS Y FDO FED  \n..         ...         ...                     ...  \n800 2020-12-23   390000.00  CONTRATISTAS Y FDO FED  \n801 2020-12-23   875000.00  CONTRATISTAS Y FDO FED  \n802 2020-12-23   805000.00  CONTRATISTAS Y FDO FED  \n803 2020-12-30   875000.00  CONTRATISTAS Y FDO FED  \n804        NaT  3820000.00  CONTRATISTAS Y FDO FED  \n\n[805 rows x 11 columns]",
      "text/html": "<div>\n<style scoped>\n    .dataframe tbody tr th:only-of-type {\n        vertical-align: middle;\n    }\n\n    .dataframe tbody tr th {\n        vertical-align: top;\n    }\n\n    .dataframe thead th {\n        text-align: right;\n    }\n</style>\n<table border=\"1\" class=\"dataframe\">\n  <thead>\n    <tr style=\"text-align: right;\">\n      <th></th>\n      <th>NUM BEN</th>\n      <th>BENEFICIARIO</th>\n      <th>RFC</th>\n      <th>FACTURA</th>\n      <th>CONTRATO</th>\n      <th>CONCEPTO</th>\n      <th>TIPO</th>\n      <th># OP</th>\n      <th>FECHA</th>\n      <th>IMPORTE</th>\n      <th>SHEET</th>\n    </tr>\n  </thead>\n  <tbody>\n    <tr>\n      <th>0</th>\n      <td>112458</td>\n      <td>DISTRIBUIDORA DE FRUTAS Y LEGUMBRES LA HORTALI...</td>\n      <td>DFL900423676</td>\n      <td>C 14036-158003-5341</td>\n      <td>SADA/CC/185.3/2020</td>\n      <td>ADQUISICION DE INSUMOS PARA LA ALIMENTACION DE...</td>\n      <td>TR</td>\n      <td>301000037.0</td>\n      <td>2020-12-04</td>\n      <td>18368.04</td>\n      <td>CONTRATISTAS Y FDO FED</td>\n    </tr>\n    <tr>\n      <th>1</th>\n      <td>112458</td>\n      <td>DISTRIBUIDORA DE FRUTAS Y LEGUMBRES LA HORTALI...</td>\n      <td>DFL900423676</td>\n      <td>C 14038-158003-5345</td>\n      <td>SADA/CC/185.2/2020</td>\n      <td>ADQUISICION DE INSUMOS PARA LA ALIMENTACION DE...</td>\n      <td>TR</td>\n      <td>301000037.0</td>\n      <td>2020-12-04</td>\n      <td>174432.09</td>\n      <td>CONTRATISTAS Y FDO FED</td>\n    </tr>\n    <tr>\n      <th>2</th>\n      <td>112458</td>\n      <td>DISTRIBUIDORA DE FRUTAS Y LEGUMBRES LA HORTALI...</td>\n      <td>DFL900423676</td>\n      <td>C14046-158003-5661</td>\n      <td>SADA/CC/205/2020</td>\n      <td>ADQUISICION DE INSUMOS PARA LA ALIMENTACION DE...</td>\n      <td>TR</td>\n      <td>300000119.0</td>\n      <td>2020-12-11</td>\n      <td>175270.39</td>\n      <td>CONTRATISTAS Y FDO FED</td>\n    </tr>\n    <tr>\n      <th>3</th>\n      <td>Total 112458</td>\n      <td>NaN</td>\n      <td>NaN</td>\n      <td>NaN</td>\n      <td>NaN</td>\n      <td>NaN</td>\n      <td>NaN</td>\n      <td>NaN</td>\n      <td>NaT</td>\n      <td>368070.52</td>\n      <td>CONTRATISTAS Y FDO FED</td>\n    </tr>\n    <tr>\n      <th>4</th>\n      <td>113412</td>\n      <td>EMPACADORA Y DISTR.DE CARNES FINAS SAN JUAN,S....</td>\n      <td>EDC011123R22</td>\n      <td>EB170475-158003-5320</td>\n      <td>ORDEN DE COMPRA 6541</td>\n      <td>ADQUISICION DE INSUMOS PARA LA ALIMENTACION DE...</td>\n      <td>TR</td>\n      <td>300000116.0</td>\n      <td>2020-12-04</td>\n      <td>183258.00</td>\n      <td>CONTRATISTAS Y FDO FED</td>\n    </tr>\n    <tr>\n      <th>...</th>\n      <td>...</td>\n      <td>...</td>\n      <td>...</td>\n      <td>...</td>\n      <td>...</td>\n      <td>...</td>\n      <td>...</td>\n      <td>...</td>\n      <td>...</td>\n      <td>...</td>\n      <td>...</td>\n    </tr>\n    <tr>\n      <th>800</th>\n      <td>320096</td>\n      <td>INSTITUTO ESTATAL DE CIENCIAS PENALES Y SEGURI...</td>\n      <td>IEC1308018J4</td>\n      <td>2010-158003-5848</td>\n      <td>SPP-363-2020</td>\n      <td>SERVICIOS DE IMPARTICION DE CURSO DE DIPLOMADO...</td>\n      <td>TR</td>\n      <td>297000064.0</td>\n      <td>2020-12-23</td>\n      <td>390000.00</td>\n      <td>CONTRATISTAS Y FDO FED</td>\n    </tr>\n    <tr>\n      <th>801</th>\n      <td>320096</td>\n      <td>INSTITUTO ESTATAL DE CIENCIAS PENALES Y SEGURI...</td>\n      <td>IEC1308018J4</td>\n      <td>2012-158003-5849</td>\n      <td>SPP-363-2020</td>\n      <td>SERVICIOS DE IMPARTICION DE CURSO DE CADENA DE...</td>\n      <td>TR</td>\n      <td>297000064.0</td>\n      <td>2020-12-23</td>\n      <td>875000.00</td>\n      <td>CONTRATISTAS Y FDO FED</td>\n    </tr>\n    <tr>\n      <th>802</th>\n      <td>320096</td>\n      <td>INSTITUTO ESTATAL DE CIENCIAS PENALES Y SEGURI...</td>\n      <td>IEC1308018J4</td>\n      <td>2031-158003-5863</td>\n      <td>SPP-362-2020</td>\n      <td>SERVICIOS DE IMPARTICION DE CURSO DE JUSTICIA ...</td>\n      <td>TR</td>\n      <td>303000007.0</td>\n      <td>2020-12-23</td>\n      <td>805000.00</td>\n      <td>CONTRATISTAS Y FDO FED</td>\n    </tr>\n    <tr>\n      <th>803</th>\n      <td>320096</td>\n      <td>INSTITUTO ESTATAL DE CIENCIAS PENALES Y SEGURI...</td>\n      <td>IEC1308018J4</td>\n      <td>2049-158003-5871</td>\n      <td>SPP-363-2020</td>\n      <td>SERVICIOS DE IMPARTICION DE CURSO DE JUSTICIA ...</td>\n      <td>TR</td>\n      <td>297000066.0</td>\n      <td>2020-12-30</td>\n      <td>875000.00</td>\n      <td>CONTRATISTAS Y FDO FED</td>\n    </tr>\n    <tr>\n      <th>804</th>\n      <td>Total 320096</td>\n      <td>NaN</td>\n      <td>NaN</td>\n      <td>NaN</td>\n      <td>NaN</td>\n      <td>NaN</td>\n      <td>NaN</td>\n      <td>NaN</td>\n      <td>NaT</td>\n      <td>3820000.00</td>\n      <td>CONTRATISTAS Y FDO FED</td>\n    </tr>\n  </tbody>\n</table>\n<p>805 rows × 11 columns</p>\n</div>"
     },
     "metadata": {}
    }
   ],
   "execution_count": 22
  },
  {
   "cell_type": "code",
   "source": "df_comunicacion=dataframe_excel_sheet('12_DICIEMBRE_2020.xlsx', 'COMUNICACION', 5)\ndf_comunicacion",
   "metadata": {
    "cell_id": "00008-a473f726-121f-4cb8-ae4a-759642bf44fc",
    "tags": [],
    "deepnote_to_be_reexecuted": false,
    "source_hash": "46feffb7",
    "allow_embed": false,
    "execution_start": 1645991403531,
    "execution_millis": 188,
    "deepnote_cell_type": "code"
   },
   "outputs": [
    {
     "output_type": "execute_result",
     "execution_count": 23,
     "data": {
      "application/vnd.deepnote.dataframe.v3+json": {
       "column_count": 11,
       "row_count": 90,
       "columns": [
        {
         "name": "NUM BEN",
         "dtype": "object",
         "stats": {
          "unique_count": 38,
          "nan_count": 0,
          "categories": [
           {
            "name": "116563",
            "count": 12
           },
           {
            "name": "110816",
            "count": 6
           },
           {
            "name": "36 others",
            "count": 72
           }
          ]
         }
        },
        {
         "name": "BENEFICIARIO",
         "dtype": "object",
         "stats": {
          "unique_count": 19,
          "nan_count": 19,
          "categories": [
           {
            "name": "MILENIO DIARIO, S.A. DE C.V.",
            "count": 12
           },
           {
            "name": "18 others",
            "count": 59
           },
           {
            "name": "Missing",
            "count": 19
           }
          ]
         }
        },
        {
         "name": "RFC",
         "dtype": "object",
         "stats": {
          "unique_count": 19,
          "nan_count": 19,
          "categories": [
           {
            "name": "MDI991214A74",
            "count": 12
           },
           {
            "name": "18 others",
            "count": 59
           },
           {
            "name": "Missing",
            "count": 19
           }
          ]
         }
        },
        {
         "name": "FACTURA",
         "dtype": "object",
         "stats": {
          "unique_count": 71,
          "nan_count": 19,
          "categories": [
           {
            "name": "19822 A-158003-5092",
            "count": 1
           },
           {
            "name": "70 others",
            "count": 70
           },
           {
            "name": "Missing",
            "count": 19
           }
          ]
         }
        },
        {
         "name": "CONTRATO",
         "dtype": "object",
         "stats": {
          "unique_count": 19,
          "nan_count": 19,
          "categories": [
           {
            "name": "OEP-210-2020",
            "count": 12
           },
           {
            "name": "18 others",
            "count": 59
           },
           {
            "name": "Missing",
            "count": 19
           }
          ]
         }
        },
        {
         "name": "CONCEPTO",
         "dtype": "object",
         "stats": {
          "unique_count": 69,
          "nan_count": 19,
          "categories": [
           {
            "name": "MENCIONES DE 30SEG, DEL DIA 23 AL 25 DE SEPTIEMBRE DEL 2020, CAMPAÑA 2DO. INFORME DE GOBIERNO",
            "count": 2
           },
           {
            "name": "68 others",
            "count": 69
           },
           {
            "name": "Missing",
            "count": 19
           }
          ]
         }
        },
        {
         "name": "TIPO",
         "dtype": "object",
         "stats": {
          "unique_count": 1,
          "nan_count": 19,
          "categories": [
           {
            "name": "TR",
            "count": 71
           },
           {
            "name": "Missing",
            "count": 19
           }
          ]
         }
        },
        {
         "name": "# OP",
         "dtype": "float64",
         "stats": {
          "unique_count": 19,
          "nan_count": 19,
          "min": "1019045.0",
          "max": "1019124.0",
          "histogram": [
           {
            "bin_start": 1019045,
            "bin_end": 1019052.9,
            "count": 6
           },
           {
            "bin_start": 1019052.9,
            "bin_end": 1019060.8,
            "count": 8
           },
           {
            "bin_start": 1019060.8,
            "bin_end": 1019068.7,
            "count": 0
           },
           {
            "bin_start": 1019068.7,
            "bin_end": 1019076.6,
            "count": 4
           },
           {
            "bin_start": 1019076.6,
            "bin_end": 1019084.5,
            "count": 7
           },
           {
            "bin_start": 1019084.5,
            "bin_end": 1019092.4,
            "count": 2
           },
           {
            "bin_start": 1019092.4,
            "bin_end": 1019100.3,
            "count": 4
           },
           {
            "bin_start": 1019100.3,
            "bin_end": 1019108.2,
            "count": 28
           },
           {
            "bin_start": 1019108.2,
            "bin_end": 1019116.1,
            "count": 6
           },
           {
            "bin_start": 1019116.1,
            "bin_end": 1019124,
            "count": 6
           }
          ]
         }
        },
        {
         "name": "FECHA",
         "dtype": "datetime64[ns]",
         "stats": {
          "unique_count": 2,
          "nan_count": 19,
          "min": "2020-12-04 00:00:00",
          "max": "2020-12-11 00:00:00",
          "histogram": [
           {
            "bin_start": 1607040000000000000,
            "bin_end": 1607100480000000000,
            "count": 27
           },
           {
            "bin_start": 1607100480000000000,
            "bin_end": 1607160960000000000,
            "count": 0
           },
           {
            "bin_start": 1607160960000000000,
            "bin_end": 1607221440000000000,
            "count": 0
           },
           {
            "bin_start": 1607221440000000000,
            "bin_end": 1607281920000000000,
            "count": 0
           },
           {
            "bin_start": 1607281920000000000,
            "bin_end": 1607342400000000000,
            "count": 0
           },
           {
            "bin_start": 1607342400000000000,
            "bin_end": 1607402880000000000,
            "count": 0
           },
           {
            "bin_start": 1607402880000000000,
            "bin_end": 1607463360000000000,
            "count": 0
           },
           {
            "bin_start": 1607463360000000000,
            "bin_end": 1607523840000000000,
            "count": 0
           },
           {
            "bin_start": 1607523840000000000,
            "bin_end": 1607584320000000000,
            "count": 0
           },
           {
            "bin_start": 1607584320000000000,
            "bin_end": 1607644800000000000,
            "count": 44
           }
          ]
         }
        },
        {
         "name": "IMPORTE",
         "dtype": "float64",
         "stats": {
          "unique_count": 58,
          "nan_count": 0,
          "min": "14449.98",
          "max": "1384723.3199999998",
          "histogram": [
           {
            "bin_start": 14449.98,
            "bin_end": 151477.31399999998,
            "count": 61
           },
           {
            "bin_start": 151477.31399999998,
            "bin_end": 288504.6479999999,
            "count": 15
           },
           {
            "bin_start": 288504.6479999999,
            "bin_end": 425531.9819999999,
            "count": 6
           },
           {
            "bin_start": 425531.9819999999,
            "bin_end": 562559.3159999999,
            "count": 2
           },
           {
            "bin_start": 562559.3159999999,
            "bin_end": 699586.6499999999,
            "count": 0
           },
           {
            "bin_start": 699586.6499999999,
            "bin_end": 836613.9839999998,
            "count": 2
           },
           {
            "bin_start": 836613.9839999998,
            "bin_end": 973641.3179999997,
            "count": 2
           },
           {
            "bin_start": 973641.3179999997,
            "bin_end": 1110668.6519999998,
            "count": 1
           },
           {
            "bin_start": 1110668.6519999998,
            "bin_end": 1247695.9859999998,
            "count": 0
           },
           {
            "bin_start": 1247695.9859999998,
            "bin_end": 1384723.3199999998,
            "count": 1
           }
          ]
         }
        },
        {
         "name": "SHEET",
         "dtype": "object",
         "stats": {
          "unique_count": 1,
          "nan_count": 0,
          "categories": [
           {
            "name": "COMUNICACION",
            "count": 90
           }
          ]
         }
        },
        {
         "name": "_deepnote_index_column",
         "dtype": "int64"
        }
       ],
       "rows": [
        {
         "NUM BEN": "110816",
         "BENEFICIARIO": "NUCLEO RADIO MONTERREY,S.A.DE C.V.",
         "RFC": "NRM900201UMA",
         "FACTURA": "19822 A-158003-5092",
         "CONTRATO": "OEP-195-2020",
         "CONCEPTO": "MENCIONES DE 30SEG, DEL DIA 23 AL 25 DE SEPTIEMBRE DEL 2020, CAMPAÑA 2DO. INFORME DE GOBIERNO",
         "TIPO": "TR",
         "# OP": 1019103,
         "FECHA": "2020-12-11 00:00:00",
         "IMPORTE": 55881.84,
         "SHEET": "COMUNICACION",
         "_deepnote_index_column": 0
        },
        {
         "NUM BEN": "110816",
         "BENEFICIARIO": "NUCLEO RADIO MONTERREY,S.A.DE C.V.",
         "RFC": "NRM900201UMA",
         "FACTURA": "19823 A-158003-5093",
         "CONTRATO": "OEP-195-2020",
         "CONCEPTO": "MENCIONES DE 30SEG, DEL DIA 30 DE SEPTIEMBRE AL 02 DE OCTUBRE DEL 2020, CAMPAÑA 2DO. INFORME DE GOB…",
         "TIPO": "TR",
         "# OP": 1019103,
         "FECHA": "2020-12-11 00:00:00",
         "IMPORTE": 55881.84,
         "SHEET": "COMUNICACION",
         "_deepnote_index_column": 1
        },
        {
         "NUM BEN": "110816",
         "BENEFICIARIO": "NUCLEO RADIO MONTERREY,S.A.DE C.V.",
         "RFC": "NRM900201UMA",
         "FACTURA": "19824 A-158003-5094",
         "CONTRATO": "OEP-195-2020",
         "CONCEPTO": "TRANSMISION DE SPOT DE 20SEG, DEL DIA 28 DE SEPTIEMBRE AL 02 DE OCTUBRE DEL 2020, CAMPAÑA 2DO. INFO…",
         "TIPO": "TR",
         "# OP": 1019103,
         "FECHA": "2020-12-11 00:00:00",
         "IMPORTE": 227777.6,
         "SHEET": "COMUNICACION",
         "_deepnote_index_column": 2
        },
        {
         "NUM BEN": "110816",
         "BENEFICIARIO": "NUCLEO RADIO MONTERREY,S.A.DE C.V.",
         "RFC": "NRM900201UMA",
         "FACTURA": "19826 A-158003-5095",
         "CONTRATO": "OEP-195-2020",
         "CONCEPTO": "TRANSMISION DE SPOT DE 20SEG, DEL DIA 21 AL 25 DE SEPTIEMBRE DEL 2020, CAMPAÑA 2DO. INFORME DE GOBI…",
         "TIPO": "TR",
         "# OP": 1019103,
         "FECHA": "2020-12-11 00:00:00",
         "IMPORTE": 102284.16,
         "SHEET": "COMUNICACION",
         "_deepnote_index_column": 3
        },
        {
         "NUM BEN": "110816",
         "BENEFICIARIO": "NUCLEO RADIO MONTERREY,S.A.DE C.V.",
         "RFC": "NRM900201UMA",
         "FACTURA": "19827 A-158003-5096",
         "CONTRATO": "OEP-195-2020",
         "CONCEPTO": "TRANSMISION DE SPOT DE 30SEG, DEL DIA 21 AL 26 DE SEPTIEMBRE DEL 2020, CAMPAÑA 2DO. INFORME DE GOBI…",
         "TIPO": "TR",
         "# OP": 1019103,
         "FECHA": "2020-12-11 00:00:00",
         "IMPORTE": 189943.04,
         "SHEET": "COMUNICACION",
         "_deepnote_index_column": 4
        },
        {
         "NUM BEN": "110816",
         "BENEFICIARIO": "NUCLEO RADIO MONTERREY,S.A.DE C.V.",
         "RFC": "NRM900201UMA",
         "FACTURA": "19922 A-158003-5412",
         "CONTRATO": "OEP-195-2020",
         "CONCEPTO": "TRANSMISION DE SPOT DE 30SEG, DEL DIA 21 AL 23 DE OCTUBRE 2020, CAMPAÑA PREDIAL",
         "TIPO": "TR",
         "# OP": 1019103,
         "FECHA": "2020-12-11 00:00:00",
         "IMPORTE": 215481.6,
         "SHEET": "COMUNICACION",
         "_deepnote_index_column": 5
        },
        {
         "NUM BEN": "Total 110816",
         "BENEFICIARIO": "nan",
         "RFC": "nan",
         "FACTURA": "nan",
         "CONTRATO": "nan",
         "CONCEPTO": "nan",
         "TIPO": "nan",
         "# OP": "nan",
         "FECHA": "NaT",
         "IMPORTE": 847250.0800000001,
         "SHEET": "COMUNICACION",
         "_deepnote_index_column": 6
        },
        {
         "NUM BEN": "114466",
         "BENEFICIARIO": "SISTEMEDIOS, S.A. DE C.V.",
         "RFC": "SIS930615LN3",
         "FACTURA": "A - 010212-158003-5466",
         "CONTRATO": "OEP-218-2020",
         "CONCEPTO": "SERVICIO DE IMPRESION DE 45 MIL EJEMPLARES EN PAPEL PERIODICO (4 PAGINAS) ENCARTADOS EN PERIODICO A…",
         "TIPO": "TR",
         "# OP": 1019124,
         "FECHA": "2020-12-11 00:00:00",
         "IMPORTE": 290000,
         "SHEET": "COMUNICACION",
         "_deepnote_index_column": 7
        },
        {
         "NUM BEN": "114466",
         "BENEFICIARIO": "SISTEMEDIOS, S.A. DE C.V.",
         "RFC": "SIS930615LN3",
         "FACTURA": "A - 010213-158003-5467",
         "CONTRATO": "OEP-218-2020",
         "CONCEPTO": "SERVICIO DE IMPRESION DE 45 MIL EJEMPLARES EN PAPEL PERIODICO (4 PAGINAS) ENCARTADOS EN PERIODICO A…",
         "TIPO": "TR",
         "# OP": 1019124,
         "FECHA": "2020-12-11 00:00:00",
         "IMPORTE": 290000,
         "SHEET": "COMUNICACION",
         "_deepnote_index_column": 8
        },
        {
         "NUM BEN": "114466",
         "BENEFICIARIO": "SISTEMEDIOS, S.A. DE C.V.",
         "RFC": "SIS930615LN3",
         "FACTURA": "A - 010214-158003-5468",
         "CONTRATO": "OEP-218-2020",
         "CONCEPTO": "SERVICIO DE IMPRESION DE 45 MIL EJEMPLARES EN PAPEL PERIODICO (4 PAGINAS) ENCARTADOS EN PERIODICO A…",
         "TIPO": "TR",
         "# OP": 1019124,
         "FECHA": "2020-12-11 00:00:00",
         "IMPORTE": 208800,
         "SHEET": "COMUNICACION",
         "_deepnote_index_column": 9
        }
       ]
      },
      "text/plain": "         NUM BEN                           BENEFICIARIO           RFC  \\\n0         110816     NUCLEO RADIO MONTERREY,S.A.DE C.V.  NRM900201UMA   \n1         110816     NUCLEO RADIO MONTERREY,S.A.DE C.V.  NRM900201UMA   \n2         110816     NUCLEO RADIO MONTERREY,S.A.DE C.V.  NRM900201UMA   \n3         110816     NUCLEO RADIO MONTERREY,S.A.DE C.V.  NRM900201UMA   \n4         110816     NUCLEO RADIO MONTERREY,S.A.DE C.V.  NRM900201UMA   \n..           ...                                    ...           ...   \n85        318632              MAYORGA CONSULTORES, S.C.  MCO161215NS9   \n86  Total 318632                                    NaN           NaN   \n87        320004  PUBLIGAB COMUNICACIONES, S.A. DE C.V.  PCO160613PCA   \n88        320004  PUBLIGAB COMUNICACIONES, S.A. DE C.V.  PCO160613PCA   \n89  Total 320004                                    NaN           NaN   \n\n                FACTURA      CONTRATO  \\\n0   19822 A-158003-5092  OEP-195-2020   \n1   19823 A-158003-5093  OEP-195-2020   \n2   19824 A-158003-5094  OEP-195-2020   \n3   19826 A-158003-5095  OEP-195-2020   \n4   19827 A-158003-5096  OEP-195-2020   \n..                  ...           ...   \n85      152-158003-5533  OEP-244-2020   \n86                  NaN           NaN   \n87    A 745-158003-5164  OEP-235-2020   \n88    A 750-158003-5511  OEP-235-2020   \n89                  NaN           NaN   \n\n                                             CONCEPTO TIPO       # OP  \\\n0   MENCIONES DE 30SEG, DEL DIA 23 AL 25 DE SEPTIE...   TR  1019103.0   \n1   MENCIONES DE 30SEG, DEL DIA 30 DE SEPTIEMBRE A...   TR  1019103.0   \n2   TRANSMISION DE SPOT DE 20SEG, DEL DIA 28 DE SE...   TR  1019103.0   \n3   TRANSMISION DE SPOT DE 20SEG, DEL DIA 21 AL 25...   TR  1019103.0   \n4   TRANSMISION DE SPOT DE 30SEG, DEL DIA 21 AL 26...   TR  1019103.0   \n..                                                ...  ...        ...   \n85  SERVICIO DE BANNER EN LA PAGINA AVIMEXNEWS.COM...   TR  1019047.0   \n86                                                NaN  NaN        NaN   \n87  DESPLEGADO EN LA REVISTA PUNTO (PLANA), DEL ME...   TR  1019085.0   \n88  2 DESPLEGADOS EN LA REVISTA PUNTO (PLANA), DEL...   TR  1019085.0   \n89                                                NaN  NaN        NaN   \n\n        FECHA    IMPORTE         SHEET  \n0  2020-12-11   55881.84  COMUNICACION  \n1  2020-12-11   55881.84  COMUNICACION  \n2  2020-12-11  227777.60  COMUNICACION  \n3  2020-12-11  102284.16  COMUNICACION  \n4  2020-12-11  189943.04  COMUNICACION  \n..        ...        ...           ...  \n85 2020-12-04   30160.00  COMUNICACION  \n86        NaT  120640.00  COMUNICACION  \n87 2020-12-04   29999.92  COMUNICACION  \n88 2020-12-04   59999.84  COMUNICACION  \n89        NaT   89999.76  COMUNICACION  \n\n[90 rows x 11 columns]",
      "text/html": "<div>\n<style scoped>\n    .dataframe tbody tr th:only-of-type {\n        vertical-align: middle;\n    }\n\n    .dataframe tbody tr th {\n        vertical-align: top;\n    }\n\n    .dataframe thead th {\n        text-align: right;\n    }\n</style>\n<table border=\"1\" class=\"dataframe\">\n  <thead>\n    <tr style=\"text-align: right;\">\n      <th></th>\n      <th>NUM BEN</th>\n      <th>BENEFICIARIO</th>\n      <th>RFC</th>\n      <th>FACTURA</th>\n      <th>CONTRATO</th>\n      <th>CONCEPTO</th>\n      <th>TIPO</th>\n      <th># OP</th>\n      <th>FECHA</th>\n      <th>IMPORTE</th>\n      <th>SHEET</th>\n    </tr>\n  </thead>\n  <tbody>\n    <tr>\n      <th>0</th>\n      <td>110816</td>\n      <td>NUCLEO RADIO MONTERREY,S.A.DE C.V.</td>\n      <td>NRM900201UMA</td>\n      <td>19822 A-158003-5092</td>\n      <td>OEP-195-2020</td>\n      <td>MENCIONES DE 30SEG, DEL DIA 23 AL 25 DE SEPTIE...</td>\n      <td>TR</td>\n      <td>1019103.0</td>\n      <td>2020-12-11</td>\n      <td>55881.84</td>\n      <td>COMUNICACION</td>\n    </tr>\n    <tr>\n      <th>1</th>\n      <td>110816</td>\n      <td>NUCLEO RADIO MONTERREY,S.A.DE C.V.</td>\n      <td>NRM900201UMA</td>\n      <td>19823 A-158003-5093</td>\n      <td>OEP-195-2020</td>\n      <td>MENCIONES DE 30SEG, DEL DIA 30 DE SEPTIEMBRE A...</td>\n      <td>TR</td>\n      <td>1019103.0</td>\n      <td>2020-12-11</td>\n      <td>55881.84</td>\n      <td>COMUNICACION</td>\n    </tr>\n    <tr>\n      <th>2</th>\n      <td>110816</td>\n      <td>NUCLEO RADIO MONTERREY,S.A.DE C.V.</td>\n      <td>NRM900201UMA</td>\n      <td>19824 A-158003-5094</td>\n      <td>OEP-195-2020</td>\n      <td>TRANSMISION DE SPOT DE 20SEG, DEL DIA 28 DE SE...</td>\n      <td>TR</td>\n      <td>1019103.0</td>\n      <td>2020-12-11</td>\n      <td>227777.60</td>\n      <td>COMUNICACION</td>\n    </tr>\n    <tr>\n      <th>3</th>\n      <td>110816</td>\n      <td>NUCLEO RADIO MONTERREY,S.A.DE C.V.</td>\n      <td>NRM900201UMA</td>\n      <td>19826 A-158003-5095</td>\n      <td>OEP-195-2020</td>\n      <td>TRANSMISION DE SPOT DE 20SEG, DEL DIA 21 AL 25...</td>\n      <td>TR</td>\n      <td>1019103.0</td>\n      <td>2020-12-11</td>\n      <td>102284.16</td>\n      <td>COMUNICACION</td>\n    </tr>\n    <tr>\n      <th>4</th>\n      <td>110816</td>\n      <td>NUCLEO RADIO MONTERREY,S.A.DE C.V.</td>\n      <td>NRM900201UMA</td>\n      <td>19827 A-158003-5096</td>\n      <td>OEP-195-2020</td>\n      <td>TRANSMISION DE SPOT DE 30SEG, DEL DIA 21 AL 26...</td>\n      <td>TR</td>\n      <td>1019103.0</td>\n      <td>2020-12-11</td>\n      <td>189943.04</td>\n      <td>COMUNICACION</td>\n    </tr>\n    <tr>\n      <th>...</th>\n      <td>...</td>\n      <td>...</td>\n      <td>...</td>\n      <td>...</td>\n      <td>...</td>\n      <td>...</td>\n      <td>...</td>\n      <td>...</td>\n      <td>...</td>\n      <td>...</td>\n      <td>...</td>\n    </tr>\n    <tr>\n      <th>85</th>\n      <td>318632</td>\n      <td>MAYORGA CONSULTORES, S.C.</td>\n      <td>MCO161215NS9</td>\n      <td>152-158003-5533</td>\n      <td>OEP-244-2020</td>\n      <td>SERVICIO DE BANNER EN LA PAGINA AVIMEXNEWS.COM...</td>\n      <td>TR</td>\n      <td>1019047.0</td>\n      <td>2020-12-04</td>\n      <td>30160.00</td>\n      <td>COMUNICACION</td>\n    </tr>\n    <tr>\n      <th>86</th>\n      <td>Total 318632</td>\n      <td>NaN</td>\n      <td>NaN</td>\n      <td>NaN</td>\n      <td>NaN</td>\n      <td>NaN</td>\n      <td>NaN</td>\n      <td>NaN</td>\n      <td>NaT</td>\n      <td>120640.00</td>\n      <td>COMUNICACION</td>\n    </tr>\n    <tr>\n      <th>87</th>\n      <td>320004</td>\n      <td>PUBLIGAB COMUNICACIONES, S.A. DE C.V.</td>\n      <td>PCO160613PCA</td>\n      <td>A 745-158003-5164</td>\n      <td>OEP-235-2020</td>\n      <td>DESPLEGADO EN LA REVISTA PUNTO (PLANA), DEL ME...</td>\n      <td>TR</td>\n      <td>1019085.0</td>\n      <td>2020-12-04</td>\n      <td>29999.92</td>\n      <td>COMUNICACION</td>\n    </tr>\n    <tr>\n      <th>88</th>\n      <td>320004</td>\n      <td>PUBLIGAB COMUNICACIONES, S.A. DE C.V.</td>\n      <td>PCO160613PCA</td>\n      <td>A 750-158003-5511</td>\n      <td>OEP-235-2020</td>\n      <td>2 DESPLEGADOS EN LA REVISTA PUNTO (PLANA), DEL...</td>\n      <td>TR</td>\n      <td>1019085.0</td>\n      <td>2020-12-04</td>\n      <td>59999.84</td>\n      <td>COMUNICACION</td>\n    </tr>\n    <tr>\n      <th>89</th>\n      <td>Total 320004</td>\n      <td>NaN</td>\n      <td>NaN</td>\n      <td>NaN</td>\n      <td>NaN</td>\n      <td>NaN</td>\n      <td>NaN</td>\n      <td>NaN</td>\n      <td>NaT</td>\n      <td>89999.76</td>\n      <td>COMUNICACION</td>\n    </tr>\n  </tbody>\n</table>\n<p>90 rows × 11 columns</p>\n</div>"
     },
     "metadata": {}
    }
   ],
   "execution_count": 23
  },
  {
   "cell_type": "code",
   "source": "df_compras_dic_2020 = pd.concat([df_gastos_varios, df_contratistas, df_servicios_profesionales, df_comunicacion, df_servicios_personales])",
   "metadata": {
    "cell_id": "152c47bf-d75a-4038-ab40-73b68238a111",
    "tags": [],
    "deepnote_to_be_reexecuted": false,
    "source_hash": "15a70c56",
    "execution_start": 1645991668412,
    "execution_millis": 7,
    "deepnote_cell_type": "code"
   },
   "outputs": [],
   "execution_count": 25
  },
  {
   "cell_type": "code",
   "source": "df_compras_dic_2020.head(5)",
   "metadata": {
    "cell_id": "9dedc9f5-17da-4ba9-b4d7-fe001553517b",
    "tags": [],
    "deepnote_to_be_reexecuted": false,
    "source_hash": "10d0e299",
    "execution_start": 1645991713358,
    "execution_millis": 28,
    "is_output_hidden": false,
    "deepnote_cell_type": "code"
   },
   "outputs": [
    {
     "output_type": "execute_result",
     "execution_count": 26,
     "data": {
      "application/vnd.deepnote.dataframe.v3+json": {
       "column_count": 11,
       "row_count": 5,
       "columns": [
        {
         "name": "NUM BEN",
         "dtype": "object",
         "stats": {
          "unique_count": 1,
          "nan_count": 0,
          "categories": [
           {
            "name": "110152",
            "count": 5
           }
          ]
         }
        },
        {
         "name": "BENEFICIARIO",
         "dtype": "object",
         "stats": {
          "unique_count": 1,
          "nan_count": 0,
          "categories": [
           {
            "name": "LLANTAS Y SERVICIOS SERNA ANAHUAC,S.A. DE C.V.",
            "count": 5
           }
          ]
         }
        },
        {
         "name": "RFC",
         "dtype": "object",
         "stats": {
          "unique_count": 1,
          "nan_count": 0,
          "categories": [
           {
            "name": "LSS841015DV3",
            "count": 5
           }
          ]
         }
        },
        {
         "name": "FACTURA",
         "dtype": "object",
         "stats": {
          "unique_count": 5,
          "nan_count": 0,
          "categories": [
           {
            "name": "LLS AF8458-158008-3972",
            "count": 1
           },
           {
            "name": "LLS PF6916-158008-4041",
            "count": 1
           },
           {
            "name": "3 others",
            "count": 3
           }
          ]
         }
        },
        {
         "name": "CONTRATO",
         "dtype": "object",
         "stats": {
          "unique_count": 5,
          "nan_count": 0,
          "categories": [
           {
            "name": "OT. 20204373",
            "count": 1
           },
           {
            "name": "OT. 20204425",
            "count": 1
           },
           {
            "name": "3 others",
            "count": 3
           }
          ]
         }
        },
        {
         "name": "CONCEPTO",
         "dtype": "object",
         "stats": {
          "unique_count": 5,
          "nan_count": 0,
          "categories": [
           {
            "name": "REEMPLAZO E INSTALACION DE AMORTIGUADORES (DELANTEROS Y TRASEROS), ROTULAS SUPERIORES Y ALINEACION.PATRIMONIO 82357 2017 RAM 4000",
            "count": 1
           },
           {
            "name": "REEMPLAZO E INSTALACION DE OCHO BIRLOS Y NUEVE TUERCAS. PATRIMONIO 80383 2010 RAM 4000",
            "count": 1
           },
           {
            "name": "3 others",
            "count": 3
           }
          ]
         }
        },
        {
         "name": "TIPO",
         "dtype": "object",
         "stats": {
          "unique_count": 1,
          "nan_count": 0,
          "categories": [
           {
            "name": "TR",
            "count": 5
           }
          ]
         }
        },
        {
         "name": "# OP",
         "dtype": "float64",
         "stats": {
          "unique_count": 2,
          "nan_count": 0,
          "min": "1019110.0",
          "max": "299001496.0",
          "histogram": [
           {
            "bin_start": 1019110,
            "bin_end": 30817348.6,
            "count": 4
           },
           {
            "bin_start": 30817348.6,
            "bin_end": 60615587.2,
            "count": 0
           },
           {
            "bin_start": 60615587.2,
            "bin_end": 90413825.80000001,
            "count": 0
           },
           {
            "bin_start": 90413825.80000001,
            "bin_end": 120212064.4,
            "count": 0
           },
           {
            "bin_start": 120212064.4,
            "bin_end": 150010303,
            "count": 0
           },
           {
            "bin_start": 150010303,
            "bin_end": 179808541.60000002,
            "count": 0
           },
           {
            "bin_start": 179808541.60000002,
            "bin_end": 209606780.20000002,
            "count": 0
           },
           {
            "bin_start": 209606780.20000002,
            "bin_end": 239405018.8,
            "count": 0
           },
           {
            "bin_start": 239405018.8,
            "bin_end": 269203257.4,
            "count": 0
           },
           {
            "bin_start": 269203257.4,
            "bin_end": 299001496,
            "count": 1
           }
          ]
         }
        },
        {
         "name": "FECHA",
         "dtype": "datetime64[ns]",
         "stats": {
          "unique_count": 2,
          "nan_count": 0,
          "min": "2020-12-11 00:00:00",
          "max": "2020-12-23 00:00:00",
          "histogram": [
           {
            "bin_start": 1607644800000000000,
            "bin_end": 1607748480000000000,
            "count": 4
           },
           {
            "bin_start": 1607748480000000000,
            "bin_end": 1607852160000000000,
            "count": 0
           },
           {
            "bin_start": 1607852160000000000,
            "bin_end": 1607955840000000000,
            "count": 0
           },
           {
            "bin_start": 1607955840000000000,
            "bin_end": 1608059520000000000,
            "count": 0
           },
           {
            "bin_start": 1608059520000000000,
            "bin_end": 1608163200000000000,
            "count": 0
           },
           {
            "bin_start": 1608163200000000000,
            "bin_end": 1608266880000000000,
            "count": 0
           },
           {
            "bin_start": 1608266880000000000,
            "bin_end": 1608370560000000000,
            "count": 0
           },
           {
            "bin_start": 1608370560000000000,
            "bin_end": 1608474240000000000,
            "count": 0
           },
           {
            "bin_start": 1608474240000000000,
            "bin_end": 1608577920000000000,
            "count": 0
           },
           {
            "bin_start": 1608577920000000000,
            "bin_end": 1608681600000000000,
            "count": 1
           }
          ]
         }
        },
        {
         "name": "IMPORTE",
         "dtype": "float64",
         "stats": {
          "unique_count": 5,
          "nan_count": 0,
          "min": "1537.0",
          "max": "14911.8",
          "histogram": [
           {
            "bin_start": 1537,
            "bin_end": 2874.48,
            "count": 3
           },
           {
            "bin_start": 2874.48,
            "bin_end": 4211.96,
            "count": 0
           },
           {
            "bin_start": 4211.96,
            "bin_end": 5549.4400000000005,
            "count": 0
           },
           {
            "bin_start": 5549.4400000000005,
            "bin_end": 6886.92,
            "count": 0
           },
           {
            "bin_start": 6886.92,
            "bin_end": 8224.4,
            "count": 0
           },
           {
            "bin_start": 8224.4,
            "bin_end": 9561.880000000001,
            "count": 1
           },
           {
            "bin_start": 9561.880000000001,
            "bin_end": 10899.36,
            "count": 0
           },
           {
            "bin_start": 10899.36,
            "bin_end": 12236.84,
            "count": 0
           },
           {
            "bin_start": 12236.84,
            "bin_end": 13574.32,
            "count": 0
           },
           {
            "bin_start": 13574.32,
            "bin_end": 14911.8,
            "count": 1
           }
          ]
         }
        },
        {
         "name": "SHEET",
         "dtype": "object",
         "stats": {
          "unique_count": 1,
          "nan_count": 0,
          "categories": [
           {
            "name": "GASTOS VARIOS",
            "count": 5
           }
          ]
         }
        },
        {
         "name": "_deepnote_index_column",
         "dtype": "int64"
        }
       ],
       "rows": [
        {
         "NUM BEN": "110152",
         "BENEFICIARIO": "LLANTAS Y SERVICIOS SERNA ANAHUAC,S.A. DE C.V.",
         "RFC": "LSS841015DV3",
         "FACTURA": "LLS AF8458-158008-3972",
         "CONTRATO": "OT. 20204373",
         "CONCEPTO": "REEMPLAZO E INSTALACION DE AMORTIGUADORES (DELANTEROS Y TRASEROS), ROTULAS SUPERIORES Y ALINEACION.…",
         "TIPO": "TR",
         "# OP": 1019110,
         "FECHA": "2020-12-11T00:00:00.000000",
         "IMPORTE": 14911.8,
         "SHEET": "GASTOS VARIOS",
         "_deepnote_index_column": 0
        },
        {
         "NUM BEN": "110152",
         "BENEFICIARIO": "LLANTAS Y SERVICIOS SERNA ANAHUAC,S.A. DE C.V.",
         "RFC": "LSS841015DV3",
         "FACTURA": "LLS PF6916-158008-4041",
         "CONTRATO": "OT. 20204425",
         "CONCEPTO": "REEMPLAZO E INSTALACION DE OCHO BIRLOS Y NUEVE TUERCAS. PATRIMONIO 80383 2010 RAM 4000",
         "TIPO": "TR",
         "# OP": 1019110,
         "FECHA": "2020-12-11T00:00:00.000000",
         "IMPORTE": 2528.8,
         "SHEET": "GASTOS VARIOS",
         "_deepnote_index_column": 1
        },
        {
         "NUM BEN": "110152",
         "BENEFICIARIO": "LLANTAS Y SERVICIOS SERNA ANAHUAC,S.A. DE C.V.",
         "RFC": "LSS841015DV3",
         "FACTURA": "LLS PF6917-158008-3975",
         "CONTRATO": "OT. 20204376",
         "CONCEPTO": "REEMPLAZO DE DOS RINES  (17). PATRIMONIO 80383 2010 RAM 4000",
         "TIPO": "TR",
         "# OP": 1019110,
         "FECHA": "2020-12-11T00:00:00.000000",
         "IMPORTE": 8500.02,
         "SHEET": "GASTOS VARIOS",
         "_deepnote_index_column": 2
        },
        {
         "NUM BEN": "110152",
         "BENEFICIARIO": "LLANTAS Y SERVICIOS SERNA ANAHUAC,S.A. DE C.V.",
         "RFC": "LSS841015DV3",
         "FACTURA": "LLS PF7004-158008-3971",
         "CONTRATO": "OT. 20204374",
         "CONCEPTO": "REEMPLAZO DE  DOS RINES  (14). PATRIMONIO 80072 2010 PICK UP ESTACAS",
         "TIPO": "TR",
         "# OP": 1019110,
         "FECHA": "2020-12-11T00:00:00.000000",
         "IMPORTE": 2400.01,
         "SHEET": "GASTOS VARIOS",
         "_deepnote_index_column": 3
        },
        {
         "NUM BEN": "110152",
         "BENEFICIARIO": "LLANTAS Y SERVICIOS SERNA ANAHUAC,S.A. DE C.V.",
         "RFC": "LSS841015DV3",
         "FACTURA": "LLS PF7137-158008-4554",
         "CONTRATO": "OT. 20205130",
         "CONCEPTO": "REEMPLAZO E INSTALACION DE RIN 14. PATRIMONIO 82646 2017 AVEO",
         "TIPO": "TR",
         "# OP": 299001496,
         "FECHA": "2020-12-23T00:00:00.000000",
         "IMPORTE": 1537,
         "SHEET": "GASTOS VARIOS",
         "_deepnote_index_column": 4
        }
       ]
      },
      "text/plain": "  NUM BEN                                    BENEFICIARIO           RFC  \\\n0  110152  LLANTAS Y SERVICIOS SERNA ANAHUAC,S.A. DE C.V.  LSS841015DV3   \n1  110152  LLANTAS Y SERVICIOS SERNA ANAHUAC,S.A. DE C.V.  LSS841015DV3   \n2  110152  LLANTAS Y SERVICIOS SERNA ANAHUAC,S.A. DE C.V.  LSS841015DV3   \n3  110152  LLANTAS Y SERVICIOS SERNA ANAHUAC,S.A. DE C.V.  LSS841015DV3   \n4  110152  LLANTAS Y SERVICIOS SERNA ANAHUAC,S.A. DE C.V.  LSS841015DV3   \n\n                  FACTURA      CONTRATO  \\\n0  LLS AF8458-158008-3972  OT. 20204373   \n1  LLS PF6916-158008-4041  OT. 20204425   \n2  LLS PF6917-158008-3975  OT. 20204376   \n3  LLS PF7004-158008-3971  OT. 20204374   \n4  LLS PF7137-158008-4554  OT. 20205130   \n\n                                            CONCEPTO TIPO         # OP  \\\n0  REEMPLAZO E INSTALACION DE AMORTIGUADORES (DEL...   TR    1019110.0   \n1  REEMPLAZO E INSTALACION DE OCHO BIRLOS Y NUEVE...   TR    1019110.0   \n2  REEMPLAZO DE DOS RINES  (17). PATRIMONIO 80383...   TR    1019110.0   \n3  REEMPLAZO DE  DOS RINES  (14). PATRIMONIO 8007...   TR    1019110.0   \n4  REEMPLAZO E INSTALACION DE RIN 14. PATRIMONIO ...   TR  299001496.0   \n\n       FECHA   IMPORTE          SHEET  \n0 2020-12-11  14911.80  GASTOS VARIOS  \n1 2020-12-11   2528.80  GASTOS VARIOS  \n2 2020-12-11   8500.02  GASTOS VARIOS  \n3 2020-12-11   2400.01  GASTOS VARIOS  \n4 2020-12-23   1537.00  GASTOS VARIOS  ",
      "text/html": "<div>\n<style scoped>\n    .dataframe tbody tr th:only-of-type {\n        vertical-align: middle;\n    }\n\n    .dataframe tbody tr th {\n        vertical-align: top;\n    }\n\n    .dataframe thead th {\n        text-align: right;\n    }\n</style>\n<table border=\"1\" class=\"dataframe\">\n  <thead>\n    <tr style=\"text-align: right;\">\n      <th></th>\n      <th>NUM BEN</th>\n      <th>BENEFICIARIO</th>\n      <th>RFC</th>\n      <th>FACTURA</th>\n      <th>CONTRATO</th>\n      <th>CONCEPTO</th>\n      <th>TIPO</th>\n      <th># OP</th>\n      <th>FECHA</th>\n      <th>IMPORTE</th>\n      <th>SHEET</th>\n    </tr>\n  </thead>\n  <tbody>\n    <tr>\n      <th>0</th>\n      <td>110152</td>\n      <td>LLANTAS Y SERVICIOS SERNA ANAHUAC,S.A. DE C.V.</td>\n      <td>LSS841015DV3</td>\n      <td>LLS AF8458-158008-3972</td>\n      <td>OT. 20204373</td>\n      <td>REEMPLAZO E INSTALACION DE AMORTIGUADORES (DEL...</td>\n      <td>TR</td>\n      <td>1019110.0</td>\n      <td>2020-12-11</td>\n      <td>14911.80</td>\n      <td>GASTOS VARIOS</td>\n    </tr>\n    <tr>\n      <th>1</th>\n      <td>110152</td>\n      <td>LLANTAS Y SERVICIOS SERNA ANAHUAC,S.A. DE C.V.</td>\n      <td>LSS841015DV3</td>\n      <td>LLS PF6916-158008-4041</td>\n      <td>OT. 20204425</td>\n      <td>REEMPLAZO E INSTALACION DE OCHO BIRLOS Y NUEVE...</td>\n      <td>TR</td>\n      <td>1019110.0</td>\n      <td>2020-12-11</td>\n      <td>2528.80</td>\n      <td>GASTOS VARIOS</td>\n    </tr>\n    <tr>\n      <th>2</th>\n      <td>110152</td>\n      <td>LLANTAS Y SERVICIOS SERNA ANAHUAC,S.A. DE C.V.</td>\n      <td>LSS841015DV3</td>\n      <td>LLS PF6917-158008-3975</td>\n      <td>OT. 20204376</td>\n      <td>REEMPLAZO DE DOS RINES  (17). PATRIMONIO 80383...</td>\n      <td>TR</td>\n      <td>1019110.0</td>\n      <td>2020-12-11</td>\n      <td>8500.02</td>\n      <td>GASTOS VARIOS</td>\n    </tr>\n    <tr>\n      <th>3</th>\n      <td>110152</td>\n      <td>LLANTAS Y SERVICIOS SERNA ANAHUAC,S.A. DE C.V.</td>\n      <td>LSS841015DV3</td>\n      <td>LLS PF7004-158008-3971</td>\n      <td>OT. 20204374</td>\n      <td>REEMPLAZO DE  DOS RINES  (14). PATRIMONIO 8007...</td>\n      <td>TR</td>\n      <td>1019110.0</td>\n      <td>2020-12-11</td>\n      <td>2400.01</td>\n      <td>GASTOS VARIOS</td>\n    </tr>\n    <tr>\n      <th>4</th>\n      <td>110152</td>\n      <td>LLANTAS Y SERVICIOS SERNA ANAHUAC,S.A. DE C.V.</td>\n      <td>LSS841015DV3</td>\n      <td>LLS PF7137-158008-4554</td>\n      <td>OT. 20205130</td>\n      <td>REEMPLAZO E INSTALACION DE RIN 14. PATRIMONIO ...</td>\n      <td>TR</td>\n      <td>299001496.0</td>\n      <td>2020-12-23</td>\n      <td>1537.00</td>\n      <td>GASTOS VARIOS</td>\n    </tr>\n  </tbody>\n</table>\n</div>"
     },
     "metadata": {}
    }
   ],
   "execution_count": 26
  },
  {
   "cell_type": "code",
   "source": "len(df_compras_dic_2020)",
   "metadata": {
    "cell_id": "9d2392b4-2c82-488b-bbf4-8f9b18b3b382",
    "tags": [],
    "deepnote_to_be_reexecuted": false,
    "source_hash": "8224b824",
    "execution_start": 1645991737388,
    "execution_millis": 11,
    "deepnote_cell_type": "code"
   },
   "outputs": [
    {
     "output_type": "execute_result",
     "execution_count": 27,
     "data": {
      "text/plain": "1774"
     },
     "metadata": {}
    }
   ],
   "execution_count": 27
  },
  {
   "cell_type": "code",
   "source": "df_compras_dic_2020_completas = df_compras_dic_2020.dropna(how='any')",
   "metadata": {
    "cell_id": "808eab16-3cc9-4b76-8594-94ac8513cf9d",
    "tags": [],
    "deepnote_to_be_reexecuted": false,
    "source_hash": "66fcf75c",
    "execution_start": 1645992003436,
    "execution_millis": 1,
    "deepnote_cell_type": "code"
   },
   "outputs": [],
   "execution_count": 28
  },
  {
   "cell_type": "code",
   "source": "len(df_compras_dic_2020_completas)",
   "metadata": {
    "cell_id": "dc2c0004-0887-44a1-a5c4-0f348457214b",
    "tags": [],
    "deepnote_to_be_reexecuted": false,
    "source_hash": "7b5b4726",
    "execution_start": 1645992025129,
    "execution_millis": 4,
    "deepnote_cell_type": "code"
   },
   "outputs": [
    {
     "output_type": "execute_result",
     "execution_count": 29,
     "data": {
      "text/plain": "1540"
     },
     "metadata": {}
    }
   ],
   "execution_count": 29
  },
  {
   "cell_type": "code",
   "source": "df_compras_dic_2020_completas.dtypes",
   "metadata": {
    "cell_id": "8732603d-9ebf-4830-85ce-695b70f05281",
    "tags": [],
    "deepnote_to_be_reexecuted": false,
    "source_hash": "900c6c2f",
    "execution_start": 1645992291716,
    "execution_millis": 89,
    "deepnote_cell_type": "code"
   },
   "outputs": [
    {
     "output_type": "execute_result",
     "execution_count": 32,
     "data": {
      "text/plain": "NUM BEN                 object\nBENEFICIARIO            object\nRFC                     object\nFACTURA                 object\nCONTRATO                object\nCONCEPTO                object\nTIPO                    object\n# OP                   float64\nFECHA           datetime64[ns]\nIMPORTE                float64\nSHEET                   object\ndtype: object"
     },
     "metadata": {}
    }
   ],
   "execution_count": 32
  },
  {
   "cell_type": "code",
   "source": "df_compras_dic_2020_completas['FECHA'].apply(lambda x: x.month).value_counts()",
   "metadata": {
    "cell_id": "2377d5f1-0bcd-4392-abf6-1c63ae35c387",
    "tags": [],
    "deepnote_to_be_reexecuted": false,
    "source_hash": "b60c6902",
    "execution_start": 1645992365640,
    "execution_millis": 5,
    "deepnote_cell_type": "code"
   },
   "outputs": [
    {
     "output_type": "execute_result",
     "execution_count": 33,
     "data": {
      "text/plain": "12    1540\nName: FECHA, dtype: int64"
     },
     "metadata": {}
    }
   ],
   "execution_count": 33
  },
  {
   "cell_type": "code",
   "source": "df_compras_dic_2020_completas.head(10)",
   "metadata": {
    "cell_id": "b0ce1ab3-b72e-46e0-8edb-212dccd2cf2b",
    "tags": [],
    "deepnote_to_be_reexecuted": false,
    "source_hash": "8201fbe2",
    "execution_start": 1645992406343,
    "execution_millis": 322,
    "deepnote_cell_type": "code"
   },
   "outputs": [
    {
     "output_type": "execute_result",
     "execution_count": 34,
     "data": {
      "application/vnd.deepnote.dataframe.v3+json": {
       "column_count": 11,
       "row_count": 10,
       "columns": [
        {
         "name": "NUM BEN",
         "dtype": "object",
         "stats": {
          "unique_count": 1,
          "nan_count": 0,
          "categories": [
           {
            "name": "110152",
            "count": 10
           }
          ]
         }
        },
        {
         "name": "BENEFICIARIO",
         "dtype": "object",
         "stats": {
          "unique_count": 1,
          "nan_count": 0,
          "categories": [
           {
            "name": "LLANTAS Y SERVICIOS SERNA ANAHUAC,S.A. DE C.V.",
            "count": 10
           }
          ]
         }
        },
        {
         "name": "RFC",
         "dtype": "object",
         "stats": {
          "unique_count": 1,
          "nan_count": 0,
          "categories": [
           {
            "name": "LSS841015DV3",
            "count": 10
           }
          ]
         }
        },
        {
         "name": "FACTURA",
         "dtype": "object",
         "stats": {
          "unique_count": 10,
          "nan_count": 0,
          "categories": [
           {
            "name": "LLS AF8458-158008-3972",
            "count": 1
           },
           {
            "name": "LLS PF6916-158008-4041",
            "count": 1
           },
           {
            "name": "8 others",
            "count": 8
           }
          ]
         }
        },
        {
         "name": "CONTRATO",
         "dtype": "object",
         "stats": {
          "unique_count": 6,
          "nan_count": 0,
          "categories": [
           {
            "name": "SAD-604-2020",
            "count": 5
           },
           {
            "name": "OT. 20204373",
            "count": 1
           },
           {
            "name": "4 others",
            "count": 4
           }
          ]
         }
        },
        {
         "name": "CONCEPTO",
         "dtype": "object",
         "stats": {
          "unique_count": 9,
          "nan_count": 0,
          "categories": [
           {
            "name": "COMPRA E INSTALACION DE LLANTAS PARA LA DIR. DE MTTO., SEPTIEMBRE 2020, RAMO 28",
            "count": 2
           },
           {
            "name": "REEMPLAZO E INSTALACION DE AMORTIGUADORES (DELANTEROS Y TRASEROS), ROTULAS SUPERIORES Y ALINEACION.PATRIMONIO 82357 2017 RAM 4000",
            "count": 1
           },
           {
            "name": "7 others",
            "count": 7
           }
          ]
         }
        },
        {
         "name": "TIPO",
         "dtype": "object",
         "stats": {
          "unique_count": 1,
          "nan_count": 0,
          "categories": [
           {
            "name": "TR",
            "count": 10
           }
          ]
         }
        },
        {
         "name": "# OP",
         "dtype": "float64",
         "stats": {
          "unique_count": 2,
          "nan_count": 0,
          "min": "1019110.0",
          "max": "299001496.0",
          "histogram": [
           {
            "bin_start": 1019110,
            "bin_end": 30817348.6,
            "count": 4
           },
           {
            "bin_start": 30817348.6,
            "bin_end": 60615587.2,
            "count": 0
           },
           {
            "bin_start": 60615587.2,
            "bin_end": 90413825.80000001,
            "count": 0
           },
           {
            "bin_start": 90413825.80000001,
            "bin_end": 120212064.4,
            "count": 0
           },
           {
            "bin_start": 120212064.4,
            "bin_end": 150010303,
            "count": 0
           },
           {
            "bin_start": 150010303,
            "bin_end": 179808541.60000002,
            "count": 0
           },
           {
            "bin_start": 179808541.60000002,
            "bin_end": 209606780.20000002,
            "count": 0
           },
           {
            "bin_start": 209606780.20000002,
            "bin_end": 239405018.8,
            "count": 0
           },
           {
            "bin_start": 239405018.8,
            "bin_end": 269203257.4,
            "count": 0
           },
           {
            "bin_start": 269203257.4,
            "bin_end": 299001496,
            "count": 6
           }
          ]
         }
        },
        {
         "name": "FECHA",
         "dtype": "datetime64[ns]",
         "stats": {
          "unique_count": 2,
          "nan_count": 0,
          "min": "2020-12-11 00:00:00",
          "max": "2020-12-23 00:00:00",
          "histogram": [
           {
            "bin_start": 1607644800000000000,
            "bin_end": 1607748480000000000,
            "count": 4
           },
           {
            "bin_start": 1607748480000000000,
            "bin_end": 1607852160000000000,
            "count": 0
           },
           {
            "bin_start": 1607852160000000000,
            "bin_end": 1607955840000000000,
            "count": 0
           },
           {
            "bin_start": 1607955840000000000,
            "bin_end": 1608059520000000000,
            "count": 0
           },
           {
            "bin_start": 1608059520000000000,
            "bin_end": 1608163200000000000,
            "count": 0
           },
           {
            "bin_start": 1608163200000000000,
            "bin_end": 1608266880000000000,
            "count": 0
           },
           {
            "bin_start": 1608266880000000000,
            "bin_end": 1608370560000000000,
            "count": 0
           },
           {
            "bin_start": 1608370560000000000,
            "bin_end": 1608474240000000000,
            "count": 0
           },
           {
            "bin_start": 1608474240000000000,
            "bin_end": 1608577920000000000,
            "count": 0
           },
           {
            "bin_start": 1608577920000000000,
            "bin_end": 1608681600000000000,
            "count": 6
           }
          ]
         }
        },
        {
         "name": "IMPORTE",
         "dtype": "float64",
         "stats": {
          "unique_count": 10,
          "nan_count": 0,
          "min": "1537.0",
          "max": "367356.92",
          "histogram": [
           {
            "bin_start": 1537,
            "bin_end": 38118.992,
            "count": 5
           },
           {
            "bin_start": 38118.992,
            "bin_end": 74700.984,
            "count": 1
           },
           {
            "bin_start": 74700.984,
            "bin_end": 111282.976,
            "count": 1
           },
           {
            "bin_start": 111282.976,
            "bin_end": 147864.968,
            "count": 0
           },
           {
            "bin_start": 147864.968,
            "bin_end": 184446.96,
            "count": 0
           },
           {
            "bin_start": 184446.96,
            "bin_end": 221028.952,
            "count": 0
           },
           {
            "bin_start": 221028.952,
            "bin_end": 257610.944,
            "count": 1
           },
           {
            "bin_start": 257610.944,
            "bin_end": 294192.936,
            "count": 1
           },
           {
            "bin_start": 294192.936,
            "bin_end": 330774.92799999996,
            "count": 0
           },
           {
            "bin_start": 330774.92799999996,
            "bin_end": 367356.92,
            "count": 1
           }
          ]
         }
        },
        {
         "name": "SHEET",
         "dtype": "object",
         "stats": {
          "unique_count": 1,
          "nan_count": 0,
          "categories": [
           {
            "name": "GASTOS VARIOS",
            "count": 10
           }
          ]
         }
        },
        {
         "name": "_deepnote_index_column",
         "dtype": "int64"
        }
       ],
       "rows": [
        {
         "NUM BEN": "110152",
         "BENEFICIARIO": "LLANTAS Y SERVICIOS SERNA ANAHUAC,S.A. DE C.V.",
         "RFC": "LSS841015DV3",
         "FACTURA": "LLS AF8458-158008-3972",
         "CONTRATO": "OT. 20204373",
         "CONCEPTO": "REEMPLAZO E INSTALACION DE AMORTIGUADORES (DELANTEROS Y TRASEROS), ROTULAS SUPERIORES Y ALINEACION.…",
         "TIPO": "TR",
         "# OP": 1019110,
         "FECHA": "2020-12-11T00:00:00.000000",
         "IMPORTE": 14911.8,
         "SHEET": "GASTOS VARIOS",
         "_deepnote_index_column": 0
        },
        {
         "NUM BEN": "110152",
         "BENEFICIARIO": "LLANTAS Y SERVICIOS SERNA ANAHUAC,S.A. DE C.V.",
         "RFC": "LSS841015DV3",
         "FACTURA": "LLS PF6916-158008-4041",
         "CONTRATO": "OT. 20204425",
         "CONCEPTO": "REEMPLAZO E INSTALACION DE OCHO BIRLOS Y NUEVE TUERCAS. PATRIMONIO 80383 2010 RAM 4000",
         "TIPO": "TR",
         "# OP": 1019110,
         "FECHA": "2020-12-11T00:00:00.000000",
         "IMPORTE": 2528.8,
         "SHEET": "GASTOS VARIOS",
         "_deepnote_index_column": 1
        },
        {
         "NUM BEN": "110152",
         "BENEFICIARIO": "LLANTAS Y SERVICIOS SERNA ANAHUAC,S.A. DE C.V.",
         "RFC": "LSS841015DV3",
         "FACTURA": "LLS PF6917-158008-3975",
         "CONTRATO": "OT. 20204376",
         "CONCEPTO": "REEMPLAZO DE DOS RINES  (17). PATRIMONIO 80383 2010 RAM 4000",
         "TIPO": "TR",
         "# OP": 1019110,
         "FECHA": "2020-12-11T00:00:00.000000",
         "IMPORTE": 8500.02,
         "SHEET": "GASTOS VARIOS",
         "_deepnote_index_column": 2
        },
        {
         "NUM BEN": "110152",
         "BENEFICIARIO": "LLANTAS Y SERVICIOS SERNA ANAHUAC,S.A. DE C.V.",
         "RFC": "LSS841015DV3",
         "FACTURA": "LLS PF7004-158008-3971",
         "CONTRATO": "OT. 20204374",
         "CONCEPTO": "REEMPLAZO DE  DOS RINES  (14). PATRIMONIO 80072 2010 PICK UP ESTACAS",
         "TIPO": "TR",
         "# OP": 1019110,
         "FECHA": "2020-12-11T00:00:00.000000",
         "IMPORTE": 2400.01,
         "SHEET": "GASTOS VARIOS",
         "_deepnote_index_column": 3
        },
        {
         "NUM BEN": "110152",
         "BENEFICIARIO": "LLANTAS Y SERVICIOS SERNA ANAHUAC,S.A. DE C.V.",
         "RFC": "LSS841015DV3",
         "FACTURA": "LLS PF7137-158008-4554",
         "CONTRATO": "OT. 20205130",
         "CONCEPTO": "REEMPLAZO E INSTALACION DE RIN 14. PATRIMONIO 82646 2017 AVEO",
         "TIPO": "TR",
         "# OP": 299001496,
         "FECHA": "2020-12-23T00:00:00.000000",
         "IMPORTE": 1537,
         "SHEET": "GASTOS VARIOS",
         "_deepnote_index_column": 4
        },
        {
         "NUM BEN": "110152",
         "BENEFICIARIO": "LLANTAS Y SERVICIOS SERNA ANAHUAC,S.A. DE C.V.",
         "RFC": "LSS841015DV3",
         "FACTURA": "LLSPF6972-158003-5137",
         "CONTRATO": "SAD-604-2020",
         "CONCEPTO": "COMPRA E INSTALACION DE LLANTAS PARA LA DIR. DE MTTO., AGOSTO 2020, RAMO 28",
         "TIPO": "TR",
         "# OP": 299001496,
         "FECHA": "2020-12-23T00:00:00.000000",
         "IMPORTE": 79473.92,
         "SHEET": "GASTOS VARIOS",
         "_deepnote_index_column": 5
        },
        {
         "NUM BEN": "110152",
         "BENEFICIARIO": "LLANTAS Y SERVICIOS SERNA ANAHUAC,S.A. DE C.V.",
         "RFC": "LSS841015DV3",
         "FACTURA": "LLSPF7002-158003-5144",
         "CONTRATO": "SAD-604-2020",
         "CONCEPTO": "COMPRA E INSTALACION DE LLANTAS PARA LA DIR. DE MTTO., SEPTIEMBRE 2020, RAMO 28",
         "TIPO": "TR",
         "# OP": 299001496,
         "FECHA": "2020-12-23T00:00:00.000000",
         "IMPORTE": 259837.68,
         "SHEET": "GASTOS VARIOS",
         "_deepnote_index_column": 6
        },
        {
         "NUM BEN": "110152",
         "BENEFICIARIO": "LLANTAS Y SERVICIOS SERNA ANAHUAC,S.A. DE C.V.",
         "RFC": "LSS841015DV3",
         "FACTURA": "LLSPF7005-158003-5138",
         "CONTRATO": "SAD-604-2020",
         "CONCEPTO": "COMPRA E INSTALACION DE LLANTAS PARA LA DIR. DE MTTO., OCTUBRE 2020, RAMO 28",
         "TIPO": "TR",
         "# OP": 299001496,
         "FECHA": "2020-12-23T00:00:00.000000",
         "IMPORTE": 60937.12,
         "SHEET": "GASTOS VARIOS",
         "_deepnote_index_column": 7
        },
        {
         "NUM BEN": "110152",
         "BENEFICIARIO": "LLANTAS Y SERVICIOS SERNA ANAHUAC,S.A. DE C.V.",
         "RFC": "LSS841015DV3",
         "FACTURA": "LLSPF7006-158003-5156",
         "CONTRATO": "SAD-604-2020",
         "CONCEPTO": "COMPRA E INSTALACION DE LLANTAS PARA LA DIR. DE MTTO., SEPTIEMBRE Y OCTUBRE 2020, RAMO 28",
         "TIPO": "TR",
         "# OP": 299001496,
         "FECHA": "2020-12-23T00:00:00.000000",
         "IMPORTE": 367356.92,
         "SHEET": "GASTOS VARIOS",
         "_deepnote_index_column": 8
        },
        {
         "NUM BEN": "110152",
         "BENEFICIARIO": "LLANTAS Y SERVICIOS SERNA ANAHUAC,S.A. DE C.V.",
         "RFC": "LSS841015DV3",
         "FACTURA": "LLSPF7019-158003-5431",
         "CONTRATO": "SAD-604-2020",
         "CONCEPTO": "COMPRA E INSTALACION DE LLANTAS PARA LA DIR. DE MTTO., SEPTIEMBRE 2020, RAMO 28",
         "TIPO": "TR",
         "# OP": 299001496,
         "FECHA": "2020-12-23T00:00:00.000000",
         "IMPORTE": 243906.24,
         "SHEET": "GASTOS VARIOS",
         "_deepnote_index_column": 9
        }
       ]
      },
      "text/plain": "  NUM BEN                                    BENEFICIARIO           RFC  \\\n0  110152  LLANTAS Y SERVICIOS SERNA ANAHUAC,S.A. DE C.V.  LSS841015DV3   \n1  110152  LLANTAS Y SERVICIOS SERNA ANAHUAC,S.A. DE C.V.  LSS841015DV3   \n2  110152  LLANTAS Y SERVICIOS SERNA ANAHUAC,S.A. DE C.V.  LSS841015DV3   \n3  110152  LLANTAS Y SERVICIOS SERNA ANAHUAC,S.A. DE C.V.  LSS841015DV3   \n4  110152  LLANTAS Y SERVICIOS SERNA ANAHUAC,S.A. DE C.V.  LSS841015DV3   \n5  110152  LLANTAS Y SERVICIOS SERNA ANAHUAC,S.A. DE C.V.  LSS841015DV3   \n6  110152  LLANTAS Y SERVICIOS SERNA ANAHUAC,S.A. DE C.V.  LSS841015DV3   \n7  110152  LLANTAS Y SERVICIOS SERNA ANAHUAC,S.A. DE C.V.  LSS841015DV3   \n8  110152  LLANTAS Y SERVICIOS SERNA ANAHUAC,S.A. DE C.V.  LSS841015DV3   \n9  110152  LLANTAS Y SERVICIOS SERNA ANAHUAC,S.A. DE C.V.  LSS841015DV3   \n\n                  FACTURA      CONTRATO  \\\n0  LLS AF8458-158008-3972  OT. 20204373   \n1  LLS PF6916-158008-4041  OT. 20204425   \n2  LLS PF6917-158008-3975  OT. 20204376   \n3  LLS PF7004-158008-3971  OT. 20204374   \n4  LLS PF7137-158008-4554  OT. 20205130   \n5   LLSPF6972-158003-5137  SAD-604-2020   \n6   LLSPF7002-158003-5144  SAD-604-2020   \n7   LLSPF7005-158003-5138  SAD-604-2020   \n8   LLSPF7006-158003-5156  SAD-604-2020   \n9   LLSPF7019-158003-5431  SAD-604-2020   \n\n                                            CONCEPTO TIPO         # OP  \\\n0  REEMPLAZO E INSTALACION DE AMORTIGUADORES (DEL...   TR    1019110.0   \n1  REEMPLAZO E INSTALACION DE OCHO BIRLOS Y NUEVE...   TR    1019110.0   \n2  REEMPLAZO DE DOS RINES  (17). PATRIMONIO 80383...   TR    1019110.0   \n3  REEMPLAZO DE  DOS RINES  (14). PATRIMONIO 8007...   TR    1019110.0   \n4  REEMPLAZO E INSTALACION DE RIN 14. PATRIMONIO ...   TR  299001496.0   \n5  COMPRA E INSTALACION DE LLANTAS PARA LA DIR. D...   TR  299001496.0   \n6  COMPRA E INSTALACION DE LLANTAS PARA LA DIR. D...   TR  299001496.0   \n7  COMPRA E INSTALACION DE LLANTAS PARA LA DIR. D...   TR  299001496.0   \n8  COMPRA E INSTALACION DE LLANTAS PARA LA DIR. D...   TR  299001496.0   \n9  COMPRA E INSTALACION DE LLANTAS PARA LA DIR. D...   TR  299001496.0   \n\n       FECHA    IMPORTE          SHEET  \n0 2020-12-11   14911.80  GASTOS VARIOS  \n1 2020-12-11    2528.80  GASTOS VARIOS  \n2 2020-12-11    8500.02  GASTOS VARIOS  \n3 2020-12-11    2400.01  GASTOS VARIOS  \n4 2020-12-23    1537.00  GASTOS VARIOS  \n5 2020-12-23   79473.92  GASTOS VARIOS  \n6 2020-12-23  259837.68  GASTOS VARIOS  \n7 2020-12-23   60937.12  GASTOS VARIOS  \n8 2020-12-23  367356.92  GASTOS VARIOS  \n9 2020-12-23  243906.24  GASTOS VARIOS  ",
      "text/html": "<div>\n<style scoped>\n    .dataframe tbody tr th:only-of-type {\n        vertical-align: middle;\n    }\n\n    .dataframe tbody tr th {\n        vertical-align: top;\n    }\n\n    .dataframe thead th {\n        text-align: right;\n    }\n</style>\n<table border=\"1\" class=\"dataframe\">\n  <thead>\n    <tr style=\"text-align: right;\">\n      <th></th>\n      <th>NUM BEN</th>\n      <th>BENEFICIARIO</th>\n      <th>RFC</th>\n      <th>FACTURA</th>\n      <th>CONTRATO</th>\n      <th>CONCEPTO</th>\n      <th>TIPO</th>\n      <th># OP</th>\n      <th>FECHA</th>\n      <th>IMPORTE</th>\n      <th>SHEET</th>\n    </tr>\n  </thead>\n  <tbody>\n    <tr>\n      <th>0</th>\n      <td>110152</td>\n      <td>LLANTAS Y SERVICIOS SERNA ANAHUAC,S.A. DE C.V.</td>\n      <td>LSS841015DV3</td>\n      <td>LLS AF8458-158008-3972</td>\n      <td>OT. 20204373</td>\n      <td>REEMPLAZO E INSTALACION DE AMORTIGUADORES (DEL...</td>\n      <td>TR</td>\n      <td>1019110.0</td>\n      <td>2020-12-11</td>\n      <td>14911.80</td>\n      <td>GASTOS VARIOS</td>\n    </tr>\n    <tr>\n      <th>1</th>\n      <td>110152</td>\n      <td>LLANTAS Y SERVICIOS SERNA ANAHUAC,S.A. DE C.V.</td>\n      <td>LSS841015DV3</td>\n      <td>LLS PF6916-158008-4041</td>\n      <td>OT. 20204425</td>\n      <td>REEMPLAZO E INSTALACION DE OCHO BIRLOS Y NUEVE...</td>\n      <td>TR</td>\n      <td>1019110.0</td>\n      <td>2020-12-11</td>\n      <td>2528.80</td>\n      <td>GASTOS VARIOS</td>\n    </tr>\n    <tr>\n      <th>2</th>\n      <td>110152</td>\n      <td>LLANTAS Y SERVICIOS SERNA ANAHUAC,S.A. DE C.V.</td>\n      <td>LSS841015DV3</td>\n      <td>LLS PF6917-158008-3975</td>\n      <td>OT. 20204376</td>\n      <td>REEMPLAZO DE DOS RINES  (17). PATRIMONIO 80383...</td>\n      <td>TR</td>\n      <td>1019110.0</td>\n      <td>2020-12-11</td>\n      <td>8500.02</td>\n      <td>GASTOS VARIOS</td>\n    </tr>\n    <tr>\n      <th>3</th>\n      <td>110152</td>\n      <td>LLANTAS Y SERVICIOS SERNA ANAHUAC,S.A. DE C.V.</td>\n      <td>LSS841015DV3</td>\n      <td>LLS PF7004-158008-3971</td>\n      <td>OT. 20204374</td>\n      <td>REEMPLAZO DE  DOS RINES  (14). PATRIMONIO 8007...</td>\n      <td>TR</td>\n      <td>1019110.0</td>\n      <td>2020-12-11</td>\n      <td>2400.01</td>\n      <td>GASTOS VARIOS</td>\n    </tr>\n    <tr>\n      <th>4</th>\n      <td>110152</td>\n      <td>LLANTAS Y SERVICIOS SERNA ANAHUAC,S.A. DE C.V.</td>\n      <td>LSS841015DV3</td>\n      <td>LLS PF7137-158008-4554</td>\n      <td>OT. 20205130</td>\n      <td>REEMPLAZO E INSTALACION DE RIN 14. PATRIMONIO ...</td>\n      <td>TR</td>\n      <td>299001496.0</td>\n      <td>2020-12-23</td>\n      <td>1537.00</td>\n      <td>GASTOS VARIOS</td>\n    </tr>\n    <tr>\n      <th>5</th>\n      <td>110152</td>\n      <td>LLANTAS Y SERVICIOS SERNA ANAHUAC,S.A. DE C.V.</td>\n      <td>LSS841015DV3</td>\n      <td>LLSPF6972-158003-5137</td>\n      <td>SAD-604-2020</td>\n      <td>COMPRA E INSTALACION DE LLANTAS PARA LA DIR. D...</td>\n      <td>TR</td>\n      <td>299001496.0</td>\n      <td>2020-12-23</td>\n      <td>79473.92</td>\n      <td>GASTOS VARIOS</td>\n    </tr>\n    <tr>\n      <th>6</th>\n      <td>110152</td>\n      <td>LLANTAS Y SERVICIOS SERNA ANAHUAC,S.A. DE C.V.</td>\n      <td>LSS841015DV3</td>\n      <td>LLSPF7002-158003-5144</td>\n      <td>SAD-604-2020</td>\n      <td>COMPRA E INSTALACION DE LLANTAS PARA LA DIR. D...</td>\n      <td>TR</td>\n      <td>299001496.0</td>\n      <td>2020-12-23</td>\n      <td>259837.68</td>\n      <td>GASTOS VARIOS</td>\n    </tr>\n    <tr>\n      <th>7</th>\n      <td>110152</td>\n      <td>LLANTAS Y SERVICIOS SERNA ANAHUAC,S.A. DE C.V.</td>\n      <td>LSS841015DV3</td>\n      <td>LLSPF7005-158003-5138</td>\n      <td>SAD-604-2020</td>\n      <td>COMPRA E INSTALACION DE LLANTAS PARA LA DIR. D...</td>\n      <td>TR</td>\n      <td>299001496.0</td>\n      <td>2020-12-23</td>\n      <td>60937.12</td>\n      <td>GASTOS VARIOS</td>\n    </tr>\n    <tr>\n      <th>8</th>\n      <td>110152</td>\n      <td>LLANTAS Y SERVICIOS SERNA ANAHUAC,S.A. DE C.V.</td>\n      <td>LSS841015DV3</td>\n      <td>LLSPF7006-158003-5156</td>\n      <td>SAD-604-2020</td>\n      <td>COMPRA E INSTALACION DE LLANTAS PARA LA DIR. D...</td>\n      <td>TR</td>\n      <td>299001496.0</td>\n      <td>2020-12-23</td>\n      <td>367356.92</td>\n      <td>GASTOS VARIOS</td>\n    </tr>\n    <tr>\n      <th>9</th>\n      <td>110152</td>\n      <td>LLANTAS Y SERVICIOS SERNA ANAHUAC,S.A. DE C.V.</td>\n      <td>LSS841015DV3</td>\n      <td>LLSPF7019-158003-5431</td>\n      <td>SAD-604-2020</td>\n      <td>COMPRA E INSTALACION DE LLANTAS PARA LA DIR. D...</td>\n      <td>TR</td>\n      <td>299001496.0</td>\n      <td>2020-12-23</td>\n      <td>243906.24</td>\n      <td>GASTOS VARIOS</td>\n    </tr>\n  </tbody>\n</table>\n</div>"
     },
     "metadata": {}
    }
   ],
   "execution_count": 34
  },
  {
   "cell_type": "code",
   "source": "df_compras_dic_2020_completas.to_csv('./notebooks/data/clean_compras.csv', index=None)",
   "metadata": {
    "cell_id": "47547353-cd0b-42f0-95c2-47361535fb73",
    "tags": [],
    "deepnote_to_be_reexecuted": false,
    "source_hash": "be93e334",
    "execution_start": 1645992640713,
    "execution_millis": 32,
    "deepnote_cell_type": "code"
   },
   "outputs": [],
   "execution_count": 36
  },
  {
   "cell_type": "markdown",
   "source": "<a style='text-decoration:none;line-height:16px;display:flex;color:#5B5B62;padding:10px;justify-content:end;' href='https://deepnote.com?utm_source=created-in-deepnote-cell&projectId=78d56746-60d1-4ac1-b83c-59533b9e19b8' target=\"_blank\">\n<img alt='Created in deepnote.com' style='display:inline;max-height:16px;margin:0px;margin-right:7.5px;' src='data:image/svg+xml;base64,PD94bWwgdmVyc2lvbj0iMS4wIiBlbmNvZGluZz0iVVRGLTgiPz4KPHN2ZyB3aWR0aD0iODBweCIgaGVpZ2h0PSI4MHB4IiB2aWV3Qm94PSIwIDAgODAgODAiIHZlcnNpb249IjEuMSIgeG1sbnM9Imh0dHA6Ly93d3cudzMub3JnLzIwMDAvc3ZnIiB4bWxuczp4bGluaz0iaHR0cDovL3d3dy53My5vcmcvMTk5OS94bGluayI+CiAgICA8IS0tIEdlbmVyYXRvcjogU2tldGNoIDU0LjEgKDc2NDkwKSAtIGh0dHBzOi8vc2tldGNoYXBwLmNvbSAtLT4KICAgIDx0aXRsZT5Hcm91cCAzPC90aXRsZT4KICAgIDxkZXNjPkNyZWF0ZWQgd2l0aCBTa2V0Y2guPC9kZXNjPgogICAgPGcgaWQ9IkxhbmRpbmciIHN0cm9rZT0ibm9uZSIgc3Ryb2tlLXdpZHRoPSIxIiBmaWxsPSJub25lIiBmaWxsLXJ1bGU9ImV2ZW5vZGQiPgogICAgICAgIDxnIGlkPSJBcnRib2FyZCIgdHJhbnNmb3JtPSJ0cmFuc2xhdGUoLTEyMzUuMDAwMDAwLCAtNzkuMDAwMDAwKSI+CiAgICAgICAgICAgIDxnIGlkPSJHcm91cC0zIiB0cmFuc2Zvcm09InRyYW5zbGF0ZSgxMjM1LjAwMDAwMCwgNzkuMDAwMDAwKSI+CiAgICAgICAgICAgICAgICA8cG9seWdvbiBpZD0iUGF0aC0yMCIgZmlsbD0iIzAyNjVCNCIgcG9pbnRzPSIyLjM3NjIzNzYyIDgwIDM4LjA0NzY2NjcgODAgNTcuODIxNzgyMiA3My44MDU3NTkyIDU3LjgyMTc4MjIgMzIuNzU5MjczOSAzOS4xNDAyMjc4IDMxLjY4MzE2ODMiPjwvcG9seWdvbj4KICAgICAgICAgICAgICAgIDxwYXRoIGQ9Ik0zNS4wMDc3MTgsODAgQzQyLjkwNjIwMDcsNzYuNDU0OTM1OCA0Ny41NjQ5MTY3LDcxLjU0MjI2NzEgNDguOTgzODY2LDY1LjI2MTk5MzkgQzUxLjExMjI4OTksNTUuODQxNTg0MiA0MS42NzcxNzk1LDQ5LjIxMjIyODQgMjUuNjIzOTg0Niw0OS4yMTIyMjg0IEMyNS40ODQ5Mjg5LDQ5LjEyNjg0NDggMjkuODI2MTI5Niw0My4yODM4MjQ4IDM4LjY0NzU4NjksMzEuNjgzMTY4MyBMNzIuODcxMjg3MSwzMi41NTQ0MjUgTDY1LjI4MDk3Myw2Ny42NzYzNDIxIEw1MS4xMTIyODk5LDc3LjM3NjE0NCBMMzUuMDA3NzE4LDgwIFoiIGlkPSJQYXRoLTIyIiBmaWxsPSIjMDAyODY4Ij48L3BhdGg+CiAgICAgICAgICAgICAgICA8cGF0aCBkPSJNMCwzNy43MzA0NDA1IEwyNy4xMTQ1MzcsMC4yNTcxMTE0MzYgQzYyLjM3MTUxMjMsLTEuOTkwNzE3MDEgODAsMTAuNTAwMzkyNyA4MCwzNy43MzA0NDA1IEM4MCw2NC45NjA0ODgyIDY0Ljc3NjUwMzgsNzkuMDUwMzQxNCAzNC4zMjk1MTEzLDgwIEM0Ny4wNTUzNDg5LDc3LjU2NzA4MDggNTMuNDE4MjY3Nyw3MC4zMTM2MTAzIDUzLjQxODI2NzcsNTguMjM5NTg4NSBDNTMuNDE4MjY3Nyw0MC4xMjg1NTU3IDM2LjMwMzk1NDQsMzcuNzMwNDQwNSAyNS4yMjc0MTcsMzcuNzMwNDQwNSBDMTcuODQzMDU4NiwzNy43MzA0NDA1IDkuNDMzOTE5NjYsMzcuNzMwNDQwNSAwLDM3LjczMDQ0MDUgWiIgaWQ9IlBhdGgtMTkiIGZpbGw9IiMzNzkzRUYiPjwvcGF0aD4KICAgICAgICAgICAgPC9nPgogICAgICAgIDwvZz4KICAgIDwvZz4KPC9zdmc+' > </img>\nCreated in <span style='font-weight:600;margin-left:4px;'>Deepnote</span></a>",
   "metadata": {
    "tags": [],
    "created_in_deepnote_cell": true,
    "deepnote_cell_type": "markdown"
   }
  }
 ],
 "nbformat": 4,
 "nbformat_minor": 2,
 "metadata": {
  "orig_nbformat": 2,
  "deepnote": {
   "is_reactive": false
  },
  "deepnote_notebook_id": "dd8ae6a9-4137-4cf7-bce3-38eb1a8fa5cd",
  "deepnote_execution_queue": []
 }
}